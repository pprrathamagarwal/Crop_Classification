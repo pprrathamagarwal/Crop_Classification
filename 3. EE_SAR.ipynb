{
 "cells": [
  {
   "cell_type": "code",
   "execution_count": 1,
   "id": "56657aaf",
   "metadata": {},
   "outputs": [],
   "source": [
    "import ee\n",
    "import datetime\n",
    "import pandas as pd\n",
    "\n",
    "ee.Authenticate()\n",
    "ee.Initialize(project='ee-prathama76')"
   ]
  },
  {
   "cell_type": "markdown",
   "id": "a1da2c82",
   "metadata": {},
   "source": [
    "# EXTRACT SAR FOR A SINGLE FILE"
   ]
  },
  {
   "cell_type": "code",
   "execution_count": 2,
   "id": "6e4b7214",
   "metadata": {},
   "outputs": [
    {
     "name": "stdout",
     "output_type": "stream",
     "text": [
      "✅ SAR Export started. Monitor at https://code.earthengine.google.com/tasks\n"
     ]
    }
   ],
   "source": [
    "\n",
    "# Load CSV\n",
    "input_csv_path = 'Agrifield/Data/Agrifield.csv'\n",
    "df = pd.read_csv(input_csv_path)\n",
    "\n",
    "# Convert CSV rows to ee.FeatureCollection\n",
    "def row_to_feature(row):\n",
    "    geom = ee.Geometry.Point([row['longitude'], row['latitude']])\n",
    "    return ee.Feature(geom, {\n",
    "        'Latitude': row['latitude'],\n",
    "        'Longitude': row['longitude'],\n",
    "        'Crop_Name': row['Crop_Name']\n",
    "    })\n",
    "\n",
    "features = [row_to_feature(row) for _, row in df.iterrows()]\n",
    "feature_collection = ee.FeatureCollection(features)\n",
    "\n",
    "# Dates\n",
    "start_date = ee.Date('2021-04-01')\n",
    "end_date = ee.Date('2022-03-31')\n",
    "\n",
    "# Load Sentinel-1 data (VV, VH) and filter globally\n",
    "sentinel1 = ee.ImageCollection(\"COPERNICUS/S1_GRD\") \\\n",
    "    .filterDate(start_date, end_date) \\\n",
    "    .filter(ee.Filter.eq(\"instrumentMode\", \"IW\")) \\\n",
    "    .filter(ee.Filter.listContains(\"transmitterReceiverPolarisation\", \"VV\")) \\\n",
    "    .filter(ee.Filter.listContains(\"transmitterReceiverPolarisation\", \"VH\")) \\\n",
    "    .filterBounds(feature_collection) \\\n",
    "    .select([\"VV\", \"VH\"])\n",
    "\n",
    "# Function to reduce each image\n",
    "def process_image(image):\n",
    "    date = image.date().format(\"YYYY-MM-dd\")\n",
    "    pass_dir = image.get(\"orbitProperties_pass\")\n",
    "    reduced = image.reduceRegions(\n",
    "        collection=feature_collection,\n",
    "        reducer=ee.Reducer.mean(),\n",
    "        scale=10\n",
    "    ).map(lambda f: f.set(\"date\", date).set(\"Pass_Direction\", pass_dir))\n",
    "    return reduced\n",
    "\n",
    "# Apply processing function\n",
    "sar_data = sentinel1.map(process_image).flatten()\n",
    "\n",
    "# Export to Google Drive\n",
    "task = ee.batch.Export.table.toDrive(\n",
    "    collection=sar_data,\n",
    "    description='Begalavi_SAR_Data',\n",
    "    folder='Agrifield',\n",
    "    fileNamePrefix='Agrifield',\n",
    "    fileFormat='CSV'\n",
    ")\n",
    "task.start()\n",
    "\n",
    "print(\"✅ SAR Export started. Monitor at https://code.earthengine.google.com/tasks\")\n"
   ]
  },
  {
   "cell_type": "markdown",
   "id": "22e3ec0b",
   "metadata": {},
   "source": [
    "# EXTRACT SAR FOR A DIRECTORY"
   ]
  },
  {
   "cell_type": "code",
   "execution_count": 3,
   "id": "d9b95f28",
   "metadata": {},
   "outputs": [
    {
     "name": "stdout",
     "output_type": "stream",
     "text": [
      "🚀 Processing file: Karnataka_Datasets/Across/Kharif/Cropland_Masked/Cropland_Mask_2018_19/interpolated_Bidar_3_SAR_Data_part1_Masked.csv\n"
     ]
    },
    {
     "ename": "KeyError",
     "evalue": "'longitude'",
     "output_type": "error",
     "traceback": [
      "\u001b[1;31m---------------------------------------------------------------------------\u001b[0m",
      "\u001b[1;31mKeyError\u001b[0m                                  Traceback (most recent call last)",
      "File \u001b[1;32m~\\anaconda3\\Lib\\site-packages\\pandas\\core\\indexes\\base.py:3791\u001b[0m, in \u001b[0;36mIndex.get_loc\u001b[1;34m(self, key)\u001b[0m\n\u001b[0;32m   3790\u001b[0m \u001b[38;5;28;01mtry\u001b[39;00m:\n\u001b[1;32m-> 3791\u001b[0m     \u001b[38;5;28;01mreturn\u001b[39;00m \u001b[38;5;28mself\u001b[39m\u001b[38;5;241m.\u001b[39m_engine\u001b[38;5;241m.\u001b[39mget_loc(casted_key)\n\u001b[0;32m   3792\u001b[0m \u001b[38;5;28;01mexcept\u001b[39;00m \u001b[38;5;167;01mKeyError\u001b[39;00m \u001b[38;5;28;01mas\u001b[39;00m err:\n",
      "File \u001b[1;32mindex.pyx:152\u001b[0m, in \u001b[0;36mpandas._libs.index.IndexEngine.get_loc\u001b[1;34m()\u001b[0m\n",
      "File \u001b[1;32mindex.pyx:181\u001b[0m, in \u001b[0;36mpandas._libs.index.IndexEngine.get_loc\u001b[1;34m()\u001b[0m\n",
      "File \u001b[1;32mpandas\\_libs\\hashtable_class_helper.pxi:7080\u001b[0m, in \u001b[0;36mpandas._libs.hashtable.PyObjectHashTable.get_item\u001b[1;34m()\u001b[0m\n",
      "File \u001b[1;32mpandas\\_libs\\hashtable_class_helper.pxi:7088\u001b[0m, in \u001b[0;36mpandas._libs.hashtable.PyObjectHashTable.get_item\u001b[1;34m()\u001b[0m\n",
      "\u001b[1;31mKeyError\u001b[0m: 'longitude'",
      "\nThe above exception was the direct cause of the following exception:\n",
      "\u001b[1;31mKeyError\u001b[0m                                  Traceback (most recent call last)",
      "Cell \u001b[1;32mIn[3], line 54\u001b[0m\n\u001b[0;32m     51\u001b[0m df \u001b[38;5;241m=\u001b[39m pd\u001b[38;5;241m.\u001b[39mread_csv(csv_path)\n\u001b[0;32m     53\u001b[0m \u001b[38;5;66;03m# Convert to FeatureCollection\u001b[39;00m\n\u001b[1;32m---> 54\u001b[0m features \u001b[38;5;241m=\u001b[39m [row_to_feature(row) \u001b[38;5;28;01mfor\u001b[39;00m _, row \u001b[38;5;129;01min\u001b[39;00m df\u001b[38;5;241m.\u001b[39miterrows()]\n\u001b[0;32m     55\u001b[0m feature_collection \u001b[38;5;241m=\u001b[39m ee\u001b[38;5;241m.\u001b[39mFeatureCollection(features)\n\u001b[0;32m     57\u001b[0m \u001b[38;5;66;03m# Get Sentinel-1 images for this region\u001b[39;00m\n",
      "Cell \u001b[1;32mIn[3], line 54\u001b[0m, in \u001b[0;36m<listcomp>\u001b[1;34m(.0)\u001b[0m\n\u001b[0;32m     51\u001b[0m df \u001b[38;5;241m=\u001b[39m pd\u001b[38;5;241m.\u001b[39mread_csv(csv_path)\n\u001b[0;32m     53\u001b[0m \u001b[38;5;66;03m# Convert to FeatureCollection\u001b[39;00m\n\u001b[1;32m---> 54\u001b[0m features \u001b[38;5;241m=\u001b[39m [row_to_feature(row) \u001b[38;5;28;01mfor\u001b[39;00m _, row \u001b[38;5;129;01min\u001b[39;00m df\u001b[38;5;241m.\u001b[39miterrows()]\n\u001b[0;32m     55\u001b[0m feature_collection \u001b[38;5;241m=\u001b[39m ee\u001b[38;5;241m.\u001b[39mFeatureCollection(features)\n\u001b[0;32m     57\u001b[0m \u001b[38;5;66;03m# Get Sentinel-1 images for this region\u001b[39;00m\n",
      "Cell \u001b[1;32mIn[3], line 26\u001b[0m, in \u001b[0;36mrow_to_feature\u001b[1;34m(row)\u001b[0m\n\u001b[0;32m     25\u001b[0m \u001b[38;5;28;01mdef\u001b[39;00m \u001b[38;5;21mrow_to_feature\u001b[39m(row):\n\u001b[1;32m---> 26\u001b[0m     geom \u001b[38;5;241m=\u001b[39m ee\u001b[38;5;241m.\u001b[39mGeometry\u001b[38;5;241m.\u001b[39mPoint([row[\u001b[38;5;124m'\u001b[39m\u001b[38;5;124mlongitude\u001b[39m\u001b[38;5;124m'\u001b[39m], row[\u001b[38;5;124m'\u001b[39m\u001b[38;5;124mlatitude\u001b[39m\u001b[38;5;124m'\u001b[39m]])\n\u001b[0;32m     27\u001b[0m     \u001b[38;5;28;01mreturn\u001b[39;00m ee\u001b[38;5;241m.\u001b[39mFeature(geom, {\n\u001b[0;32m     28\u001b[0m         \u001b[38;5;124m'\u001b[39m\u001b[38;5;124mLatitude\u001b[39m\u001b[38;5;124m'\u001b[39m: row[\u001b[38;5;124m'\u001b[39m\u001b[38;5;124mlatitude\u001b[39m\u001b[38;5;124m'\u001b[39m],\n\u001b[0;32m     29\u001b[0m         \u001b[38;5;124m'\u001b[39m\u001b[38;5;124mLongitude\u001b[39m\u001b[38;5;124m'\u001b[39m: row[\u001b[38;5;124m'\u001b[39m\u001b[38;5;124mlongitude\u001b[39m\u001b[38;5;124m'\u001b[39m],\n\u001b[0;32m     30\u001b[0m         \u001b[38;5;124m'\u001b[39m\u001b[38;5;124mCrop_Name\u001b[39m\u001b[38;5;124m'\u001b[39m: row[\u001b[38;5;124m'\u001b[39m\u001b[38;5;124mCrop_Name\u001b[39m\u001b[38;5;124m'\u001b[39m]\n\u001b[0;32m     31\u001b[0m     })\n",
      "File \u001b[1;32m~\\anaconda3\\Lib\\site-packages\\pandas\\core\\series.py:1040\u001b[0m, in \u001b[0;36mSeries.__getitem__\u001b[1;34m(self, key)\u001b[0m\n\u001b[0;32m   1037\u001b[0m     \u001b[38;5;28;01mreturn\u001b[39;00m \u001b[38;5;28mself\u001b[39m\u001b[38;5;241m.\u001b[39m_values[key]\n\u001b[0;32m   1039\u001b[0m \u001b[38;5;28;01melif\u001b[39;00m key_is_scalar:\n\u001b[1;32m-> 1040\u001b[0m     \u001b[38;5;28;01mreturn\u001b[39;00m \u001b[38;5;28mself\u001b[39m\u001b[38;5;241m.\u001b[39m_get_value(key)\n\u001b[0;32m   1042\u001b[0m \u001b[38;5;66;03m# Convert generator to list before going through hashable part\u001b[39;00m\n\u001b[0;32m   1043\u001b[0m \u001b[38;5;66;03m# (We will iterate through the generator there to check for slices)\u001b[39;00m\n\u001b[0;32m   1044\u001b[0m \u001b[38;5;28;01mif\u001b[39;00m is_iterator(key):\n",
      "File \u001b[1;32m~\\anaconda3\\Lib\\site-packages\\pandas\\core\\series.py:1156\u001b[0m, in \u001b[0;36mSeries._get_value\u001b[1;34m(self, label, takeable)\u001b[0m\n\u001b[0;32m   1153\u001b[0m     \u001b[38;5;28;01mreturn\u001b[39;00m \u001b[38;5;28mself\u001b[39m\u001b[38;5;241m.\u001b[39m_values[label]\n\u001b[0;32m   1155\u001b[0m \u001b[38;5;66;03m# Similar to Index.get_value, but we do not fall back to positional\u001b[39;00m\n\u001b[1;32m-> 1156\u001b[0m loc \u001b[38;5;241m=\u001b[39m \u001b[38;5;28mself\u001b[39m\u001b[38;5;241m.\u001b[39mindex\u001b[38;5;241m.\u001b[39mget_loc(label)\n\u001b[0;32m   1158\u001b[0m \u001b[38;5;28;01mif\u001b[39;00m is_integer(loc):\n\u001b[0;32m   1159\u001b[0m     \u001b[38;5;28;01mreturn\u001b[39;00m \u001b[38;5;28mself\u001b[39m\u001b[38;5;241m.\u001b[39m_values[loc]\n",
      "File \u001b[1;32m~\\anaconda3\\Lib\\site-packages\\pandas\\core\\indexes\\base.py:3798\u001b[0m, in \u001b[0;36mIndex.get_loc\u001b[1;34m(self, key)\u001b[0m\n\u001b[0;32m   3793\u001b[0m     \u001b[38;5;28;01mif\u001b[39;00m \u001b[38;5;28misinstance\u001b[39m(casted_key, \u001b[38;5;28mslice\u001b[39m) \u001b[38;5;129;01mor\u001b[39;00m (\n\u001b[0;32m   3794\u001b[0m         \u001b[38;5;28misinstance\u001b[39m(casted_key, abc\u001b[38;5;241m.\u001b[39mIterable)\n\u001b[0;32m   3795\u001b[0m         \u001b[38;5;129;01mand\u001b[39;00m \u001b[38;5;28many\u001b[39m(\u001b[38;5;28misinstance\u001b[39m(x, \u001b[38;5;28mslice\u001b[39m) \u001b[38;5;28;01mfor\u001b[39;00m x \u001b[38;5;129;01min\u001b[39;00m casted_key)\n\u001b[0;32m   3796\u001b[0m     ):\n\u001b[0;32m   3797\u001b[0m         \u001b[38;5;28;01mraise\u001b[39;00m InvalidIndexError(key)\n\u001b[1;32m-> 3798\u001b[0m     \u001b[38;5;28;01mraise\u001b[39;00m \u001b[38;5;167;01mKeyError\u001b[39;00m(key) \u001b[38;5;28;01mfrom\u001b[39;00m \u001b[38;5;21;01merr\u001b[39;00m\n\u001b[0;32m   3799\u001b[0m \u001b[38;5;28;01mexcept\u001b[39;00m \u001b[38;5;167;01mTypeError\u001b[39;00m:\n\u001b[0;32m   3800\u001b[0m     \u001b[38;5;66;03m# If we have a listlike key, _check_indexing_error will raise\u001b[39;00m\n\u001b[0;32m   3801\u001b[0m     \u001b[38;5;66;03m#  InvalidIndexError. Otherwise we fall through and re-raise\u001b[39;00m\n\u001b[0;32m   3802\u001b[0m     \u001b[38;5;66;03m#  the TypeError.\u001b[39;00m\n\u001b[0;32m   3803\u001b[0m     \u001b[38;5;28mself\u001b[39m\u001b[38;5;241m.\u001b[39m_check_indexing_error(key)\n",
      "\u001b[1;31mKeyError\u001b[0m: 'longitude'"
     ]
    }
   ],
   "source": [
    "import ee\n",
    "import os\n",
    "import pandas as pd\n",
    "\n",
    "ee.Initialize()\n",
    "\n",
    "# Set directory path containing the CSV files\n",
    "input_directory = 'Karnataka_Datasets/Across/Kharif/Cropland_Masked/Cropland_Mask_2018_19/'\n",
    "\n",
    "# Define processing dates\n",
    "start_date = ee.Date('2018-04-01')\n",
    "end_date = ee.Date('2019-03-31')\n",
    "\n",
    "# Load Sentinel-1 ImageCollection\n",
    "def get_sentinel1_collection(bounds):\n",
    "    return ee.ImageCollection(\"COPERNICUS/S1_GRD\") \\\n",
    "        .filterDate(start_date, end_date) \\\n",
    "        .filter(ee.Filter.eq(\"instrumentMode\", \"IW\")) \\\n",
    "        .filter(ee.Filter.listContains(\"transmitterReceiverPolarisation\", \"VV\")) \\\n",
    "        .filter(ee.Filter.listContains(\"transmitterReceiverPolarisation\", \"VH\")) \\\n",
    "        .filterBounds(bounds) \\\n",
    "        .select([\"VV\", \"VH\"])\n",
    "\n",
    "# Convert each row of a DataFrame to an ee.Feature\n",
    "def row_to_feature(row):\n",
    "    geom = ee.Geometry.Point([row['longitude'], row['latitude']])\n",
    "    return ee.Feature(geom, {\n",
    "        'Latitude': row['latitude'],\n",
    "        'Longitude': row['longitude'],\n",
    "        'Crop_Name': row['Crop_Name']\n",
    "    })\n",
    "\n",
    "# Reduce image per feature\n",
    "def process_image(image, feature_collection):\n",
    "    date = image.date().format(\"YYYY-MM-dd\")\n",
    "    pass_dir = image.get(\"orbitProperties_pass\")\n",
    "    reduced = image.reduceRegions(\n",
    "        collection=feature_collection,\n",
    "        reducer=ee.Reducer.mean(),\n",
    "        scale=10\n",
    "    ).map(lambda f: f.set(\"date\", date).set(\"Pass_Direction\", pass_dir))\n",
    "    return reduced\n",
    "\n",
    "# Process each CSV file\n",
    "for filename in os.listdir(input_directory):\n",
    "    if filename.endswith(\".csv\"):\n",
    "        csv_path = os.path.join(input_directory, filename)\n",
    "        print(f\"🚀 Processing file: {csv_path}\")\n",
    "\n",
    "        # Read CSV\n",
    "        df = pd.read_csv(csv_path)\n",
    "\n",
    "        # Convert to FeatureCollection\n",
    "        features = [row_to_feature(row) for _, row in df.iterrows()]\n",
    "        feature_collection = ee.FeatureCollection(features)\n",
    "\n",
    "        # Get Sentinel-1 images for this region\n",
    "        sentinel1 = get_sentinel1_collection(feature_collection)\n",
    "\n",
    "        # Apply image processing\n",
    "        sar_data = sentinel1.map(lambda image: process_image(image, feature_collection)).flatten()\n",
    "\n",
    "        # Set output task parameters\n",
    "        base_name = os.path.splitext(filename)[0]\n",
    "        task = ee.batch.Export.table.toDrive(\n",
    "            collection=sar_data,\n",
    "            description=f'{base_name}_SAR_Export',\n",
    "            folder='Cropland_Masked_2018_19',\n",
    "            fileNamePrefix=f'{base_name}_SAR_Data_Masked',\n",
    "            fileFormat='CSV'\n",
    "        )\n",
    "        task.start()\n",
    "        print(f\"✅ Export started for {filename}. Monitor at https://code.earthengine.google.com/tasks\")\n"
   ]
  },
  {
   "cell_type": "code",
   "execution_count": null,
   "id": "5b3c8b78",
   "metadata": {},
   "outputs": [],
   "source": []
  }
 ],
 "metadata": {
  "kernelspec": {
   "display_name": "Python 3 (ipykernel)",
   "language": "python",
   "name": "python3"
  },
  "language_info": {
   "codemirror_mode": {
    "name": "ipython",
    "version": 3
   },
   "file_extension": ".py",
   "mimetype": "text/x-python",
   "name": "python",
   "nbconvert_exporter": "python",
   "pygments_lexer": "ipython3",
   "version": "3.11.7"
  }
 },
 "nbformat": 4,
 "nbformat_minor": 5
}
