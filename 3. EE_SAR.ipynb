{
 "cells": [
  {
   "cell_type": "code",
   "execution_count": 1,
   "id": "56657aaf",
   "metadata": {},
   "outputs": [
    {
     "data": {
      "text/html": [
       "<p>To authorize access needed by Earth Engine, open the following\n",
       "        URL in a web browser and follow the instructions:</p>\n",
       "        <p><a href=https://code.earthengine.google.com/client-auth?scopes=https%3A//www.googleapis.com/auth/earthengine%20https%3A//www.googleapis.com/auth/cloud-platform%20https%3A//www.googleapis.com/auth/devstorage.full_control&request_id=rTL-saV_q0x--T_hxh0atZsNNon6wobsNoGJkMIhWCo&tc=1qTu_KKOWG0OoQ0EKK7Vzqjemr8LLPInPgt2tthtwcI&cc=gVWGTL3vznMnQCtuPvz1y3JHH4k577fZFkUvvvwWyMQ>https://code.earthengine.google.com/client-auth?scopes=https%3A//www.googleapis.com/auth/earthengine%20https%3A//www.googleapis.com/auth/cloud-platform%20https%3A//www.googleapis.com/auth/devstorage.full_control&request_id=rTL-saV_q0x--T_hxh0atZsNNon6wobsNoGJkMIhWCo&tc=1qTu_KKOWG0OoQ0EKK7Vzqjemr8LLPInPgt2tthtwcI&cc=gVWGTL3vznMnQCtuPvz1y3JHH4k577fZFkUvvvwWyMQ</a></p>\n",
       "        <p>The authorization workflow will generate a code, which you should paste in the box below.</p>\n",
       "        "
      ],
      "text/plain": [
       "<IPython.core.display.HTML object>"
      ]
     },
     "metadata": {},
     "output_type": "display_data"
    },
    {
     "name": "stdout",
     "output_type": "stream",
     "text": [
      "Enter verification code: 4/1AUJR-x52yg-cJeJ2Z_toB-0C2tdKa3zxhpGxiT6CmpJQyB_QUY7hI1Bf5Vg\n",
      "\n",
      "Successfully saved authorization token.\n"
     ]
    }
   ],
   "source": [
    "import ee\n",
    "import datetime\n",
    "import pandas as pd\n",
    "\n",
    "ee.Authenticate()\n",
    "ee.Initialize(project='ee-prathama76')"
   ]
  },
  {
   "cell_type": "markdown",
   "id": "a1da2c82",
   "metadata": {},
   "source": [
    "# EXTRACT SAR FOR A SINGLE FILE"
   ]
  },
  {
   "cell_type": "code",
   "execution_count": 5,
   "id": "6e4b7214",
   "metadata": {},
   "outputs": [
    {
     "name": "stdout",
     "output_type": "stream",
     "text": [
      "✅ SAR Export started. Monitor at https://code.earthengine.google.com/tasks\n"
     ]
    }
   ],
   "source": [
    "\n",
    "# Load CSV\n",
    "input_csv_path = 'Karnataka_Datasets/Across/Begalavi/Begalavi_Chunks/Begalavi_4.csv'\n",
    "df = pd.read_csv(input_csv_path)\n",
    "\n",
    "# Convert CSV rows to ee.FeatureCollection\n",
    "def row_to_feature(row):\n",
    "    geom = ee.Geometry.Point([row['Longitude'], row['Latitude']])\n",
    "    return ee.Feature(geom, {\n",
    "        'Latitude': row['Latitude'],\n",
    "        'Longitude': row['Longitude'],\n",
    "        'Crop_Name': row['Crop_Name']\n",
    "    })\n",
    "\n",
    "features = [row_to_feature(row) for _, row in df.iterrows()]\n",
    "feature_collection = ee.FeatureCollection(features)\n",
    "\n",
    "# Dates\n",
    "start_date = ee.Date('2021-04-01')\n",
    "end_date = ee.Date('2022-03-31')\n",
    "\n",
    "# Load Sentinel-1 data (VV, VH) and filter globally\n",
    "sentinel1 = ee.ImageCollection(\"COPERNICUS/S1_GRD\") \\\n",
    "    .filterDate(start_date, end_date) \\\n",
    "    .filter(ee.Filter.eq(\"instrumentMode\", \"IW\")) \\\n",
    "    .filter(ee.Filter.listContains(\"transmitterReceiverPolarisation\", \"VV\")) \\\n",
    "    .filter(ee.Filter.listContains(\"transmitterReceiverPolarisation\", \"VH\")) \\\n",
    "    .filterBounds(feature_collection) \\\n",
    "    .select([\"VV\", \"VH\"])\n",
    "\n",
    "# Function to reduce each image\n",
    "def process_image(image):\n",
    "    date = image.date().format(\"YYYY-MM-dd\")\n",
    "    pass_dir = image.get(\"orbitProperties_pass\")\n",
    "    reduced = image.reduceRegions(\n",
    "        collection=feature_collection,\n",
    "        reducer=ee.Reducer.mean(),\n",
    "        scale=10\n",
    "    ).map(lambda f: f.set(\"date\", date).set(\"Pass_Direction\", pass_dir))\n",
    "    return reduced\n",
    "\n",
    "# Apply processing function\n",
    "sar_data = sentinel1.map(process_image).flatten()\n",
    "\n",
    "# Export to Google Drive\n",
    "task = ee.batch.Export.table.toDrive(\n",
    "    collection=sar_data,\n",
    "    description='Begalavi_SAR_Data',\n",
    "    folder='EarthEngine_VI_Begalavi',\n",
    "    fileNamePrefix='Begalavi_SAR_Data_4',\n",
    "    fileFormat='CSV'\n",
    ")\n",
    "task.start()\n",
    "\n",
    "print(\"✅ SAR Export started. Monitor at https://code.earthengine.google.com/tasks\")\n"
   ]
  },
  {
   "cell_type": "markdown",
   "id": "22e3ec0b",
   "metadata": {},
   "source": [
    "# EXTRACT SAR FOR A DIRECTORY"
   ]
  },
  {
   "cell_type": "code",
   "execution_count": 6,
   "id": "d9b95f28",
   "metadata": {},
   "outputs": [
    {
     "name": "stdout",
     "output_type": "stream",
     "text": [
      "🚀 Processing file: Karnataka_Datasets/Across/Kharif/Mandya/CSVs/data/2021-22/Mandya_1.csv\n",
      "✅ Export started for Mandya_1.csv. Monitor at https://code.earthengine.google.com/tasks\n",
      "🚀 Processing file: Karnataka_Datasets/Across/Kharif/Mandya/CSVs/data/2021-22/Mandya_10.csv\n",
      "✅ Export started for Mandya_10.csv. Monitor at https://code.earthengine.google.com/tasks\n",
      "🚀 Processing file: Karnataka_Datasets/Across/Kharif/Mandya/CSVs/data/2021-22/Mandya_2.csv\n",
      "✅ Export started for Mandya_2.csv. Monitor at https://code.earthengine.google.com/tasks\n",
      "🚀 Processing file: Karnataka_Datasets/Across/Kharif/Mandya/CSVs/data/2021-22/Mandya_3.csv\n",
      "✅ Export started for Mandya_3.csv. Monitor at https://code.earthengine.google.com/tasks\n",
      "🚀 Processing file: Karnataka_Datasets/Across/Kharif/Mandya/CSVs/data/2021-22/Mandya_4.csv\n",
      "✅ Export started for Mandya_4.csv. Monitor at https://code.earthengine.google.com/tasks\n",
      "🚀 Processing file: Karnataka_Datasets/Across/Kharif/Mandya/CSVs/data/2021-22/Mandya_5.csv\n",
      "✅ Export started for Mandya_5.csv. Monitor at https://code.earthengine.google.com/tasks\n",
      "🚀 Processing file: Karnataka_Datasets/Across/Kharif/Mandya/CSVs/data/2021-22/Mandya_6.csv\n",
      "✅ Export started for Mandya_6.csv. Monitor at https://code.earthengine.google.com/tasks\n",
      "🚀 Processing file: Karnataka_Datasets/Across/Kharif/Mandya/CSVs/data/2021-22/Mandya_7.csv\n",
      "✅ Export started for Mandya_7.csv. Monitor at https://code.earthengine.google.com/tasks\n",
      "🚀 Processing file: Karnataka_Datasets/Across/Kharif/Mandya/CSVs/data/2021-22/Mandya_8.csv\n",
      "✅ Export started for Mandya_8.csv. Monitor at https://code.earthengine.google.com/tasks\n",
      "🚀 Processing file: Karnataka_Datasets/Across/Kharif/Mandya/CSVs/data/2021-22/Mandya_9.csv\n",
      "✅ Export started for Mandya_9.csv. Monitor at https://code.earthengine.google.com/tasks\n"
     ]
    }
   ],
   "source": [
    "import ee\n",
    "import os\n",
    "import pandas as pd\n",
    "\n",
    "ee.Initialize()\n",
    "\n",
    "# Set directory path containing the CSV files\n",
    "input_directory = 'Karnataka_Datasets/Across/Kharif/Mandya/CSVs/data/2021-22/'\n",
    "\n",
    "# Define processing dates\n",
    "start_date = ee.Date('2021-04-01')\n",
    "end_date = ee.Date('2022-03-31')\n",
    "\n",
    "# Load Sentinel-1 ImageCollection\n",
    "def get_sentinel1_collection(bounds):\n",
    "    return ee.ImageCollection(\"COPERNICUS/S1_GRD\") \\\n",
    "        .filterDate(start_date, end_date) \\\n",
    "        .filter(ee.Filter.eq(\"instrumentMode\", \"IW\")) \\\n",
    "        .filter(ee.Filter.listContains(\"transmitterReceiverPolarisation\", \"VV\")) \\\n",
    "        .filter(ee.Filter.listContains(\"transmitterReceiverPolarisation\", \"VH\")) \\\n",
    "        .filterBounds(bounds) \\\n",
    "        .select([\"VV\", \"VH\"])\n",
    "\n",
    "# Convert each row of a DataFrame to an ee.Feature\n",
    "def row_to_feature(row):\n",
    "    geom = ee.Geometry.Point([row['Longitude'], row['Latitude']])\n",
    "    return ee.Feature(geom, {\n",
    "        'Latitude': row['Latitude'],\n",
    "        'Longitude': row['Longitude'],\n",
    "        'Crop_Name': row['Crop_Name']\n",
    "    })\n",
    "\n",
    "# Reduce image per feature\n",
    "def process_image(image, feature_collection):\n",
    "    date = image.date().format(\"YYYY-MM-dd\")\n",
    "    pass_dir = image.get(\"orbitProperties_pass\")\n",
    "    reduced = image.reduceRegions(\n",
    "        collection=feature_collection,\n",
    "        reducer=ee.Reducer.mean(),\n",
    "        scale=10\n",
    "    ).map(lambda f: f.set(\"date\", date).set(\"Pass_Direction\", pass_dir))\n",
    "    return reduced\n",
    "\n",
    "# Process each CSV file\n",
    "for filename in os.listdir(input_directory):\n",
    "    if filename.endswith(\".csv\"):\n",
    "        csv_path = os.path.join(input_directory, filename)\n",
    "        print(f\"🚀 Processing file: {csv_path}\")\n",
    "\n",
    "        # Read CSV\n",
    "        df = pd.read_csv(csv_path)\n",
    "\n",
    "        # Convert to FeatureCollection\n",
    "        features = [row_to_feature(row) for _, row in df.iterrows()]\n",
    "        feature_collection = ee.FeatureCollection(features)\n",
    "\n",
    "        # Get Sentinel-1 images for this region\n",
    "        sentinel1 = get_sentinel1_collection(feature_collection)\n",
    "\n",
    "        # Apply image processing\n",
    "        sar_data = sentinel1.map(lambda image: process_image(image, feature_collection)).flatten()\n",
    "\n",
    "        # Set output task parameters\n",
    "        base_name = os.path.splitext(filename)[0]\n",
    "        task = ee.batch.Export.table.toDrive(\n",
    "            collection=sar_data,\n",
    "            description=f'{base_name}_SAR_Export',\n",
    "            folder='EarthEngine_VI_Mandya_2021',\n",
    "            fileNamePrefix=f'{base_name}_SAR_Data',\n",
    "            fileFormat='CSV'\n",
    "        )\n",
    "        task.start()\n",
    "        print(f\"✅ Export started for {filename}. Monitor at https://code.earthengine.google.com/tasks\")\n"
   ]
  }
 ],
 "metadata": {
  "kernelspec": {
   "display_name": "Python 3 (ipykernel)",
   "language": "python",
   "name": "python3"
  },
  "language_info": {
   "codemirror_mode": {
    "name": "ipython",
    "version": 3
   },
   "file_extension": ".py",
   "mimetype": "text/x-python",
   "name": "python",
   "nbconvert_exporter": "python",
   "pygments_lexer": "ipython3",
   "version": "3.11.7"
  }
 },
 "nbformat": 4,
 "nbformat_minor": 5
}
