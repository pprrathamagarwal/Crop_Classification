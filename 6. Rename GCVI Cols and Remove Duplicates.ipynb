{
 "cells": [
  {
   "cell_type": "code",
   "execution_count": 1,
   "id": "159b27ad",
   "metadata": {},
   "outputs": [],
   "source": [
    "import numpy as np\n",
    "import pandas as pd"
   ]
  },
  {
   "cell_type": "code",
   "execution_count": null,
   "id": "a682d586",
   "metadata": {},
   "outputs": [],
   "source": [
    "# Path to the directory with CSV files\n",
    "input_dir = \"Karnataka_Datasets/Across/Begalavi/SAR_NDVI/\"\n",
    "all_files = glob.glob(os.path.join(input_dir, \"*.csv\"))\n",
    "\n",
    "# Read and concatenate all CSV files\n",
    "df_list = [pd.read_csv(file) for file in all_files]\n",
    "df = pd.concat(df_list, ignore_index=True)\n",
    "\n",
    "# Drop 'system:index'\n",
    "df.drop(columns=['system:index'], inplace=True, errors='ignore')\n",
    "\n",
    "# Extract column names\n",
    "columns = df.columns\n",
    "\n",
    "# Get and sort NDVI columns (e.g., '0_gapfilled_NDVI_lsc')\n",
    "ndvi_cols = sorted(\n",
    "    [col for col in columns if col.endswith('_gapfilled_NDVI_lsc')],\n",
    "    key=lambda x: int(re.match(r\"(\\d+)_gapfilled_NDVI_lsc\", x).group(1))\n",
    ")\n",
    "\n",
    "# Rename to GCVI_{i+1}\n",
    "ndvi_renamed = {col: f'GCVI_{i+1}' for i, col in enumerate(ndvi_cols)}\n",
    "\n",
    "# Get and sort VH columns (e.g., 'VH_1', 'VH_2')\n",
    "vh_cols = sorted(\n",
    "    [col for col in columns if col.startswith('VH_')],\n",
    "    key=lambda x: int(re.match(r'VH_(\\d+)', x).group(1))\n",
    ")\n",
    "\n",
    "# Get and sort VV columns (e.g., 'VV_1', 'VV_2')\n",
    "vv_cols = sorted(\n",
    "    [col for col in columns if col.startswith('VV_')],\n",
    "    key=lambda x: int(re.match(r'VV_(\\d+)', x).group(1))\n",
    ")\n",
    "\n",
    "# Apply renaming\n",
    "df.rename(columns=ndvi_renamed, inplace=True)\n",
    "\n",
    "# Final columns in desired order\n",
    "final_columns = ['Crop_Name', '.geo'] + list(ndvi_renamed.values()) + vh_cols + vv_cols\n",
    "\n",
    "# Reorder columns\n",
    "df = df[final_columns]\n",
    "\n",
    "# Save the result (optional)\n",
    "df.to_csv(os.path.join(input_dir, \"Begalavi_SAR_NDVI.csv\"), index=False)"
   ]
  },
  {
   "cell_type": "markdown",
   "id": "726922cf",
   "metadata": {},
   "source": [
    "# Remove Duplicate VV, VH and GCVI Rows"
   ]
  },
  {
   "cell_type": "code",
   "execution_count": null,
   "id": "234195b2",
   "metadata": {},
   "outputs": [],
   "source": [
    "# Load CSV\n",
    "df = pd.read_csv('your_file.csv')\n",
    "\n",
    "# Identify time series column groups\n",
    "vv_cols = [col for col in df.columns if col.startswith('VV_')]\n",
    "vh_cols = [col for col in df.columns if col.startswith('VH_')]\n",
    "gcvi_cols = [col for col in df.columns if col.startswith('GCVI_')]\n",
    "\n",
    "# Helper: mark all duplicates except the first\n",
    "def mark_duplicates(df, cols):\n",
    "    sequences = df[cols].apply(lambda row: tuple(row), axis=1)\n",
    "    return sequences.duplicated(keep='first')  # only mark subsequent duplicates\n",
    "\n",
    "# Identify rows to drop (any duplicate in any group)\n",
    "vv_dup = mark_duplicates(df, vv_cols)\n",
    "vh_dup = mark_duplicates(df, vh_cols)\n",
    "gcvi_dup = mark_duplicates(df, gcvi_cols)\n",
    "\n",
    "# Create a final mask: keep only rows that are not marked duplicate in any group\n",
    "mask = ~(vv_dup | vh_dup | gcvi_dup)\n",
    "\n",
    "# Filter and save\n",
    "filtered_df = df[mask]\n",
    "filtered_df.to_csv('filtered_unique_timeseries.csv', index=False)\n",
    "\n",
    "print(\"✅ Saved filtered file with first occurrences kept as 'filtered_unique_timeseries.csv'\")\n"
   ]
  }
 ],
 "metadata": {
  "kernelspec": {
   "display_name": "Python 3 (ipykernel)",
   "language": "python",
   "name": "python3"
  },
  "language_info": {
   "codemirror_mode": {
    "name": "ipython",
    "version": 3
   },
   "file_extension": ".py",
   "mimetype": "text/x-python",
   "name": "python",
   "nbconvert_exporter": "python",
   "pygments_lexer": "ipython3",
   "version": "3.11.7"
  }
 },
 "nbformat": 4,
 "nbformat_minor": 5
}
