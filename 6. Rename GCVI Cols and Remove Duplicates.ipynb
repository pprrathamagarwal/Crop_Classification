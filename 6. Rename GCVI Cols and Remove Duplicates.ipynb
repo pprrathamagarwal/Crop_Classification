{
 "cells": [
  {
   "cell_type": "code",
   "execution_count": 1,
   "id": "159b27ad",
   "metadata": {},
   "outputs": [],
   "source": [
    "import numpy as np\n",
    "import pandas as pd\n",
    "import glob\n",
    "import os\n",
    "import re"
   ]
  },
  {
   "cell_type": "code",
   "execution_count": 2,
   "id": "a682d586",
   "metadata": {},
   "outputs": [
    {
     "name": "stdout",
     "output_type": "stream",
     "text": [
      "Processed and saved: Karnataka_Datasets/Across/Kharif/2019-20/SAR_GCVI/AEZ_6/M\\bijapura_merged.csv\n"
     ]
    }
   ],
   "source": [
    "# Path to the directory with CSV files\n",
    "input_dir = 'Karnataka_Datasets/Across/Kharif/2019-20/SAR_GCVI/AEZ_6/M/'\n",
    "all_files = glob.glob(os.path.join(input_dir, \"*.csv\"))\n",
    "\n",
    "for file_path in all_files:\n",
    "    try:\n",
    "        df = pd.read_csv(file_path)\n",
    "\n",
    "        # Drop 'system:index' if it exists\n",
    "        df.drop(columns=['system:index'], inplace=True, errors='ignore')\n",
    "\n",
    "        # Extract column names\n",
    "        columns = df.columns\n",
    "\n",
    "        # Get and sort NDVI columns (e.g., '0_gapfilled_NDVI_lsc')\n",
    "        ndvi_cols = sorted(\n",
    "            [col for col in columns if col.endswith('_gapfilled_NDVI_lsc')],\n",
    "            key=lambda x: int(re.match(r\"(\\d+)_gapfilled_NDVI_lsc\", x).group(1))\n",
    "        )\n",
    "\n",
    "        # Rename to GCVI_{i+1}\n",
    "        ndvi_renamed = {col: f'GCVI_{i+1}' for i, col in enumerate(ndvi_cols)}\n",
    "        df.rename(columns=ndvi_renamed, inplace=True)\n",
    "\n",
    "        # Get and sort VH columns (e.g., 'VH_1', 'VH_2')\n",
    "        vh_cols = sorted(\n",
    "            [col for col in df.columns if col.startswith('VH_')],\n",
    "            key=lambda x: int(re.match(r'VH_(\\d+)', x).group(1))\n",
    "        )\n",
    "\n",
    "        # Get and sort VV columns (e.g., 'VV_1', 'VV_2')\n",
    "        vv_cols = sorted(\n",
    "            [col for col in df.columns if col.startswith('VV_')],\n",
    "            key=lambda x: int(re.match(r'VV_(\\d+)', x).group(1))\n",
    "        )\n",
    "\n",
    "        # Construct final column order\n",
    "        final_columns = ['Crop_Name']\n",
    "        if '.geo' in df.columns:\n",
    "            final_columns.append('.geo')\n",
    "        final_columns += list(ndvi_renamed.values()) + vh_cols + vv_cols\n",
    "\n",
    "        # Reorder columns safely\n",
    "        df = df[[col for col in final_columns if col in df.columns]]\n",
    "\n",
    "        # Save in place\n",
    "        df.to_csv(file_path, index=False)\n",
    "        print(f\"Processed and saved: {file_path}\")\n",
    "\n",
    "    except Exception as e:\n",
    "        print(f\"Error processing {file_path}: {e}\")"
   ]
  },
  {
   "cell_type": "markdown",
   "id": "08d26689",
   "metadata": {},
   "source": [
    "# RENAME VV, VH COLS"
   ]
  },
  {
   "cell_type": "code",
   "execution_count": 5,
   "id": "16596078",
   "metadata": {},
   "outputs": [
    {
     "name": "stdout",
     "output_type": "stream",
     "text": [
      "Processing: Karnataka_Datasets/Across/Kharif/Cropland_Masked/Cropland_Mask_2021_22/AEZ_6/bidar_merged.csv\n",
      "Processing: Karnataka_Datasets/Across/Kharif/Cropland_Masked/Cropland_Mask_2021_22/AEZ_6/dharwad_merged.csv\n",
      "Processing: Karnataka_Datasets/Across/Kharif/Cropland_Masked/Cropland_Mask_2021_22/AEZ_6/raichur_merged.csv\n"
     ]
    }
   ],
   "source": [
    "# Base directory containing all CSVs\n",
    "base_dir = 'Karnataka_Datasets/Across/Kharif/Cropland_Masked/Cropland_Mask_2021_22/AEZ_6/'\n",
    "\n",
    "# Function to extract date from column name\n",
    "def extract_date(col):\n",
    "    match = re.search(r'\\d{4}-\\d{2}-\\d{2}', col)\n",
    "    return match.group() if match else None\n",
    "\n",
    "# Traverse all directories and process each CSV\n",
    "for root, _, files in os.walk(base_dir):\n",
    "    for file in files:\n",
    "        if file.endswith('.csv'):\n",
    "            file_path = os.path.join(root, file)\n",
    "            print(f\"Processing: {file_path}\")\n",
    "            try:\n",
    "                df = pd.read_csv(file_path)\n",
    "\n",
    "                # Extract VV and VH columns\n",
    "                vv_cols = [col for col in df.columns if col.startswith('VV_')]\n",
    "                vh_cols = [col for col in df.columns if col.startswith('VH_')]\n",
    "\n",
    "                # Sort columns by date\n",
    "                vv_cols_sorted = sorted(vv_cols, key=extract_date)\n",
    "                vh_cols_sorted = sorted(vh_cols, key=extract_date)\n",
    "\n",
    "                # Create rename maps\n",
    "                vv_rename_map = {col: f'VV_{i+1}' for i, col in enumerate(vv_cols_sorted)}\n",
    "                vh_rename_map = {col: f'VH_{i+1}' for i, col in enumerate(vh_cols_sorted)}\n",
    "\n",
    "                # Apply renaming\n",
    "                df.rename(columns={**vv_rename_map, **vh_rename_map}, inplace=True)\n",
    "\n",
    "                # Save back to the same file\n",
    "                df.to_csv(file_path, index=False)\n",
    "\n",
    "            except Exception as e:\n",
    "                print(f\"Failed to process {file_path}: {e}\")"
   ]
  },
  {
   "cell_type": "markdown",
   "id": "726922cf",
   "metadata": {},
   "source": [
    "# Remove Duplicate VV, VH and GCVI Rows"
   ]
  },
  {
   "cell_type": "code",
   "execution_count": 9,
   "id": "234195b2",
   "metadata": {},
   "outputs": [
    {
     "name": "stdout",
     "output_type": "stream",
     "text": [
      "✅ Filtered and saved: Karnataka_Datasets/Across/Kharif/Cropland_Masked/Cropland_Mask_2021_22/AEZ_6\\bidar_merged.csv\n",
      "✅ Filtered and saved: Karnataka_Datasets/Across/Kharif/Cropland_Masked/Cropland_Mask_2021_22/AEZ_6\\dharwad_merged.csv\n",
      "✅ Filtered and saved: Karnataka_Datasets/Across/Kharif/Cropland_Masked/Cropland_Mask_2021_22/AEZ_6\\raichur_merged.csv\n"
     ]
    }
   ],
   "source": [
    "# Directory containing CSV files\n",
    "input_dir = 'Karnataka_Datasets/Across/Kharif/Cropland_Masked/Cropland_Mask_2021_22/AEZ_6/'\n",
    "all_files = glob.glob(os.path.join(input_dir, \"*.csv\"))\n",
    "\n",
    "# Helper function to mark duplicates in a group\n",
    "def mark_duplicates(df, cols):\n",
    "    sequences = df[cols].apply(lambda row: tuple(row), axis=1)\n",
    "    return sequences.duplicated(keep='first')\n",
    "\n",
    "for file_path in all_files:\n",
    "    try:\n",
    "        df = pd.read_csv(file_path)\n",
    "\n",
    "        # Identify time series columns\n",
    "        vv_cols = [col for col in df.columns if col.startswith('VV_')]\n",
    "        vh_cols = [col for col in df.columns if col.startswith('VH_')]\n",
    "        gcvi_cols = [col for col in df.columns if col.startswith('GCVI_')]\n",
    "\n",
    "        # Mark duplicates in each group\n",
    "        vv_dup = mark_duplicates(df, vv_cols) if vv_cols else pd.Series([False]*len(df))\n",
    "        vh_dup = mark_duplicates(df, vh_cols) if vh_cols else pd.Series([False]*len(df))\n",
    "        gcvi_dup = mark_duplicates(df, gcvi_cols) if gcvi_cols else pd.Series([False]*len(df))\n",
    "\n",
    "        # Combine all masks: drop rows that are duplicates in any group\n",
    "        mask = ~(vv_dup | vh_dup | gcvi_dup)\n",
    "        filtered_df = df[mask]\n",
    "\n",
    "        # Save in place\n",
    "        filtered_df.to_csv(file_path, index=False)\n",
    "        print(f\"✅ Filtered and saved: {file_path}\")\n",
    "\n",
    "    except Exception as e:\n",
    "        print(f\"❌ Error processing {file_path}: {e}\")"
   ]
  },
  {
   "cell_type": "code",
   "execution_count": null,
   "id": "f440e3d8",
   "metadata": {},
   "outputs": [],
   "source": []
  }
 ],
 "metadata": {
  "kernelspec": {
   "display_name": "Python 3 (ipykernel)",
   "language": "python",
   "name": "python3"
  },
  "language_info": {
   "codemirror_mode": {
    "name": "ipython",
    "version": 3
   },
   "file_extension": ".py",
   "mimetype": "text/x-python",
   "name": "python",
   "nbconvert_exporter": "python",
   "pygments_lexer": "ipython3",
   "version": "3.11.7"
  }
 },
 "nbformat": 4,
 "nbformat_minor": 5
}
