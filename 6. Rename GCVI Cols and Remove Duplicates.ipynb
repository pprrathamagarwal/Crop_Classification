{
 "cells": [
  {
   "cell_type": "code",
   "execution_count": 1,
   "id": "159b27ad",
   "metadata": {},
   "outputs": [],
   "source": [
    "import numpy as np\n",
    "import pandas as pd"
   ]
  },
  {
   "cell_type": "code",
   "execution_count": null,
   "id": "a682d586",
   "metadata": {},
   "outputs": [],
   "source": [
    "# Path to the directory with CSV files\n",
    "input_dir = \"Karnataka_Datasets/Across/Begalavi/SAR_NDVI/\"\n",
    "all_files = glob.glob(os.path.join(input_dir, \"*.csv\"))\n",
    "\n",
    "# Read and concatenate all CSV files\n",
    "df_list = [pd.read_csv(file) for file in all_files]\n",
    "df = pd.concat(df_list, ignore_index=True)\n",
    "\n",
    "# Drop 'system:index'\n",
    "df.drop(columns=['system:index'], inplace=True, errors='ignore')\n",
    "\n",
    "# Extract column names\n",
    "columns = df.columns\n",
    "\n",
    "# Get and sort NDVI columns (e.g., '0_gapfilled_NDVI_lsc')\n",
    "ndvi_cols = sorted(\n",
    "    [col for col in columns if col.endswith('_gapfilled_NDVI_lsc')],\n",
    "    key=lambda x: int(re.match(r\"(\\d+)_gapfilled_NDVI_lsc\", x).group(1))\n",
    ")\n",
    "\n",
    "# Rename to GCVI_{i+1}\n",
    "ndvi_renamed = {col: f'GCVI_{i+1}' for i, col in enumerate(ndvi_cols)}\n",
    "\n",
    "# Get and sort VH columns (e.g., 'VH_1', 'VH_2')\n",
    "vh_cols = sorted(\n",
    "    [col for col in columns if col.startswith('VH_')],\n",
    "    key=lambda x: int(re.match(r'VH_(\\d+)', x).group(1))\n",
    ")\n",
    "\n",
    "# Get and sort VV columns (e.g., 'VV_1', 'VV_2')\n",
    "vv_cols = sorted(\n",
    "    [col for col in columns if col.startswith('VV_')],\n",
    "    key=lambda x: int(re.match(r'VV_(\\d+)', x).group(1))\n",
    ")\n",
    "\n",
    "# Apply renaming\n",
    "df.rename(columns=ndvi_renamed, inplace=True)\n",
    "\n",
    "# Final columns in desired order\n",
    "final_columns = ['Crop_Name', '.geo'] + list(ndvi_renamed.values()) + vh_cols + vv_cols\n",
    "\n",
    "# Reorder columns\n",
    "df = df[final_columns]\n",
    "\n",
    "# Save the result (optional)\n",
    "df.to_csv(os.path.join(input_dir, \"Begalavi_SAR_NDVI.csv\"), index=False)"
   ]
  }
 ],
 "metadata": {
  "kernelspec": {
   "display_name": "Python 3 (ipykernel)",
   "language": "python",
   "name": "python3"
  },
  "language_info": {
   "codemirror_mode": {
    "name": "ipython",
    "version": 3
   },
   "file_extension": ".py",
   "mimetype": "text/x-python",
   "name": "python",
   "nbconvert_exporter": "python",
   "pygments_lexer": "ipython3",
   "version": "3.11.7"
  }
 },
 "nbformat": 4,
 "nbformat_minor": 5
}
