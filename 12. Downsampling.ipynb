{
 "cells": [
  {
   "cell_type": "code",
   "execution_count": 1,
   "id": "fd7d9c5a",
   "metadata": {},
   "outputs": [],
   "source": [
    "import pandas as pd\n",
    "import os\n",
    "import glob"
   ]
  },
  {
   "cell_type": "code",
   "execution_count": 4,
   "id": "d24bcad1",
   "metadata": {},
   "outputs": [
    {
     "name": "stdout",
     "output_type": "stream",
     "text": [
      "✅ bidar_merged_train.csv processed and saved to Karnataka_Datasets/Across/Kharif/Cropland_Masked/Train/2021/Unbalanced/bidar\n",
      "✅ combined_train.csv processed and saved to Karnataka_Datasets/Across/Kharif/Cropland_Masked/Train/2021/Unbalanced/combined\n",
      "✅ dharwad_merged_train.csv processed and saved to Karnataka_Datasets/Across/Kharif/Cropland_Masked/Train/2021/Unbalanced/dharwad\n",
      "✅ raichur_merged_train.csv processed and saved to Karnataka_Datasets/Across/Kharif/Cropland_Masked/Train/2021/Unbalanced/raichur\n"
     ]
    }
   ],
   "source": [
    "# --- Input and Output Directory ---\n",
    "base_dir = 'Karnataka_Datasets/Across/Kharif/Cropland_Masked/Train/2021/Unbalanced/'\n",
    "\n",
    "# --- Balancing Function Based on Minimum Total Count ---\n",
    "def balance_df(df, column):\n",
    "    balanced_data = []\n",
    "\n",
    "    # Step 1: Get target total per class based on min count among column's values\n",
    "    class_counts = df[column].value_counts()\n",
    "    target_total = class_counts.min()\n",
    "\n",
    "    for value in class_counts.index:\n",
    "        subset = df[df[column] == value]\n",
    "\n",
    "        # Group by Crop_Name\n",
    "        crop_groups = subset.groupby('Crop_Name')\n",
    "        crop_sizes = crop_groups.size()\n",
    "\n",
    "        # Identify small and large crops\n",
    "        small_crops = crop_sizes[crop_sizes < target_total * 0.15]\n",
    "        large_crops = crop_sizes[crop_sizes >= target_total * 0.15]\n",
    "\n",
    "        # Step 2: Add all small crops fully\n",
    "        collected = [subset[subset['Crop_Name'] == crop] for crop in small_crops.index]\n",
    "        small_total = sum(len(df_) for df_ in collected)\n",
    "\n",
    "        # Step 3: Proportionally sample from large crops to fill remaining\n",
    "        remaining = max(target_total - small_total, 0)\n",
    "        large_total = large_crops.sum()\n",
    "\n",
    "        for crop in large_crops.index:\n",
    "            crop_df = subset[subset['Crop_Name'] == crop]\n",
    "            prop = large_crops[crop] / large_total\n",
    "            sample_size = int(prop * remaining)\n",
    "            sample_size = min(len(crop_df), sample_size)\n",
    "            collected.append(crop_df.sample(n=sample_size, random_state=42))\n",
    "\n",
    "        balanced_data.extend(collected)\n",
    "\n",
    "    return pd.concat(balanced_data, ignore_index=True)\n",
    "\n",
    "# --- Process All CSVs in the Directory ---\n",
    "csv_files = glob.glob(os.path.join(base_dir, \"*.csv\"))\n",
    "\n",
    "for file_path in csv_files:\n",
    "    filename = os.path.basename(file_path)\n",
    "    prefix = filename.split('_')[0]\n",
    "    sub_dir = os.path.join(base_dir, prefix)\n",
    "    os.makedirs(sub_dir, exist_ok=True)\n",
    "\n",
    "    try:\n",
    "        df = pd.read_csv(file_path)\n",
    "\n",
    "        for col in ['Height', 'Structure', 'Duration']:\n",
    "            if col not in df.columns or 'Crop_Name' not in df.columns:\n",
    "                print(f\"❌ Missing {col} or Crop_Name in {filename}, skipping...\")\n",
    "                continue\n",
    "\n",
    "            balanced_df = balance_df(df, col)\n",
    "            output_path = os.path.join(sub_dir, f\"balanced_on_{col}.csv\")\n",
    "            balanced_df.to_csv(output_path, index=False)\n",
    "\n",
    "        print(f\"✅ {filename} processed and saved to {sub_dir}\")\n",
    "\n",
    "    except Exception as e:\n",
    "        print(f\"❌ Error processing {filename}: {e}\")\n"
   ]
  },
  {
   "cell_type": "code",
   "execution_count": null,
   "id": "d14104c7",
   "metadata": {},
   "outputs": [],
   "source": []
  }
 ],
 "metadata": {
  "kernelspec": {
   "display_name": "Python 3 (ipykernel)",
   "language": "python",
   "name": "python3"
  },
  "language_info": {
   "codemirror_mode": {
    "name": "ipython",
    "version": 3
   },
   "file_extension": ".py",
   "mimetype": "text/x-python",
   "name": "python",
   "nbconvert_exporter": "python",
   "pygments_lexer": "ipython3",
   "version": "3.11.7"
  }
 },
 "nbformat": 4,
 "nbformat_minor": 5
}
