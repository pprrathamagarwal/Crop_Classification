{
 "cells": [
  {
   "cell_type": "code",
   "execution_count": 15,
   "id": "f48165f3",
   "metadata": {},
   "outputs": [],
   "source": [
    "import os\n",
    "import pandas as pd\n",
    "\n",
    "def concatenate_csv_files(root_dir, output_dir='combined', ignore_dirs={'Unbalanced', 'combined', 'bidar'}):\n",
    "    combined_path = os.path.join(root_dir, output_dir)\n",
    "    os.makedirs(combined_path, exist_ok=True)\n",
    "\n",
    "    file_groups = {}\n",
    "\n",
    "    for subdir in os.listdir(root_dir):\n",
    "        subdir_path = os.path.join(root_dir, subdir)\n",
    "\n",
    "        if not os.path.isdir(subdir_path) or subdir in ignore_dirs:\n",
    "            continue\n",
    "\n",
    "        for filename in os.listdir(subdir_path):\n",
    "            if filename.endswith('.csv'):\n",
    "                file_path = os.path.join(subdir_path, filename)\n",
    "                file_groups.setdefault(filename, []).append(file_path)\n",
    "\n",
    "    for filename, paths in file_groups.items():\n",
    "        dfs = []\n",
    "        for path in sorted(paths):\n",
    "            try:\n",
    "                df = pd.read_csv(path)\n",
    "                dfs.append(df)\n",
    "            except Exception as e:\n",
    "                print(f\"⚠️ Error reading {path}: {e}\")\n",
    "\n",
    "        if dfs:\n",
    "            combined_df = pd.concat(dfs, ignore_index=True)\n",
    "\n",
    "            # Always save as .csv, explicitly\n",
    "            output_csv_path = os.path.join(combined_path, filename)\n",
    "            combined_df.to_csv(output_csv_path, index=False, encoding='utf-8')\n",
    "\n",
    "            print(f\"✅ Saved: {output_csv_path}\")\n",
    "\n",
    "    print(\"🎉 All CSVs combined and saved correctly in 'combined/' as plain CSV files.\")"
   ]
  },
  {
   "cell_type": "code",
   "execution_count": 16,
   "id": "80748fb7",
   "metadata": {},
   "outputs": [
    {
     "name": "stdout",
     "output_type": "stream",
     "text": [
      "✅ Saved: Karnataka_Datasets/Across/Kharif/Cropland_Masked/Train/2020/combined\\balanced_on_Duration.csv\n",
      "✅ Saved: Karnataka_Datasets/Across/Kharif/Cropland_Masked/Train/2020/combined\\balanced_on_Height.csv\n",
      "✅ Saved: Karnataka_Datasets/Across/Kharif/Cropland_Masked/Train/2020/combined\\balanced_on_Structure.csv\n",
      "🎉 All CSVs combined and saved correctly in 'combined/' as plain CSV files.\n"
     ]
    }
   ],
   "source": [
    "concatenate_csv_files('Karnataka_Datasets/Across/Kharif/Cropland_Masked/Train/2020/')"
   ]
  },
  {
   "cell_type": "code",
   "execution_count": null,
   "id": "595ed6d3",
   "metadata": {},
   "outputs": [],
   "source": []
  }
 ],
 "metadata": {
  "kernelspec": {
   "display_name": "Python 3 (ipykernel)",
   "language": "python",
   "name": "python3"
  },
  "language_info": {
   "codemirror_mode": {
    "name": "ipython",
    "version": 3
   },
   "file_extension": ".py",
   "mimetype": "text/x-python",
   "name": "python",
   "nbconvert_exporter": "python",
   "pygments_lexer": "ipython3",
   "version": "3.11.7"
  }
 },
 "nbformat": 4,
 "nbformat_minor": 5
}
