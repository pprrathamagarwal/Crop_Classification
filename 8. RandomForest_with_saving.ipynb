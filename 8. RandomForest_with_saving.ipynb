{
 "cells": [
  {
   "cell_type": "markdown",
   "id": "16f78b65",
   "metadata": {},
   "source": [
    "# All Imports"
   ]
  },
  {
   "cell_type": "code",
   "execution_count": 1,
   "id": "69fe2521",
   "metadata": {},
   "outputs": [],
   "source": [
    "from sklearn.ensemble import RandomForestClassifier\n",
    "from sklearn.metrics import accuracy_score, classification_report, confusion_matrix\n",
    "from sklearn.tree import DecisionTreeClassifier\n",
    "import matplotlib.pyplot as plt\n",
    "import numpy as np\n",
    "import pandas as pd\n",
    "import pickle\n",
    "import re\n",
    "import joblib"
   ]
  },
  {
   "cell_type": "markdown",
   "id": "143f47d0",
   "metadata": {},
   "source": [
    "# Height Classifier"
   ]
  },
  {
   "cell_type": "code",
   "execution_count": 5,
   "id": "77efb9dc",
   "metadata": {},
   "outputs": [
    {
     "name": "stderr",
     "output_type": "stream",
     "text": [
      "C:\\Users\\prath\\AppData\\Local\\Temp\\ipykernel_28124\\3775590488.py:21: SettingWithCopyWarning: \n",
      "A value is trying to be set on a copy of a slice from a DataFrame\n",
      "\n",
      "See the caveats in the documentation: https://pandas.pydata.org/pandas-docs/stable/user_guide/indexing.html#returning-a-view-versus-a-copy\n",
      "  X_train.fillna(X_train.mean(), inplace=True)\n",
      "C:\\Users\\prath\\AppData\\Local\\Temp\\ipykernel_28124\\3775590488.py:22: SettingWithCopyWarning: \n",
      "A value is trying to be set on a copy of a slice from a DataFrame\n",
      "\n",
      "See the caveats in the documentation: https://pandas.pydata.org/pandas-docs/stable/user_guide/indexing.html#returning-a-view-versus-a-copy\n",
      "  X_test.fillna(X_test.mean(), inplace=True)\n"
     ]
    },
    {
     "name": "stdout",
     "output_type": "stream",
     "text": [
      "🔹 Accuracy: 0.4281\n",
      "\n",
      "🔹 Classification Report:\n",
      "               precision    recall  f1-score   support\n",
      "\n",
      "           1       0.25      0.61      0.35      2858\n",
      "           2       0.75      0.37      0.50      9375\n",
      "           3       0.30      0.43      0.35      1204\n",
      "\n",
      "    accuracy                           0.43     13437\n",
      "   macro avg       0.43      0.47      0.40     13437\n",
      "weighted avg       0.60      0.43      0.45     13437\n",
      "\n",
      "\n",
      "🔹 Confusion Matrix:\n",
      " [[1756  786  316]\n",
      " [5002 3475  898]\n",
      " [ 295  388  521]]\n",
      "\n",
      "🔹 Misclassified samples saved in 'misclassified_samples.csv'\n"
     ]
    }
   ],
   "source": [
    "# Load train and test data\n",
    "train_df = pd.read_csv(\"Karnataka_Datasets/Across/Kharif/Cropland_Masked/Train/2020/combined/balanced_on_Height.csv\")\n",
    "test_df = pd.read_csv(\"Karnataka_Datasets/Across/Kharif/Cropland_Masked/Test/2020/bidar_merged_test.csv\")\n",
    "\n",
    "# Select feature columns (VV_0...VV_n, VH_0...VH_n)\n",
    "VV_columns = [col for col in train_df.columns if col.startswith(\"VV_\")]\n",
    "VH_columns = [col for col in train_df.columns if col.startswith(\"VH_\")]\n",
    "VV_columns = VV_columns[:15]\n",
    "VH_columns = VH_columns[:15]\n",
    "#NDVI_columns = [col for col in train_df.columns if col.startswith(\"NDVI_\")]\n",
    "feature_columns = VV_columns + VH_columns \n",
    "\n",
    "# Define target variable\n",
    "target_column = \"height_numeric\"\n",
    "\n",
    "# Extract features and labels\n",
    "X_train, y_train = train_df[feature_columns], train_df[target_column]\n",
    "X_test, y_test = test_df[feature_columns], test_df[target_column]\n",
    "\n",
    "# Handle missing values (optional)\n",
    "X_train.fillna(X_train.mean(), inplace=True)\n",
    "X_test.fillna(X_test.mean(), inplace=True)\n",
    "\n",
    "# Initialize and train RandomForestClassifier\n",
    "rf_classifier_height = RandomForestClassifier(n_estimators=100, random_state=42)\n",
    "rf_classifier_height.fit(X_train, y_train)\n",
    "\n",
    "# Make predictions\n",
    "y_pred = rf_classifier_height.predict(X_test)\n",
    "\n",
    "# Evaluate model\n",
    "accuracy = accuracy_score(y_test, y_pred)\n",
    "report = classification_report(y_test, y_pred)\n",
    "conf_matrix = confusion_matrix(y_test, y_pred)\n",
    "\n",
    "# Save predictions to a DataFrame\n",
    "test_df[\"Predicted_height\"] = y_pred\n",
    "test_df[\"Correct\"] = test_df[\"Predicted_height\"] == test_df[target_column]\n",
    "\n",
    "# Save all predictions\n",
    "test_df.to_csv(\"Results/predictions_blr_krishnagiri_5Day_common.csv\", index=False)\n",
    "\n",
    "# Save only misclassified samples for analysis\n",
    "misclassified_df = test_df[test_df[\"Correct\"] == False]\n",
    "misclassified_df.to_csv(\"Results/misclassified_samples_blr_krishnagiri_5Day_common.csv\", index=False)\n",
    "\n",
    "# Print results\n",
    "print(f\"🔹 Accuracy: {accuracy:.4f}\")\n",
    "print(\"\\n🔹 Classification Report:\\n\", report)\n",
    "print(\"\\n🔹 Confusion Matrix:\\n\", conf_matrix)\n",
    "print(\"\\n🔹 Misclassified samples saved in 'misclassified_samples.csv'\")"
   ]
  },
  {
   "cell_type": "code",
   "execution_count": null,
   "id": "25b06177",
   "metadata": {},
   "outputs": [],
   "source": [
    "# Save the trained model for classifier 1\n",
    "joblib.dump(model, 'classifier_1.pkl')\n",
    "print('Model classifier_1.pkl saved successfully.')"
   ]
  },
  {
   "cell_type": "code",
   "execution_count": null,
   "id": "f1831e64",
   "metadata": {},
   "outputs": [],
   "source": [
    "# Load and test the saved model for classifier 1\n",
    "loaded_model = joblib.load('classifier_1.pkl')\n",
    "predictions = loaded_model.predict(X_test)\n",
    "print('Test Accuracy:', accuracy_score(y_test, predictions))\n",
    "print(classification_report(y_test, predictions))"
   ]
  },
  {
   "cell_type": "markdown",
   "id": "a8439b5b",
   "metadata": {},
   "source": [
    "### Step: Print the Predictions"
   ]
  },
  {
   "cell_type": "code",
   "execution_count": 6,
   "id": "93da6d1a",
   "metadata": {
    "scrolled": true
   },
   "outputs": [
    {
     "name": "stdout",
     "output_type": "stream",
     "text": [
      "Predicted_height  Crop_Name  Height     1     2    3\n",
      "0                    Cotton  Medium    94   123   35\n",
      "1                    Ginger   Short   155   133   71\n",
      "2                 Greengram   Short   957   316  101\n",
      "3                     Jowar  Medium   265   116   26\n",
      "4                     Maize  Medium   121    55    7\n",
      "5                   Mangoes    Tall    26    29   35\n",
      "6                     Paddy   Short    36    36   80\n",
      "7                   Redgram  Medium  2602  1692  390\n",
      "8                  Soyabean  Medium  1920  1489  440\n",
      "9                 Sugarcane    Tall   269   359  486\n",
      "10                     Urad   Short   608   301   64\n"
     ]
    }
   ],
   "source": [
    "# Load the CSV file\n",
    "df = pd.read_csv(\"Results/predictions_blr_krishnagiri_5Day_common.csv\")\n",
    "\n",
    "# Group by Crop_Name and count occurrences of (duration_numeric, predicted_Duration)\n",
    "result = df.groupby([\"Crop_Name\", \"Height\"])[\"Predicted_height\"].value_counts().unstack(fill_value=0)\n",
    "\n",
    "# Reset index for better readability\n",
    "result = result.reset_index()\n",
    "\n",
    "# Save the output as CSV\n",
    "result.to_csv(\"Results/height_blr_rural_comparison_15Day.csv\", index=False)\n",
    "\n",
    "# Print the result\n",
    "print(result)"
   ]
  },
  {
   "cell_type": "markdown",
   "id": "6ab3bc17",
   "metadata": {},
   "source": [
    "### Step: Feature Importance"
   ]
  },
  {
   "cell_type": "code",
   "execution_count": 68,
   "id": "646edcef",
   "metadata": {},
   "outputs": [
    {
     "name": "stdout",
     "output_type": "stream",
     "text": [
      "\n",
      "🔹 Top 10 Important Features:\n",
      "1. VH_7 (0.0376)\n",
      "2. VH_8 (0.0341)\n",
      "3. VH_3 (0.0326)\n",
      "4. VH_9 (0.0291)\n",
      "5. VH_1 (0.0253)\n",
      "6. VH_4 (0.0230)\n",
      "7. VH_6 (0.0216)\n",
      "8. VH_2 (0.0203)\n",
      "9. VH_31 (0.0195)\n",
      "10. VH_19 (0.0188)\n"
     ]
    },
    {
     "data": {
      "image/png": "[encoded data removed]",
      "text/plain": [
       "<Figure size 1200x800 with 1 Axes>"
      ]
     },
     "metadata": {},
     "output_type": "display_data"
    }
   ],
   "source": [
    "\n",
    "# --- Feature Importance ---\n",
    "importances = rf_classifier_height.feature_importances_\n",
    "feature_names = feature_columns  # same order as your training\n",
    "\n",
    "# Sort features by importance\n",
    "indices = np.argsort(importances)[::-1]  # sort descending\n",
    "sorted_features = [feature_names[i] for i in indices]\n",
    "sorted_importances = importances[indices]\n",
    "\n",
    "# Print top features\n",
    "print(\"\\n🔹 Top 10 Important Features:\")\n",
    "for i in range(10):\n",
    "    print(f\"{i+1}. {sorted_features[i]} ({sorted_importances[i]:.4f})\")\n",
    "\n",
    "# Plot feature importances\n",
    "plt.figure(figsize=(12, 8))\n",
    "plt.title(\"Feature Importance\", fontsize=16)\n",
    "plt.bar(range(len(sorted_importances[:20])), sorted_importances[:20], align=\"center\")\n",
    "plt.xticks(range(len(sorted_features[:20])), sorted_features[:20], rotation=90)\n",
    "plt.xlabel(\"Features\")\n",
    "plt.ylabel(\"Importance\")\n",
    "plt.tight_layout()\n",
    "plt.show()"
   ]
  },
  {
   "cell_type": "markdown",
   "id": "4b1f0884",
   "metadata": {},
   "source": [
    "# Duration Classifier"
   ]
  },
  {
   "cell_type": "code",
   "execution_count": 7,
   "id": "e74874c7",
   "metadata": {},
   "outputs": [
    {
     "name": "stderr",
     "output_type": "stream",
     "text": [
      "C:\\Users\\prath\\AppData\\Local\\Temp\\ipykernel_28124\\720752213.py:19: SettingWithCopyWarning: \n",
      "A value is trying to be set on a copy of a slice from a DataFrame\n",
      "\n",
      "See the caveats in the documentation: https://pandas.pydata.org/pandas-docs/stable/user_guide/indexing.html#returning-a-view-versus-a-copy\n",
      "  X_train.fillna(X_train.mean(), inplace=True)\n",
      "C:\\Users\\prath\\AppData\\Local\\Temp\\ipykernel_28124\\720752213.py:20: SettingWithCopyWarning: \n",
      "A value is trying to be set on a copy of a slice from a DataFrame\n",
      "\n",
      "See the caveats in the documentation: https://pandas.pydata.org/pandas-docs/stable/user_guide/indexing.html#returning-a-view-versus-a-copy\n",
      "  X_test.fillna(X_test.mean(), inplace=True)\n"
     ]
    },
    {
     "name": "stdout",
     "output_type": "stream",
     "text": [
      "🔹 Accuracy: 0.3224\n",
      "\n",
      "🔹 Classification Report:\n",
      "               precision    recall  f1-score   support\n",
      "\n",
      "           1       0.27      0.60      0.37      2754\n",
      "           2       0.68      0.20      0.31      8868\n",
      "           3       0.19      0.47      0.27      1815\n",
      "\n",
      "    accuracy                           0.32     13437\n",
      "   macro avg       0.38      0.43      0.32     13437\n",
      "weighted avg       0.53      0.32      0.32     13437\n",
      "\n",
      "\n",
      "🔹 Confusion Matrix:\n",
      " [[1659  418  677]\n",
      " [4052 1817 2999]\n",
      " [ 519  440  856]]\n",
      "\n",
      "🔹 Misclassified samples saved in 'misclassified_samples.csv'\n"
     ]
    }
   ],
   "source": [
    "train_df = pd.read_csv(\"Karnataka_Datasets/Across/Kharif/Cropland_Masked/Train/2020/combined/balanced_on_Duration.csv\")\n",
    "test_df = pd.read_csv(\"Karnataka_Datasets/Across/Kharif/Cropland_Masked/Test/2020/bidar_merged_test.csv\")\n",
    "# Select feature columns (VV_0...VV_n, VH_0...VH_n)\n",
    "VV_columns = [col for col in train_df.columns if col.startswith(\"VV_\")]\n",
    "VH_columns = [col for col in train_df.columns if col.startswith(\"VH_\")]\n",
    "VV_columns = VV_columns[:15]\n",
    "VH_columns = VH_columns[:15]\n",
    "#NDVI_columns = [col for col in train_df.columns if col.startswith(\"NDVI_\")]\n",
    "feature_columns = VV_columns + VH_columns \n",
    "\n",
    "# Define target variable\n",
    "target_column = \"duration_numeric\"\n",
    "\n",
    "# Extract features and labels\n",
    "X_train, y_train = train_df[feature_columns], train_df[target_column]\n",
    "X_test, y_test = test_df[feature_columns], test_df[target_column]\n",
    "\n",
    "# Handle missing values (optional)\n",
    "X_train.fillna(X_train.mean(), inplace=True)\n",
    "X_test.fillna(X_test.mean(), inplace=True)\n",
    "\n",
    "# Initialize and train RandomForestClassifier\n",
    "rf_classifier_duration = RandomForestClassifier(n_estimators=100, random_state=42)\n",
    "rf_classifier_duration.fit(X_train, y_train)\n",
    "\n",
    "# Make predictions\n",
    "y_pred = rf_classifier_duration.predict(X_test)\n",
    "\n",
    "# Evaluate model\n",
    "accuracy = accuracy_score(y_test, y_pred)\n",
    "report = classification_report(y_test, y_pred)\n",
    "conf_matrix = confusion_matrix(y_test, y_pred)\n",
    "\n",
    "# Save predictions to a DataFrame\n",
    "test_df[\"Predicted_duration\"] = y_pred\n",
    "test_df[\"Correct\"] = test_df[\"Predicted_duration\"] == test_df[target_column]\n",
    "\n",
    "# Save all predictions\n",
    "test_df.to_csv(\"Results/predictions_blr_krishnagiri_5Day_duration.csv\", index=False)\n",
    "\n",
    "# Save only misclassified samples for analysis\n",
    "misclassified_df = test_df[test_df[\"Correct\"] == False]\n",
    "misclassified_df.to_csv(\"Results/misclassified_samples_blr_krishnagiri_5Day_duration.csv\", index=False)\n",
    "\n",
    "# Print results\n",
    "print(f\"🔹 Accuracy: {accuracy:.4f}\")\n",
    "print(\"\\n🔹 Classification Report:\\n\", report)\n",
    "print(\"\\n🔹 Confusion Matrix:\\n\", conf_matrix)\n",
    "print(\"\\n🔹 Misclassified samples saved in 'misclassified_samples.csv'\")"
   ]
  },
  {
   "cell_type": "code",
   "execution_count": null,
   "id": "20af0102",
   "metadata": {},
   "outputs": [],
   "source": [
    "# Save the trained model for classifier 2\n",
    "joblib.dump(model, 'classifier_2.pkl')\n",
    "print('Model classifier_2.pkl saved successfully.')"
   ]
  },
  {
   "cell_type": "code",
   "execution_count": null,
   "id": "b7a23ade",
   "metadata": {},
   "outputs": [],
   "source": [
    "# Load and test the saved model for classifier 2\n",
    "loaded_model = joblib.load('classifier_2.pkl')\n",
    "predictions = loaded_model.predict(X_test)\n",
    "print('Test Accuracy:', accuracy_score(y_test, predictions))\n",
    "print(classification_report(y_test, predictions))"
   ]
  },
  {
   "cell_type": "markdown",
   "id": "eef5941a",
   "metadata": {},
   "source": [
    "### Print Predictions"
   ]
  },
  {
   "cell_type": "code",
   "execution_count": 8,
   "id": "9f40693d",
   "metadata": {},
   "outputs": [
    {
     "name": "stdout",
     "output_type": "stream",
     "text": [
      "Predicted_duration  Crop_Name Duration     1    2     3\n",
      "0                      Cotton     Long    82   62   108\n",
      "1                      Ginger     Long   136   87   136\n",
      "2                   Greengram      Low   918  176   280\n",
      "3                       Jowar      Low   209   80   118\n",
      "4                       Maize   Medium    95   37    51\n",
      "5                     Mangoes     Long    27   31    32\n",
      "6                       Paddy   Medium    24   40    88\n",
      "7                     Redgram   Medium  2273  910  1501\n",
      "8                    Soyabean   Medium  1660  830  1359\n",
      "9                   Sugarcane     Long   274  260   580\n",
      "10                       Urad      Low   532  162   279\n"
     ]
    }
   ],
   "source": [
    "# Load the CSV file\n",
    "df = pd.read_csv(\"Results/predictions_blr_krishnagiri_5Day_duration.csv\")\n",
    "\n",
    "# Group by Crop_Name and count occurrences of (duration_numeric, predicted_Duration)\n",
    "result = df.groupby([\"Crop_Name\", \"Duration\"])[\"Predicted_duration\"].value_counts().unstack(fill_value=0)\n",
    "\n",
    "# Reset index for better readability\n",
    "result = result.reset_index()\n",
    "\n",
    "# Save the output as CSV\n",
    "result.to_csv(\"Results/duration_blr_rural_comparison.csv\", index=False)\n",
    "\n",
    "# Print the result\n",
    "print(result)"
   ]
  },
  {
   "cell_type": "markdown",
   "id": "0ebce237",
   "metadata": {},
   "source": [
    "### Feature Importance"
   ]
  },
  {
   "cell_type": "code",
   "execution_count": 9,
   "id": "59b98bb0",
   "metadata": {},
   "outputs": [
    {
     "name": "stdout",
     "output_type": "stream",
     "text": [
      "\n",
      "🔹 Top 10 Important Features:\n",
      "1. VV_14 (0.0450)\n",
      "2. VH_8 (0.0417)\n",
      "3. VH_14 (0.0392)\n",
      "4. VH_3 (0.0381)\n",
      "5. VH_12 (0.0381)\n",
      "6. VH_7 (0.0367)\n",
      "7. VH_6 (0.0342)\n",
      "8. VH_9 (0.0341)\n",
      "9. VH_11 (0.0336)\n",
      "10. VH_5 (0.0336)\n"
     ]
    },
    {
     "data": {
      "image/png": "[encoded data removed]",
      "text/plain": [
       "<Figure size 1200x800 with 1 Axes>"
      ]
     },
     "metadata": {},
     "output_type": "display_data"
    }
   ],
   "source": [
    "\n",
    "# --- Feature Importance ---\n",
    "importances = rf_classifier_duration.feature_importances_\n",
    "feature_names = feature_columns  # same order as your training\n",
    "\n",
    "# Sort features by importance\n",
    "indices = np.argsort(importances)[::-1]  # sort descending\n",
    "sorted_features = [feature_names[i] for i in indices]\n",
    "sorted_importances = importances[indices]\n",
    "\n",
    "# Print top features\n",
    "print(\"\\n🔹 Top 10 Important Features:\")\n",
    "for i in range(10):\n",
    "    print(f\"{i+1}. {sorted_features[i]} ({sorted_importances[i]:.4f})\")\n",
    "\n",
    "# Plot feature importances\n",
    "plt.figure(figsize=(12, 8))\n",
    "plt.title(\"Feature Importance\", fontsize=16)\n",
    "plt.bar(range(len(sorted_importances[:20])), sorted_importances[:20], align=\"center\")\n",
    "plt.xticks(range(len(sorted_features[:20])), sorted_features[:20], rotation=90)\n",
    "plt.xlabel(\"Features\")\n",
    "plt.ylabel(\"Importance\")\n",
    "plt.tight_layout()\n",
    "plt.show()"
   ]
  },
  {
   "cell_type": "markdown",
   "id": "eef3e5c8",
   "metadata": {},
   "source": [
    "# Structure Classifier"
   ]
  },
  {
   "cell_type": "code",
   "execution_count": 10,
   "id": "9be6efad",
   "metadata": {},
   "outputs": [
    {
     "name": "stderr",
     "output_type": "stream",
     "text": [
      "C:\\Users\\prath\\AppData\\Local\\Temp\\ipykernel_28124\\472555880.py:20: SettingWithCopyWarning: \n",
      "A value is trying to be set on a copy of a slice from a DataFrame\n",
      "\n",
      "See the caveats in the documentation: https://pandas.pydata.org/pandas-docs/stable/user_guide/indexing.html#returning-a-view-versus-a-copy\n",
      "  X_train.fillna(X_train.mean(), inplace=True)\n",
      "C:\\Users\\prath\\AppData\\Local\\Temp\\ipykernel_28124\\472555880.py:21: SettingWithCopyWarning: \n",
      "A value is trying to be set on a copy of a slice from a DataFrame\n",
      "\n",
      "See the caveats in the documentation: https://pandas.pydata.org/pandas-docs/stable/user_guide/indexing.html#returning-a-view-versus-a-copy\n",
      "  X_test.fillna(X_test.mean(), inplace=True)\n"
     ]
    },
    {
     "name": "stdout",
     "output_type": "stream",
     "text": [
      "🔹 Accuracy: 0.7035\n",
      "\n",
      "🔹 Classification Report:\n",
      "               precision    recall  f1-score   support\n",
      "\n",
      "           1       0.02      0.17      0.04        90\n",
      "           2       0.88      0.79      0.83     11132\n",
      "           3       0.25      0.33      0.29      1856\n",
      "           4       0.09      0.06      0.07       359\n",
      "\n",
      "    accuracy                           0.70     13437\n",
      "   macro avg       0.31      0.34      0.31     13437\n",
      "weighted avg       0.76      0.70      0.73     13437\n",
      "\n",
      "\n",
      "🔹 Confusion Matrix:\n",
      " [[  15   39   33    3]\n",
      " [ 466 8802 1705  159]\n",
      " [ 210  982  616   48]\n",
      " [  25  228   86   20]]\n",
      "\n",
      "🔹 Misclassified samples saved in 'misclassified_samples.csv'\n"
     ]
    }
   ],
   "source": [
    "train_df = pd.read_csv(\"Karnataka_Datasets/Across/Kharif/Cropland_Masked/Train/2020/combined/balanced_on_Structure.csv\")\n",
    "test_df = pd.read_csv(\"Karnataka_Datasets/Across/Kharif/Cropland_Masked/Test/2020/bidar_merged_test.csv\")\n",
    "# Select feature columns (VV_0...VV_n, VH_0...VH_n)\n",
    "VV_columns = [col for col in train_df.columns if col.startswith(\"VV_\")]\n",
    "VH_columns = [col for col in train_df.columns if col.startswith(\"VH_\")]\n",
    "VV_columns = VV_columns[:15]\n",
    "VH_columns = VH_columns[:15]\n",
    "#NDVI_columns = [col for col in train_df.columns if col.startswith(\"NDVI_\")]\n",
    "feature_columns = VV_columns + VH_columns \n",
    "\n",
    "\n",
    "# Define target variable\n",
    "target_column = \"structure_numeric\"\n",
    "\n",
    "# Extract features and labels\n",
    "X_train, y_train = train_df[feature_columns], train_df[target_column]\n",
    "X_test, y_test = test_df[feature_columns], test_df[target_column]\n",
    "\n",
    "# Handle missing values (optional)\n",
    "X_train.fillna(X_train.mean(), inplace=True)\n",
    "X_test.fillna(X_test.mean(), inplace=True)\n",
    "\n",
    "# Initialize and train RandomForestClassifier\n",
    "rf_classifier_structure = RandomForestClassifier(n_estimators=50, random_state=42)\n",
    "rf_classifier_structure.fit(X_train, y_train)\n",
    "\n",
    "# Make predictions\n",
    "y_pred = rf_classifier_structure.predict(X_test)\n",
    "\n",
    "# Evaluate model\n",
    "accuracy = accuracy_score(y_test, y_pred)\n",
    "report = classification_report(y_test, y_pred)\n",
    "conf_matrix = confusion_matrix(y_test, y_pred)\n",
    "\n",
    "# Save predictions to a DataFrame\n",
    "test_df[\"Predicted_Structure\"] = y_pred\n",
    "test_df[\"Correct\"] = test_df[\"Predicted_Structure\"] == test_df[target_column]\n",
    "\n",
    "# Save all predictions\n",
    "test_df.to_csv(\"Karnataka_Datasets/Across/S2/Results.csv\", index=False)\n",
    "\n",
    "# Save only misclassified samples for analysis\n",
    "misclassified_df = test_df[test_df[\"Correct\"] == False]\n",
    "#misclassified_df.to_csv(\"Results/misclassified_samples_blr_krishnagiri_5Day_common.csv\", index=False)\n",
    "\n",
    "# Print results\n",
    "print(f\"🔹 Accuracy: {accuracy:.4f}\")\n",
    "print(\"\\n🔹 Classification Report:\\n\", report)\n",
    "print(\"\\n🔹 Confusion Matrix:\\n\", conf_matrix)\n",
    "print(\"\\n🔹 Misclassified samples saved in 'misclassified_samples.csv'\")"
   ]
  },
  {
   "cell_type": "code",
   "execution_count": null,
   "id": "69702a24",
   "metadata": {},
   "outputs": [],
   "source": [
    "# Save the trained model for classifier 3\n",
    "joblib.dump(model, 'classifier_3.pkl')\n",
    "print('Model classifier_3.pkl saved successfully.')"
   ]
  },
  {
   "cell_type": "code",
   "execution_count": null,
   "id": "bb2a581f",
   "metadata": {},
   "outputs": [],
   "source": [
    "# Load and test the saved model for classifier 3\n",
    "loaded_model = joblib.load('classifier_3.pkl')\n",
    "predictions = loaded_model.predict(X_test)\n",
    "print('Test Accuracy:', accuracy_score(y_test, predictions))\n",
    "print(classification_report(y_test, predictions))"
   ]
  },
  {
   "cell_type": "markdown",
   "id": "17b9bcc4",
   "metadata": {},
   "source": [
    "### Print Results"
   ]
  },
  {
   "cell_type": "code",
   "execution_count": 11,
   "id": "3011b857",
   "metadata": {},
   "outputs": [
    {
     "name": "stdout",
     "output_type": "stream",
     "text": [
      "Predicted_Structure  Crop_Name Structure    1     2    3   4\n",
      "0                       Cotton     Shrub   21   186   38   7\n",
      "1                       Ginger      Root   25   228   86  20\n",
      "2                    Greengram     Shrub   51  1167  148   8\n",
      "3                        Jowar     Grass   11   282   84  30\n",
      "4                        Maize     Grass    5   143   30   5\n",
      "5                      Mangoes      Tree   15    39   33   3\n",
      "6                        Paddy     Grass   30    48   73   1\n",
      "7                      Redgram     Shrub  171  3700  724  89\n",
      "8                     Soyabean     Shrub  191  2933  678  47\n",
      "9                    Sugarcane     Grass  164   509  429  12\n",
      "10                        Urad     Shrub   32   816  117   8\n"
     ]
    }
   ],
   "source": [
    "# Load the CSV file\n",
    "df = pd.read_csv(\"Karnataka_Datasets/Across/S2/Results.csv\")\n",
    "\n",
    "# Group by Crop_Name and count occurrences of (duration_numeric, predicted_Duration)\n",
    "result = df.groupby([\"Crop_Name\", \"Structure\"])[\"Predicted_Structure\"].value_counts().unstack(fill_value=0)\n",
    "\n",
    "# Reset index for better readability\n",
    "result = result.reset_index()\n",
    "\n",
    "# Save the output as CSV\n",
    "result.to_csv(\"Karnataka_Datasets/Across/Pred.csv\", index=False)\n",
    "\n",
    "# Print the result\n",
    "print(result)"
   ]
  },
  {
   "cell_type": "markdown",
   "id": "f24eefe2",
   "metadata": {},
   "source": [
    "### Feature Importance"
   ]
  },
  {
   "cell_type": "code",
   "execution_count": 74,
   "id": "5ed7d865",
   "metadata": {},
   "outputs": [
    {
     "name": "stdout",
     "output_type": "stream",
     "text": [
      "\n",
      "🔹 Top 10 Important Features:\n",
      "1. VH_8 (0.0435)\n",
      "2. VH_10 (0.0287)\n",
      "3. VH_3 (0.0269)\n",
      "4. VH_12 (0.0256)\n",
      "5. VH_7 (0.0248)\n",
      "6. VH_19 (0.0225)\n",
      "7. VH_13 (0.0223)\n",
      "8. VH_18 (0.0219)\n",
      "9. VH_9 (0.0213)\n",
      "10. VV_3 (0.0207)\n"
     ]
    },
    {
     "data": {
      "image/png": "[encoded data removed]",
      "text/plain": [
       "<Figure size 1200x800 with 1 Axes>"
      ]
     },
     "metadata": {},
     "output_type": "display_data"
    }
   ],
   "source": [
    "\n",
    "# --- Feature Importance ---\n",
    "importances = rf_classifier_structure.feature_importances_\n",
    "feature_names = feature_columns  # same order as your training\n",
    "\n",
    "# Sort features by importance\n",
    "indices = np.argsort(importances)[::-1]  # sort descending\n",
    "sorted_features = [feature_names[i] for i in indices]\n",
    "sorted_importances = importances[indices]\n",
    "\n",
    "# Print top features\n",
    "print(\"\\n🔹 Top 10 Important Features:\")\n",
    "for i in range(10):\n",
    "    print(f\"{i+1}. {sorted_features[i]} ({sorted_importances[i]:.4f})\")\n",
    "\n",
    "# Plot feature importances\n",
    "plt.figure(figsize=(12, 8))\n",
    "plt.title(\"Feature Importance\", fontsize=16)\n",
    "plt.bar(range(len(sorted_importances[:20])), sorted_importances[:20], align=\"center\")\n",
    "plt.xticks(range(len(sorted_features[:20])), sorted_features[:20], rotation=90)\n",
    "plt.xlabel(\"Features\")\n",
    "plt.ylabel(\"Importance\")\n",
    "plt.tight_layout()\n",
    "plt.show()"
   ]
  },
  {
   "cell_type": "markdown",
   "id": "37ad5c39",
   "metadata": {},
   "source": [
    "### Unique Triplet Identification"
   ]
  },
  {
   "cell_type": "code",
   "execution_count": 24,
   "id": "5e3ce85b",
   "metadata": {},
   "outputs": [
    {
     "name": "stdout",
     "output_type": "stream",
     "text": [
      "Triplet (1, 2, 1): Greengram, Urad\n",
      "Triplet (1, 3, 2): Paddy\n",
      "Triplet (2, 2, 2): Redgram\n",
      "Triplet (2, 2, 3): Cotton\n",
      "Triplet (2, 3, 1): Jowar\n",
      "Triplet (2, 3, 2): Maize\n",
      "Triplet (3, 3, 3): Sugarcane\n"
     ]
    }
   ],
   "source": [
    "# Group crops by (height, structure, duration) triplet\n",
    "triplet_to_crops = train_df.groupby([\"height_numeric\", \"structure_numeric\", \"duration_numeric\"])[\"Crop_Name\"].unique()\n",
    "\n",
    "# Print nicely\n",
    "for triplet, crops in triplet_to_crops.items():\n",
    "    crops_list = \", \".join(crops)\n",
    "    print(f\"Triplet {triplet}: {crops_list}\")"
   ]
  },
  {
   "cell_type": "markdown",
   "id": "4f9a17af",
   "metadata": {},
   "source": [
    "### Combining the Three Classifiers"
   ]
  },
  {
   "cell_type": "code",
   "execution_count": 32,
   "id": "a906afaa",
   "metadata": {},
   "outputs": [
    {
     "name": "stderr",
     "output_type": "stream",
     "text": [
      "C:\\Users\\prath\\AppData\\Local\\Temp\\ipykernel_12652\\35290893.py:17: SettingWithCopyWarning: \n",
      "A value is trying to be set on a copy of a slice from a DataFrame\n",
      "\n",
      "See the caveats in the documentation: https://pandas.pydata.org/pandas-docs/stable/user_guide/indexing.html#returning-a-view-versus-a-copy\n",
      "  X_train.fillna(X_train.mean(), inplace=True)\n",
      "C:\\Users\\prath\\AppData\\Local\\Temp\\ipykernel_12652\\35290893.py:18: SettingWithCopyWarning: \n",
      "A value is trying to be set on a copy of a slice from a DataFrame\n",
      "\n",
      "See the caveats in the documentation: https://pandas.pydata.org/pandas-docs/stable/user_guide/indexing.html#returning-a-view-versus-a-copy\n",
      "  X_test.fillna(X_test.mean(), inplace=True)\n"
     ]
    },
    {
     "name": "stdout",
     "output_type": "stream",
     "text": [
      "🔹 Overall Crop Prediction Accuracy: 0.1205\n",
      "\n",
      "🔹 Confusion Matrix (Strict):\n",
      "[[   0    0    0    0    0    0    0    0    0]\n",
      " [   0    0    0    0    0    0    0    0    0]\n",
      " [ 143   70    1   91   38   64   52    8    0]\n",
      " [  64   65    1   35   11   26   22    6    0]\n",
      " [  56   21    0   52   24   18   11   69    0]\n",
      " [ 764  752   21  444   62 1023  276   83    0]\n",
      " [1338 1729   18  844  128  770  539  107    0]\n",
      " [ 573  171   11  383   47  105   82  379    0]\n",
      " [1262 1351   28  926   92  734  450  168    0]]\n",
      "\n",
      "🔹 Classification Report (Strict):\n"
     ]
    },
    {
     "name": "stderr",
     "output_type": "stream",
     "text": [
      "C:\\Users\\prath\\anaconda3\\Lib\\site-packages\\sklearn\\metrics\\_classification.py:1344: UndefinedMetricWarning: Precision and F-score are ill-defined and being set to 0.0 in labels with no predicted samples. Use `zero_division` parameter to control this behavior.\n",
      "  _warn_prf(average, modifier, msg_start, len(result))\n",
      "C:\\Users\\prath\\anaconda3\\Lib\\site-packages\\sklearn\\metrics\\_classification.py:1344: UndefinedMetricWarning: Recall and F-score are ill-defined and being set to 0.0 in labels with no true samples. Use `zero_division` parameter to control this behavior.\n",
      "  _warn_prf(average, modifier, msg_start, len(result))\n",
      "C:\\Users\\prath\\anaconda3\\Lib\\site-packages\\sklearn\\metrics\\_classification.py:1344: UndefinedMetricWarning: Precision and F-score are ill-defined and being set to 0.0 in labels with no predicted samples. Use `zero_division` parameter to control this behavior.\n",
      "  _warn_prf(average, modifier, msg_start, len(result))\n",
      "C:\\Users\\prath\\anaconda3\\Lib\\site-packages\\sklearn\\metrics\\_classification.py:1344: UndefinedMetricWarning: Recall and F-score are ill-defined and being set to 0.0 in labels with no true samples. Use `zero_division` parameter to control this behavior.\n",
      "  _warn_prf(average, modifier, msg_start, len(result))\n"
     ]
    },
    {
     "name": "stdout",
     "output_type": "stream",
     "text": [
      "              precision    recall  f1-score   support\n",
      "\n",
      "   Ambiguous       0.00      0.00      0.00         0\n",
      "      Cotton       0.00      0.00      0.00         0\n",
      "       Jowar       0.01      0.00      0.00       467\n",
      "       Maize       0.01      0.15      0.02       230\n",
      "       Paddy       0.06      0.10      0.07       251\n",
      "      Pulses       0.37      0.30      0.33      3425\n",
      "     Redgram       0.38      0.10      0.16      5473\n",
      "   Sugarcane       0.46      0.22      0.29      1751\n",
      "     Unknown       0.00      0.00      0.00      5011\n",
      "\n",
      "    accuracy                           0.12     16608\n",
      "   macro avg       0.14      0.10      0.10     16608\n",
      "weighted avg       0.25      0.12      0.15     16608\n",
      "\n"
     ]
    },
    {
     "name": "stderr",
     "output_type": "stream",
     "text": [
      "C:\\Users\\prath\\anaconda3\\Lib\\site-packages\\sklearn\\metrics\\_classification.py:1344: UndefinedMetricWarning: Precision and F-score are ill-defined and being set to 0.0 in labels with no predicted samples. Use `zero_division` parameter to control this behavior.\n",
      "  _warn_prf(average, modifier, msg_start, len(result))\n",
      "C:\\Users\\prath\\anaconda3\\Lib\\site-packages\\sklearn\\metrics\\_classification.py:1344: UndefinedMetricWarning: Recall and F-score are ill-defined and being set to 0.0 in labels with no true samples. Use `zero_division` parameter to control this behavior.\n",
      "  _warn_prf(average, modifier, msg_start, len(result))\n"
     ]
    }
   ],
   "source": [
    "\n",
    "# --------------------------------------\n",
    "# 1. Load Train/Test Data\n",
    "# --------------------------------------\n",
    "\n",
    "train_df = pd.read_csv(\"Karnataka_Datasets/Across/Kharif/2020-21/SAR_GCVI/AEZ_6/Final/Train/Train.csv\")\n",
    "test_df = pd.read_csv(\"Karnataka_Datasets/Across/Kharif/2020-21/SAR_GCVI/AEZ_6/Final/Test/Bidar_Data_Final.csv\")\n",
    "\n",
    "# Extract only VV_i and VH_i features (first 15 VV and 15 VH)\n",
    "VV_columns = sorted([col for col in train_df.columns if col.startswith(\"VV_\")])\n",
    "VH_columns = sorted([col for col in train_df.columns if col.startswith(\"VH_\")])\n",
    "feature_columns = VV_columns + VH_columns\n",
    "\n",
    "X_train = train_df[feature_columns]\n",
    "X_test = test_df[feature_columns]\n",
    "\n",
    "# Fill missing values\n",
    "X_train.fillna(X_train.mean(), inplace=True)\n",
    "X_test.fillna(X_test.mean(), inplace=True)\n",
    "\n",
    "# --------------------------------------\n",
    "# 2. Train three models separately\n",
    "# --------------------------------------\n",
    "\n",
    "# Height Model\n",
    "height_model = RandomForestClassifier(n_estimators=100, random_state=42)\n",
    "height_model.fit(X_train, train_df[\"height_numeric\"])\n",
    "\n",
    "# Structure Model\n",
    "structure_model = RandomForestClassifier(n_estimators=100, random_state=42)\n",
    "structure_model.fit(X_train, train_df[\"structure_numeric\"])\n",
    "\n",
    "# Duration Model\n",
    "duration_model = RandomForestClassifier(n_estimators=100, random_state=42)\n",
    "duration_model.fit(X_train, train_df[\"duration_numeric\"])\n",
    "\n",
    "# --------------------------------------\n",
    "# 3. Predict using the three models\n",
    "# --------------------------------------\n",
    "\n",
    "height_pred = height_model.predict(X_test)\n",
    "structure_pred = structure_model.predict(X_test)\n",
    "duration_pred = duration_model.predict(X_test)\n",
    "\n",
    "# Add predictions to test_df\n",
    "test_df[\"pred_height\"] = height_pred\n",
    "test_df[\"pred_structure\"] = structure_pred\n",
    "test_df[\"pred_duration\"] = duration_pred\n",
    "\n",
    "# --------------------------------------\n",
    "# 4. Define Grouped Triplet Mapping\n",
    "# --------------------------------------\n",
    "\n",
    "triplet_mapping = {\n",
    "    (1, 2, 1): \"Pulses\",\n",
    "    (2, 3, 1): \"Jowar\",\n",
    "    (2, 3, 2): \"Maize\",\n",
    "    (2, 2, 3): \"Cotton\",\n",
    "    (1, 3, 2): \"Paddy\",\n",
    "    (2, 2, 2): \"Redgram\",\n",
    "    (3, 3, 3): \"Sugarcane\",\n",
    "}\n",
    "\n",
    "def lookup_crop(height, structure, duration):\n",
    "    key = (height, structure, duration)\n",
    "    return triplet_mapping.get(key, \"Ambiguous\")  # fallback if key not found\n",
    "\n",
    "# Apply lookup\n",
    "test_df[\"predicted_crop\"] = test_df.apply(\n",
    "    lambda row: lookup_crop(row[\"pred_height\"], row[\"pred_structure\"], row[\"pred_duration\"]),\n",
    "    axis=1\n",
    ")\n",
    "\n",
    "# --------------------------------------\n",
    "# 5. Remap Ground Truth Also (Optional but Important)\n",
    "# --------------------------------------\n",
    "\n",
    "# Create manual mapping for ground truth Crop_Names to group names\n",
    "ground_truth_mapping = {\n",
    "    \"Bajra\": \"Millets\",\n",
    "    \"Ragi\": \"Millets\",\n",
    "    \"Jowar\": \"Jowar\",\n",
    "    \"Maize\": \"Maize\",\n",
    "    \"Paddy\": \"Paddy\",\n",
    "    \"Redgram\": \"Redgram\",\n",
    "    \"Rose\": \"Rose\",\n",
    "    \"Sugarcane\": \"Sugarcane\",\n",
    "    \"Avare\": \"Avare\",\n",
    "    \"Arecanut\": \"Tree\",\n",
    "    \"Banana\": \"Tree\",\n",
    "    \"Coconut\": \"Tree\",\n",
    "    \"Eucalyptus\": \"Tree\",\n",
    "    \"Guava\": \"Tree\",\n",
    "    \"Lemon\": \"Tree\",\n",
    "    \"Mangoes\": \"Tree\",\n",
    "    \"Sapota\": \"Tree\",\n",
    "    \"Greengram\": \"Pulses\",\n",
    "    \"Urad\": \"Pulses\",\n",
    "}\n",
    "\n",
    "# Remap true labels\n",
    "test_df[\"true_crop_grouped\"] = test_df[\"Crop_Name\"].map(ground_truth_mapping).fillna(\"Unknown\")\n",
    "\n",
    "# --------------------------------------\n",
    "# 6. Evaluate\n",
    "# --------------------------------------\n",
    "\n",
    "# Basic accuracy (strict)\n",
    "crop_accuracy = (test_df[\"predicted_crop\"] == test_df[\"true_crop_grouped\"]).mean()\n",
    "\n",
    "print(f\"🔹 Overall Crop Prediction Accuracy: {crop_accuracy:.4f}\")\n",
    "\n",
    "# Save for inspection\n",
    "test_df.to_csv(\"Results/final_predictions_combined_model.csv\", index=False)\n",
    "\n",
    "# See confusion matrix\n",
    "print(\"\\n🔹 Confusion Matrix (Strict):\")\n",
    "print(confusion_matrix(test_df[\"true_crop_grouped\"], test_df[\"predicted_crop\"]))\n",
    "\n",
    "print(\"\\n🔹 Classification Report (Strict):\")\n",
    "print(classification_report(test_df[\"true_crop_grouped\"], test_df[\"predicted_crop\"]))"
   ]
  },
  {
   "cell_type": "code",
   "execution_count": null,
   "id": "53db7d1c",
   "metadata": {},
   "outputs": [],
   "source": [
    "# Save the trained model for classifier 4\n",
    "joblib.dump(model, 'classifier_4.pkl')\n",
    "print('Model classifier_4.pkl saved successfully.')"
   ]
  },
  {
   "cell_type": "code",
   "execution_count": null,
   "id": "51c095e0",
   "metadata": {},
   "outputs": [],
   "source": [
    "# Load and test the saved model for classifier 4\n",
    "loaded_model = joblib.load('classifier_4.pkl')\n",
    "predictions = loaded_model.predict(X_test)\n",
    "print('Test Accuracy:', accuracy_score(y_test, predictions))\n",
    "print(classification_report(y_test, predictions))"
   ]
  },
  {
   "cell_type": "markdown",
   "id": "1b745eba",
   "metadata": {},
   "source": [
    "### Printing Results"
   ]
  },
  {
   "cell_type": "code",
   "execution_count": 33,
   "id": "b96db361",
   "metadata": {},
   "outputs": [
    {
     "name": "stdout",
     "output_type": "stream",
     "text": [
      "predicted_crop  Crop_Name true_crop_grouped  Ambiguous  Cotton  Jowar  Maize  \\\n",
      "0                  Cotton           Unknown         72     123      2     93   \n",
      "1               Greengram            Pulses        425     397     14    247   \n",
      "2                   Jowar             Jowar        143      70      1     91   \n",
      "3                   Maize             Maize         64      65      1     35   \n",
      "4                   Paddy             Paddy         56      21      0     52   \n",
      "5                 Redgram           Redgram       1338    1729     18    844   \n",
      "6                Soyabean           Unknown       1190    1228     26    833   \n",
      "7               Sugarcane         Sugarcane        573     171     11    383   \n",
      "8                    Urad            Pulses        339     355      7    197   \n",
      "\n",
      "predicted_crop  Paddy  Pulses  Redgram  Sugarcane  \n",
      "0                   8      21       40         12  \n",
      "1                  37     729      152         57  \n",
      "2                  38      64       52          8  \n",
      "3                  11      26       22          6  \n",
      "4                  24      18       11         69  \n",
      "5                 128     770      539        107  \n",
      "6                  84     713      410        156  \n",
      "7                  47     105       82        379  \n",
      "8                  25     294      124         26  \n"
     ]
    }
   ],
   "source": [
    "# Load the CSV file\n",
    "df = pd.read_csv(\"Results/final_predictions_combined_model.csv\")\n",
    "\n",
    "# Group by Crop_Name and count occurrences of (duration_numeric, predicted_Duration)\n",
    "result = df.groupby([\"Crop_Name\", \"true_crop_grouped\"])[\"predicted_crop\"].value_counts().unstack(fill_value=0)\n",
    "\n",
    "# Reset index for better readability\n",
    "result = result.reset_index()\n",
    "\n",
    "# Save the output as CSV\n",
    "#result.to_csv(\"Karnataka_Datasets/Across/Pred.csv\", index=False)\n",
    "\n",
    "# Print the result\n",
    "print(result)"
   ]
  },
  {
   "cell_type": "code",
   "execution_count": null,
   "id": "be4d526f",
   "metadata": {},
   "outputs": [],
   "source": []
  },
  {
   "cell_type": "code",
   "execution_count": null,
   "id": "e539a750",
   "metadata": {},
   "outputs": [],
   "source": []
  }
 ],
 "metadata": {
  "kernelspec": {
   "display_name": "Python 3 (ipykernel)",
   "language": "python",
   "name": "python3"
  },
  "language_info": {
   "codemirror_mode": {
    "name": "ipython",
    "version": 3
   },
   "file_extension": ".py",
   "mimetype": "text/x-python",
   "name": "python",
   "nbconvert_exporter": "python",
   "pygments_lexer": "ipython3",
   "version": "3.11.7"
  }
 },
 "nbformat": 4,
 "nbformat_minor": 5
}
