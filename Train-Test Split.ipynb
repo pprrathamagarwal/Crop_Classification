{
 "cells": [
  {
   "cell_type": "code",
   "execution_count": 4,
   "id": "e6ea891b",
   "metadata": {},
   "outputs": [
    {
     "name": "stdout",
     "output_type": "stream",
     "text": [
      "✅ Done: Per-file and combined splits saved.\n"
     ]
    }
   ],
   "source": [
    "import os\n",
    "import pandas as pd\n",
    "from sklearn.model_selection import train_test_split\n",
    "\n",
    "# 📁 Path to your directory with CSV files\n",
    "input_dir = \"Karnataka_Datasets/Across/Kharif/Cropland_Masked/Cropland_Mask_2021_22/AEZ_6/\"\n",
    "\n",
    "# 🧺 Store combined data\n",
    "combined_df = pd.DataFrame()\n",
    "\n",
    "# 📂 List of all CSV files\n",
    "csv_files = [f for f in os.listdir(input_dir) if f.endswith(\".csv\")]\n",
    "\n",
    "# 🔄 Iterate through files\n",
    "for file in csv_files:\n",
    "    file_path = os.path.join(input_dir, file)\n",
    "    df = pd.read_csv(file_path)\n",
    "\n",
    "    # 🧪 80-20 split per Crop_Name group\n",
    "    train_list, test_list = [], []\n",
    "    for crop, group in df.groupby(\"Crop_Name\"):\n",
    "        if len(group) >= 5:  # avoid tiny groups failing stratification\n",
    "            train, test = train_test_split(group, test_size=0.2, random_state=42, stratify=None)\n",
    "            train_list.append(train)\n",
    "            test_list.append(test)\n",
    "        else:\n",
    "            # If too small, assign all to train\n",
    "            train_list.append(group)\n",
    "\n",
    "    train_df = pd.concat(train_list).reset_index(drop=True)\n",
    "    test_df = pd.concat(test_list).reset_index(drop=True)\n",
    "\n",
    "    # 💾 Save split files\n",
    "    base_name = os.path.splitext(file)[0]\n",
    "    train_df.to_csv(os.path.join(input_dir, f\"{base_name}_train.csv\"), index=False)\n",
    "    test_df.to_csv(os.path.join(input_dir, f\"{base_name}_test.csv\"), index=False)\n",
    "\n",
    "    # 📥 Add to combined dataset\n",
    "    combined_df = pd.concat([combined_df, df], ignore_index=True)\n",
    "\n",
    "# 🧪 Combined 80-20 split across all files stratified by Crop_Name\n",
    "combined_train, combined_test = train_test_split(\n",
    "    combined_df, test_size=0.2, random_state=42, stratify=combined_df[\"Crop_Name\"]\n",
    ")\n",
    "\n",
    "# 💾 Save combined splits\n",
    "combined_train.to_csv(os.path.join(input_dir, \"combined_train.csv\"), index=False)\n",
    "combined_test.to_csv(os.path.join(input_dir, \"combined_test.csv\"), index=False)\n",
    "\n",
    "print(\"✅ Done: Per-file and combined splits saved.\")\n"
   ]
  },
  {
   "cell_type": "code",
   "execution_count": null,
   "id": "0fa30457",
   "metadata": {},
   "outputs": [],
   "source": []
  }
 ],
 "metadata": {
  "kernelspec": {
   "display_name": "Python 3 (ipykernel)",
   "language": "python",
   "name": "python3"
  },
  "language_info": {
   "codemirror_mode": {
    "name": "ipython",
    "version": 3
   },
   "file_extension": ".py",
   "mimetype": "text/x-python",
   "name": "python",
   "nbconvert_exporter": "python",
   "pygments_lexer": "ipython3",
   "version": "3.11.7"
  }
 },
 "nbformat": 4,
 "nbformat_minor": 5
}
