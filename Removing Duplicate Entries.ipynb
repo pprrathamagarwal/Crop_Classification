{
 "cells": [
  {
   "cell_type": "code",
   "execution_count": 3,
   "id": "034589d4",
   "metadata": {},
   "outputs": [],
   "source": [
    "import pandas as pd\n",
    "\n",
    "# Load the CSV file\n",
    "input_file = \"Karnataka_Datasets/Across/Kharif/Davanagere/Davanagere_SAR_NDVI_Interpolated.csv\"  # Replace with your actual file path\n",
    "df = pd.read_csv(input_file)\n",
    "\n",
    "# Identify columns by prefix\n",
    "vv_cols = [col for col in df.columns if col.startswith('VV_')]\n",
    "vh_cols = [col for col in df.columns if col.startswith('VH_')]\n",
    "gcvi_cols = [col for col in df.columns if col.startswith('GCVI_')]\n",
    "\n",
    "# Create hashes for each time series to detect duplicates\n",
    "vv_series = df[vv_cols].astype(str).agg('-'.join, axis=1)\n",
    "vh_series = df[vh_cols].astype(str).agg('-'.join, axis=1)\n",
    "gcvi_series = df[gcvi_cols].astype(str).agg('-'.join, axis=1)\n",
    "\n",
    "# Keep track of unique rows by hashing the time series\n",
    "seen = set()\n",
    "unique_rows = []\n",
    "\n",
    "for i in range(len(df)):\n",
    "    vv_key = f'vv:{vv_series[i]}'\n",
    "    vh_key = f'vh:{vh_series[i]}'\n",
    "    gcvi_key = f'gcvi:{gcvi_series[i]}'\n",
    "    \n",
    "    if vv_key in seen or vh_key in seen or gcvi_key in seen:\n",
    "        continue  # duplicate found, skip row\n",
    "    \n",
    "    seen.update([vv_key, vh_key, gcvi_key])\n",
    "    unique_rows.append(i)\n",
    "\n",
    "# Filter the dataframe to keep only unique rows\n",
    "df_unique = df.loc[unique_rows].reset_index(drop=True)\n",
    "\n",
    "# Save back to the same file (optional)\n",
    "df_unique.to_csv(input_file, index=False)\n",
    "\n",
    "# Or, save to a new file:\n",
    "# df_unique.to_csv(\"unique_time_series_rows.csv\", index=False)\n"
   ]
  },
  {
   "cell_type": "code",
   "execution_count": null,
   "id": "e87cbd80",
   "metadata": {},
   "outputs": [],
   "source": []
  }
 ],
 "metadata": {
  "kernelspec": {
   "display_name": "Python 3 (ipykernel)",
   "language": "python",
   "name": "python3"
  },
  "language_info": {
   "codemirror_mode": {
    "name": "ipython",
    "version": 3
   },
   "file_extension": ".py",
   "mimetype": "text/x-python",
   "name": "python",
   "nbconvert_exporter": "python",
   "pygments_lexer": "ipython3",
   "version": "3.11.7"
  }
 },
 "nbformat": 4,
 "nbformat_minor": 5
}
