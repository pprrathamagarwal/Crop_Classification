{
 "cells": [
  {
   "cell_type": "code",
   "execution_count": 1,
   "id": "900c7422",
   "metadata": {},
   "outputs": [
    {
     "name": "stdout",
     "output_type": "stream",
     "text": [
      "✅ Combined 8 CSV files into Karnataka_Datasets/Across/Kharif/Davanagere/Davanagere_SAR_NDVI.csv\n"
     ]
    }
   ],
   "source": [
    "import os\n",
    "import pandas as pd\n",
    "\n",
    "# Path to the directory containing CSV files\n",
    "input_dir = 'Karnataka_Datasets/Across/Kharif/Davanagere/Davanagere_SAR_NDVI_Chunks/'\n",
    "output_file = 'Karnataka_Datasets/Across/Kharif/Davanagere/Davanagere_SAR_NDVI.csv'\n",
    "\n",
    "# List to store individual DataFrames\n",
    "dfs = []\n",
    "\n",
    "# Iterate through all CSV files in the directory\n",
    "for filename in os.listdir(input_dir):\n",
    "    if filename.endswith('.csv'):\n",
    "        file_path = os.path.join(input_dir, filename)\n",
    "        try:\n",
    "            df = pd.read_csv(file_path)\n",
    "            dfs.append(df)\n",
    "        except Exception as e:\n",
    "            print(f\"⚠️ Skipping {filename}: {e}\")\n",
    "\n",
    "# Concatenate all dataframes\n",
    "if dfs:\n",
    "    combined_df = pd.concat(dfs, ignore_index=True)\n",
    "    combined_df.to_csv(output_file, index=False)\n",
    "    print(f\"✅ Combined {len(dfs)} CSV files into {output_file}\")\n",
    "else:\n",
    "    print(\"⚠️ No valid CSV files found.\")\n"
   ]
  },
  {
   "cell_type": "code",
   "execution_count": null,
   "id": "08e229ee",
   "metadata": {},
   "outputs": [],
   "source": []
  }
 ],
 "metadata": {
  "kernelspec": {
   "display_name": "Python 3 (ipykernel)",
   "language": "python",
   "name": "python3"
  },
  "language_info": {
   "codemirror_mode": {
    "name": "ipython",
    "version": 3
   },
   "file_extension": ".py",
   "mimetype": "text/x-python",
   "name": "python",
   "nbconvert_exporter": "python",
   "pygments_lexer": "ipython3",
   "version": "3.11.7"
  }
 },
 "nbformat": 4,
 "nbformat_minor": 5
}
