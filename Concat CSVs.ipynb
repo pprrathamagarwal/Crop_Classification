{
 "cells": [
  {
   "cell_type": "code",
   "execution_count": 1,
   "id": "900c7422",
   "metadata": {},
   "outputs": [
    {
     "name": "stdout",
     "output_type": "stream",
     "text": [
      "✅ Combined 3 CSV files into Karnataka_Datasets/Across/Kharif/2020-21/SAR_GCVI/AEZ_6/Final/Train/Train.csv\n"
     ]
    }
   ],
   "source": [
    "import os\n",
    "import pandas as pd\n",
    "\n",
    "# Path to the directory containing CSV files\n",
    "input_dir = 'Karnataka_Datasets/Across/Kharif/2020-21/SAR_GCVI/AEZ_6/Final/Train/'\n",
    "output_file = 'Karnataka_Datasets/Across/Kharif/2020-21/SAR_GCVI/AEZ_6/Final/Train/Train.csv'\n",
    "\n",
    "# List to store individual DataFrames\n",
    "dfs = []\n",
    "\n",
    "# Iterate through all CSV files in the directory\n",
    "for filename in os.listdir(input_dir):\n",
    "    if filename.endswith('.csv'):\n",
    "        file_path = os.path.join(input_dir, filename)\n",
    "        try:\n",
    "            df = pd.read_csv(file_path)\n",
    "            dfs.append(df)\n",
    "        except Exception as e:\n",
    "            print(f\"⚠️ Skipping {filename}: {e}\")\n",
    "\n",
    "# Concatenate all dataframes\n",
    "if dfs:\n",
    "    combined_df = pd.concat(dfs, ignore_index=True)\n",
    "    combined_df.to_csv(output_file, index=False)\n",
    "    print(f\"✅ Combined {len(dfs)} CSV files into {output_file}\")\n",
    "else:\n",
    "    print(\"⚠️ No valid CSV files found.\")\n"
   ]
  },
  {
   "cell_type": "code",
   "execution_count": 4,
   "id": "08e229ee",
   "metadata": {},
   "outputs": [],
   "source": [
    "import os\n",
    "import pandas as pd\n",
    "from collections import defaultdict\n",
    "\n",
    "# Modify this with your actual folder path\n",
    "input_dir= \"Karnataka_Datasets/Across/Kharif/Cropland_Masked/Cropland_Mask_2021_22/\"\n",
    "output_dir = input_dir  # Output will be in subfolders here\n",
    "\n",
    "# AEZ 6 Districts (case-insensitive match)\n",
    "aez6_districts = {\"raichur\", \"dharwad\", \"bijapur\", \"begalavi\", \"bidar\"}\n",
    "\n",
    "# Dictionary to group files by district\n",
    "district_files = defaultdict(list)\n",
    "\n",
    "# Iterate over files and group by district\n",
    "for file in os.listdir(input_dir):\n",
    "    if \"_\" not in file:\n",
    "        continue  # Skip files without expected structure\n",
    "    parts = file.split(\"_\")\n",
    "    if len(parts) < 2:\n",
    "        continue\n",
    "    district = parts[1].lower()  # District name is the second part\n",
    "    full_path = os.path.join(input_dir, file)\n",
    "    if os.path.isfile(full_path):\n",
    "        district_files[district].append(full_path)\n",
    "\n",
    "# Process each district group\n",
    "for district, files in district_files.items():\n",
    "    # Check if district is in AEZ 6\n",
    "    if district in aez6_districts:\n",
    "        folder = os.path.join(output_dir, \"AEZ_6\")\n",
    "    else:\n",
    "        folder = os.path.join(output_dir, \"Others\")\n",
    "    os.makedirs(folder, exist_ok=True)\n",
    "\n",
    "    # Concatenate all files for this district\n",
    "    dataframes = []\n",
    "    for file in files:\n",
    "        try:\n",
    "            df = pd.read_csv(file)\n",
    "            dataframes.append(df)\n",
    "        except Exception as e:\n",
    "            print(f\"Error reading {file}: {e}\")\n",
    "\n",
    "    if dataframes:\n",
    "        output_file = os.path.join(folder, f\"{district}_merged.csv\")\n",
    "        pd.concat(dataframes, ignore_index=True).to_csv(output_file, index=False)\n"
   ]
  },
  {
   "cell_type": "code",
   "execution_count": null,
   "id": "95bf0f42",
   "metadata": {},
   "outputs": [],
   "source": []
  }
 ],
 "metadata": {
  "kernelspec": {
   "display_name": "Python 3 (ipykernel)",
   "language": "python",
   "name": "python3"
  },
  "language_info": {
   "codemirror_mode": {
    "name": "ipython",
    "version": 3
   },
   "file_extension": ".py",
   "mimetype": "text/x-python",
   "name": "python",
   "nbconvert_exporter": "python",
   "pygments_lexer": "ipython3",
   "version": "3.11.7"
  }
 },
 "nbformat": 4,
 "nbformat_minor": 5
}
