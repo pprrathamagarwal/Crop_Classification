{
 "cells": [
  {
   "cell_type": "markdown",
   "id": "d71627a0",
   "metadata": {},
   "source": [
    "# Interpolating Kharif Data"
   ]
  },
  {
   "cell_type": "code",
   "execution_count": 1,
   "id": "6258de42",
   "metadata": {},
   "outputs": [],
   "source": [
    "import pandas as pd\n",
    "import re\n",
    "\n",
    "# Load your CSV\n",
    "df = pd.read_csv(\"Karnataka_Datasets/Across/S2/Merged_Karnataka_S2_Kharif.csv\")\n",
    "\n",
    "# Extract all columns that end in _1 to _37\n",
    "vi_pattern = re.compile(r'^(.*)_(\\d+)$')\n",
    "vi_groups = {}\n",
    "\n",
    "for col in df.columns:\n",
    "    match = vi_pattern.match(col)\n",
    "    if match:\n",
    "        base, num = match.groups()\n",
    "        num = int(num)\n",
    "        if 1 <= num <= 37:\n",
    "            vi_groups.setdefault(base, []).append(col)\n",
    "\n",
    "# Interpolate within each VI group\n",
    "for vi, columns in vi_groups.items():\n",
    "    # Sort columns by number to maintain order NDVI_1, NDVI_2, ..., NDVI_37\n",
    "    columns_sorted = sorted(columns, key=lambda x: int(x.split('_')[-1]))\n",
    "    df[columns_sorted] = df[columns_sorted].interpolate(axis=1)\n",
    "\n",
    "# Save the updated dataframe\n",
    "df.to_csv(\"Karnataka_Datasets/Across/S2/Merged_Karnataka_S2_Kharif_Interpolated.csv\", index=False)\n"
   ]
  },
  {
   "cell_type": "code",
   "execution_count": 1,
   "id": "8469300c",
   "metadata": {},
   "outputs": [
    {
     "name": "stdout",
     "output_type": "stream",
     "text": [
      "✅ Columns renamed, interpolated, and saved as 'Interpolated_Karnataka_S2.csv'\n"
     ]
    }
   ],
   "source": [
    "import pandas as pd\n",
    "\n",
    "# Load the flattened CSV\n",
    "df = pd.read_csv('Karnataka_Datasets/Across/Cloud_Prob/Karnataka_Merged_S2.csv')  # Adjust path if needed\n",
    "\n",
    "# Identify the time-series feature groups\n",
    "feature_prefixes = set(\n",
    "    col.split('_')[0]\n",
    "    for col in df.columns\n",
    "    if '_' in col and col not in ['Latitude', 'Longitude', 'Crop_Name']\n",
    ")\n",
    "\n",
    "# Create a mapping to rename columns to sequential format\n",
    "rename_mapping = {}\n",
    "for feature in feature_prefixes:\n",
    "    # Find all columns for this feature and sort them by date\n",
    "    cols = [col for col in df.columns if col.startswith(feature + '_')]\n",
    "    sorted_cols = sorted(\n",
    "        cols,\n",
    "        key=lambda x: pd.to_datetime(x.replace(feature + '_', ''), format='%d-%m-%Y', errors='coerce')\n",
    "    )\n",
    "    # Create rename mapping\n",
    "    for i, col in enumerate(sorted_cols, 1):\n",
    "        rename_mapping[col] = f\"{feature}_{i}\"\n",
    "\n",
    "# Rename columns\n",
    "df.rename(columns=rename_mapping, inplace=True)\n",
    "\n",
    "# Interpolate each feature group\n",
    "for feature in feature_prefixes:\n",
    "    feature_cols = sorted([col for col in df.columns if col.startswith(feature + '_')],\n",
    "                          key=lambda x: int(x.split('_')[1]))\n",
    "    df[feature_cols] = df[feature_cols].interpolate(axis=1, limit_direction='both')\n",
    "\n",
    "# Save the final output\n",
    "df.to_csv('Karnataka_Datasets/Across/Cloud_Prob/Interpolated_Karnataka_S2.csv', index=False)\n",
    "print(\"✅ Columns renamed, interpolated, and saved as 'Interpolated_Karnataka_S2.csv'\")\n"
   ]
  },
  {
   "cell_type": "code",
   "execution_count": null,
   "id": "fbd0a77f",
   "metadata": {},
   "outputs": [],
   "source": []
  }
 ],
 "metadata": {
  "kernelspec": {
   "display_name": "Python 3 (ipykernel)",
   "language": "python",
   "name": "python3"
  },
  "language_info": {
   "codemirror_mode": {
    "name": "ipython",
    "version": 3
   },
   "file_extension": ".py",
   "mimetype": "text/x-python",
   "name": "python",
   "nbconvert_exporter": "python",
   "pygments_lexer": "ipython3",
   "version": "3.11.7"
  }
 },
 "nbformat": 4,
 "nbformat_minor": 5
}
