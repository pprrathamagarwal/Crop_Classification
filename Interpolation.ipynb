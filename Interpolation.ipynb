{
 "cells": [
  {
   "cell_type": "markdown",
   "id": "d71627a0",
   "metadata": {},
   "source": [
    "# Interpolating Kharif Data"
   ]
  },
  {
   "cell_type": "code",
   "execution_count": 1,
   "id": "6258de42",
   "metadata": {},
   "outputs": [],
   "source": [
    "import pandas as pd\n",
    "import re\n",
    "\n",
    "# Load your CSV\n",
    "df = pd.read_csv(\"Karnataka_Datasets/Across/S2/Merged_Karnataka_S2_Kharif.csv\")\n",
    "\n",
    "# Extract all columns that end in _1 to _37\n",
    "vi_pattern = re.compile(r'^(.*)_(\\d+)$')\n",
    "vi_groups = {}\n",
    "\n",
    "for col in df.columns:\n",
    "    match = vi_pattern.match(col)\n",
    "    if match:\n",
    "        base, num = match.groups()\n",
    "        num = int(num)\n",
    "        if 1 <= num <= 37:\n",
    "            vi_groups.setdefault(base, []).append(col)\n",
    "\n",
    "# Interpolate within each VI group\n",
    "for vi, columns in vi_groups.items():\n",
    "    # Sort columns by number to maintain order NDVI_1, NDVI_2, ..., NDVI_37\n",
    "    columns_sorted = sorted(columns, key=lambda x: int(x.split('_')[-1]))\n",
    "    df[columns_sorted] = df[columns_sorted].interpolate(axis=1)\n",
    "\n",
    "# Save the updated dataframe\n",
    "df.to_csv(\"Karnataka_Datasets/Across/S2/Merged_Karnataka_S2_Kharif_Interpolated.csv\", index=False)\n"
   ]
  },
  {
   "cell_type": "code",
   "execution_count": null,
   "id": "8469300c",
   "metadata": {},
   "outputs": [],
   "source": []
  }
 ],
 "metadata": {
  "kernelspec": {
   "display_name": "Python 3 (ipykernel)",
   "language": "python",
   "name": "python3"
  },
  "language_info": {
   "codemirror_mode": {
    "name": "ipython",
    "version": 3
   },
   "file_extension": ".py",
   "mimetype": "text/x-python",
   "name": "python",
   "nbconvert_exporter": "python",
   "pygments_lexer": "ipython3",
   "version": "3.11.7"
  }
 },
 "nbformat": 4,
 "nbformat_minor": 5
}
