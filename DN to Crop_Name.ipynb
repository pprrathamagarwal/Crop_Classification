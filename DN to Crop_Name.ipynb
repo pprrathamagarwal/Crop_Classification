{
 "cells": [
  {
   "cell_type": "code",
   "execution_count": 1,
   "id": "968dca1f",
   "metadata": {},
   "outputs": [],
   "source": [
    "import pandas as pd\n",
    "\n",
    "# Load your CSV file\n",
    "df = pd.read_csv(\"Agrifield/Data/Agrifield.csv\")\n",
    "\n",
    "# Mapping dictionary\n",
    "dn_to_crop = {\n",
    "    1: \"Wheat\",\n",
    "    2: \"Mustard\",\n",
    "    3: \"Lentil\",\n",
    "    4: \"No Crop/Fallow\",\n",
    "    5: \"Green pea\",\n",
    "    6: \"Sugarcane\",\n",
    "    8: \"Garlic\",\n",
    "    9: \"Maize\",\n",
    "    13: \"Gram\",\n",
    "    14: \"Coriander\",\n",
    "    15: \"Potato\",\n",
    "    16: \"Bersem\",\n",
    "    36: \"Rice\"\n",
    "}\n",
    "\n",
    "# Create new column 'Crop_Name'\n",
    "df[\"Crop_Name\"] = df[\"DN\"].map(dn_to_crop)\n",
    "\n",
    "# (Optional) Save the updated file\n",
    "df.to_csv(\"Agrifield/Data/Agrifield.csv\", index=False)\n"
   ]
  },
  {
   "cell_type": "code",
   "execution_count": null,
   "id": "ca07c0f7",
   "metadata": {},
   "outputs": [],
   "source": []
  }
 ],
 "metadata": {
  "kernelspec": {
   "display_name": "Python 3 (ipykernel)",
   "language": "python",
   "name": "python3"
  },
  "language_info": {
   "codemirror_mode": {
    "name": "ipython",
    "version": 3
   },
   "file_extension": ".py",
   "mimetype": "text/x-python",
   "name": "python",
   "nbconvert_exporter": "python",
   "pygments_lexer": "ipython3",
   "version": "3.11.7"
  }
 },
 "nbformat": 4,
 "nbformat_minor": 5
}
