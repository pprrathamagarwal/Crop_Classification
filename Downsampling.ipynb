{
 "cells": [
  {
   "cell_type": "code",
   "execution_count": 2,
   "id": "fd7d9c5a",
   "metadata": {},
   "outputs": [],
   "source": [
    "import pandas as pd\n",
    "import os\n",
    "import glob"
   ]
  },
  {
   "cell_type": "markdown",
   "id": "0d1bf9ca",
   "metadata": {},
   "source": [
    "# Downsampling on all the Variables"
   ]
  },
  {
   "cell_type": "code",
   "execution_count": 8,
   "id": "ced2e6fe",
   "metadata": {},
   "outputs": [
    {
     "name": "stdout",
     "output_type": "stream",
     "text": [
      "Median group size: 4087.5\n",
      "Upper limit for downsampling: 5313\n"
     ]
    }
   ],
   "source": [
    "\n",
    "# Load dataset\n",
    "df = pd.read_csv(\"Karnataka_Datasets/Across/Kharif/Cropland_Masked/Train/2018/combined_train.csv\")\n",
    "\n",
    "# Group by Structure, Height, and Duration\n",
    "group_cols = ['Structure', 'Height', 'Duration']\n",
    "grouped = df.groupby(group_cols)\n",
    "\n",
    "# Get sizes of each group\n",
    "group_sizes = grouped.size()\n",
    "median_size = group_sizes.median()\n",
    "upper_limit = median_size * 1.3  # Allow 30% variation\n",
    "\n",
    "print(f\"Median group size: {median_size}\")\n",
    "print(f\"Upper limit for downsampling: {int(upper_limit)}\")\n",
    "\n",
    "# Controlled downsampling\n",
    "def controlled_downsample(group):\n",
    "    size = len(group)\n",
    "    if size > upper_limit:\n",
    "        return group.sample(n=int(upper_limit), random_state=42)\n",
    "    return group\n",
    "\n",
    "balanced_df = grouped.apply(controlled_downsample).reset_index(drop=True)\n",
    "\n",
    "# Save or return\n",
    "balanced_df.to_csv(\"Karnataka_Datasets/Across/Kharif/Cropland_Masked/Train/2018/Combined_Train_Balanced.csv\", index=False)\n"
   ]
  },
  {
   "cell_type": "markdown",
   "id": "9c6ad8e5",
   "metadata": {},
   "source": [
    "# Downsampling on a Specific Column"
   ]
  },
  {
   "cell_type": "code",
   "execution_count": 10,
   "id": "abe18f0b",
   "metadata": {},
   "outputs": [
    {
     "name": "stdout",
     "output_type": "stream",
     "text": [
      "Structure\n",
      "Grass    16599\n",
      "Root      2777\n",
      "Shrub    11035\n",
      "Tree      5313\n",
      "dtype: int64\n",
      "Minimum group size: 2777\n",
      "Maximum allowed: 4165\n",
      "Structure\n",
      "Grass    4165\n",
      "Shrub    4165\n",
      "Tree     4165\n",
      "Root     2777\n",
      "Name: count, dtype: int64\n"
     ]
    }
   ],
   "source": [
    "\n",
    "\n",
    "# Load the dataset\n",
    "df = pd.read_csv(\"Karnataka_Datasets/Across/Kharif/Cropland_Masked/Cropland_Mask_2018_19/AEZ_6/bidar_merged.csv\")\n",
    "\n",
    "# Define the target column\n",
    "target_col = \"Structure\"\n",
    "\n",
    "# Group by Structure\n",
    "grouped = df.groupby(target_col)\n",
    "group_sizes = grouped.size()\n",
    "min_size = group_sizes.min()\n",
    "max_allowed = int(min_size * 1.5)\n",
    "\n",
    "print(group_sizes)\n",
    "print(f\"Minimum group size: {min_size}\")\n",
    "print(f\"Maximum allowed: {max_allowed}\")\n",
    "\n",
    "# Controlled downsampling\n",
    "def downsample(group):\n",
    "    if len(group) > max_allowed:\n",
    "        return group.sample(n=max_allowed, random_state=42)\n",
    "    return group\n",
    "\n",
    "balanced_df = grouped.apply(downsample).reset_index(drop=True)\n",
    "\n",
    "# Check new distribution\n",
    "print(balanced_df['Structure'].value_counts())\n",
    "\n",
    "# Save the balanced dataset\n",
    "balanced_df.to_csv(\"Karnataka_Datasets/Across/Kharif/Cropland_Masked/Train/2018/Bidar_Structure\", index=False)\n"
   ]
  },
  {
   "cell_type": "code",
   "execution_count": 6,
   "id": "d24bcad1",
   "metadata": {},
   "outputs": [
    {
     "name": "stdout",
     "output_type": "stream",
     "text": [
      "✅ bidar_merged_train.csv processed and saved to Karnataka_Datasets/Across/Kharif/Cropland_Masked/Train/2021/bidar\n",
      "✅ combined_train.csv processed and saved to Karnataka_Datasets/Across/Kharif/Cropland_Masked/Train/2021/combined\n",
      "✅ dharwad_merged_train.csv processed and saved to Karnataka_Datasets/Across/Kharif/Cropland_Masked/Train/2021/dharwad\n",
      "✅ raichur_merged_train.csv processed and saved to Karnataka_Datasets/Across/Kharif/Cropland_Masked/Train/2021/raichur\n"
     ]
    }
   ],
   "source": [
    "import os\n",
    "import glob\n",
    "import pandas as pd\n",
    "\n",
    "# --- Input and Output Directory ---\n",
    "base_dir = 'Karnataka_Datasets/Across/Kharif/Cropland_Masked/Train/2021/'  # Set your directory here\n",
    "\n",
    "# --- Balancing Function ---\n",
    "def balance_df(df, column):\n",
    "    group_counts = df[column].value_counts()\n",
    "    min_count = group_counts.min()\n",
    "    threshold = int(min_count * 1.3)\n",
    "\n",
    "    balanced_df = pd.concat([\n",
    "        group.sample(n=min(len(group), threshold), random_state=42)\n",
    "        for _, group in df.groupby(column)\n",
    "    ])\n",
    "    return balanced_df\n",
    "\n",
    "# --- Process All CSVs in the Directory ---\n",
    "csv_files = glob.glob(os.path.join(base_dir, \"*.csv\"))\n",
    "\n",
    "for file_path in csv_files:\n",
    "    filename = os.path.basename(file_path)\n",
    "    prefix = filename.split('_')[0]\n",
    "    sub_dir = os.path.join(base_dir, prefix)\n",
    "    os.makedirs(sub_dir, exist_ok=True)\n",
    "\n",
    "    try:\n",
    "        df = pd.read_csv(file_path)\n",
    "\n",
    "        for col in ['Height', 'Structure', 'Duration']:\n",
    "            if col not in df.columns:\n",
    "                print(f\"Column {col} not found in {filename}, skipping...\")\n",
    "                continue\n",
    "\n",
    "            balanced_df = balance_df(df, col)\n",
    "            output_path = os.path.join(sub_dir, f\"balanced_on_{col}.csv\")\n",
    "            balanced_df.to_csv(output_path, index=False)\n",
    "\n",
    "        print(f\"✅ {filename} processed and saved to {sub_dir}\")\n",
    "\n",
    "    except Exception as e:\n",
    "        print(f\"❌ Error processing {filename}: {e}\")\n"
   ]
  },
  {
   "cell_type": "code",
   "execution_count": null,
   "id": "d14104c7",
   "metadata": {},
   "outputs": [],
   "source": []
  }
 ],
 "metadata": {
  "kernelspec": {
   "display_name": "Python 3 (ipykernel)",
   "language": "python",
   "name": "python3"
  },
  "language_info": {
   "codemirror_mode": {
    "name": "ipython",
    "version": 3
   },
   "file_extension": ".py",
   "mimetype": "text/x-python",
   "name": "python",
   "nbconvert_exporter": "python",
   "pygments_lexer": "ipython3",
   "version": "3.11.7"
  }
 },
 "nbformat": 4,
 "nbformat_minor": 5
}
