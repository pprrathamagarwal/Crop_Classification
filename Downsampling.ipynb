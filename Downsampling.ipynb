{
 "cells": [
  {
   "cell_type": "code",
   "execution_count": null,
   "id": "fd7d9c5a",
   "metadata": {},
   "outputs": [],
   "source": [
    "import pandas as pd"
   ]
  },
  {
   "cell_type": "markdown",
   "id": "0d1bf9ca",
   "metadata": {},
   "source": [
    "# Downsampling on all the Variables"
   ]
  },
  {
   "cell_type": "code",
   "execution_count": 2,
   "id": "ced2e6fe",
   "metadata": {},
   "outputs": [
    {
     "name": "stdout",
     "output_type": "stream",
     "text": [
      "Median group size: 4379.0\n",
      "Upper limit for downsampling: 5692\n"
     ]
    }
   ],
   "source": [
    "\n",
    "# Load dataset\n",
    "df = pd.read_csv(\"Karnataka_Datasets/Across/Train_Test_Datasets/Combined_Train.csv\")\n",
    "\n",
    "# Group by Structure, Height, and Duration\n",
    "group_cols = ['Structure', 'Height', 'Duration']\n",
    "grouped = df.groupby(group_cols)\n",
    "\n",
    "# Get sizes of each group\n",
    "group_sizes = grouped.size()\n",
    "median_size = group_sizes.median()\n",
    "upper_limit = median_size * 1.3  # Allow 30% variation\n",
    "\n",
    "print(f\"Median group size: {median_size}\")\n",
    "print(f\"Upper limit for downsampling: {int(upper_limit)}\")\n",
    "\n",
    "# Controlled downsampling\n",
    "def controlled_downsample(group):\n",
    "    size = len(group)\n",
    "    if size > upper_limit:\n",
    "        return group.sample(n=int(upper_limit), random_state=42)\n",
    "    return group\n",
    "\n",
    "balanced_df = grouped.apply(controlled_downsample).reset_index(drop=True)\n",
    "\n",
    "# Save or return\n",
    "balanced_df.to_csv(\"Karnataka_Datasets/Across/Train_Test_Datasets/Combined_Train_Balanced.csv\", index=False)\n"
   ]
  },
  {
   "cell_type": "markdown",
   "id": "9c6ad8e5",
   "metadata": {},
   "source": [
    "# Downsampling on a Specific Column"
   ]
  },
  {
   "cell_type": "code",
   "execution_count": 4,
   "id": "abe18f0b",
   "metadata": {},
   "outputs": [
    {
     "name": "stdout",
     "output_type": "stream",
     "text": [
      "Structure\n",
      "Grass Crop    21319\n",
      "Shrub          8174\n",
      "Tree           5692\n",
      "dtype: int64\n",
      "Minimum group size: 5692\n",
      "Maximum allowed: 7399\n",
      "Structure\n",
      "Grass Crop    7399\n",
      "Shrub         7399\n",
      "Tree          5692\n",
      "Name: count, dtype: int64\n"
     ]
    }
   ],
   "source": [
    "\n",
    "\n",
    "# Load the dataset\n",
    "df = pd.read_csv(\"Karnataka_Datasets/Across/Train_Test_Datasets/Combined_Train_Balanced.csv\")\n",
    "\n",
    "# Define the target column\n",
    "target_col = \"Structure\"\n",
    "\n",
    "# Group by Structure\n",
    "grouped = df.groupby(target_col)\n",
    "group_sizes = grouped.size()\n",
    "min_size = group_sizes.min()\n",
    "max_allowed = int(min_size * 1.3)\n",
    "\n",
    "print(group_sizes)\n",
    "print(f\"Minimum group size: {min_size}\")\n",
    "print(f\"Maximum allowed: {max_allowed}\")\n",
    "\n",
    "# Controlled downsampling\n",
    "def downsample(group):\n",
    "    if len(group) > max_allowed:\n",
    "        return group.sample(n=max_allowed, random_state=42)\n",
    "    return group\n",
    "\n",
    "balanced_df = grouped.apply(downsample).reset_index(drop=True)\n",
    "\n",
    "# Check new distribution\n",
    "print(balanced_df['Structure'].value_counts())\n",
    "\n",
    "# Save the balanced dataset\n",
    "balanced_df.to_csv(\"Karnataka_Datasets/Across/Train_Test_Datasets/Combined_Train_Balanced.csv\", index=False)\n"
   ]
  }
 ],
 "metadata": {
  "kernelspec": {
   "display_name": "Python 3 (ipykernel)",
   "language": "python",
   "name": "python3"
  },
  "language_info": {
   "codemirror_mode": {
    "name": "ipython",
    "version": 3
   },
   "file_extension": ".py",
   "mimetype": "text/x-python",
   "name": "python",
   "nbconvert_exporter": "python",
   "pygments_lexer": "ipython3",
   "version": "3.11.7"
  }
 },
 "nbformat": 4,
 "nbformat_minor": 5
}
