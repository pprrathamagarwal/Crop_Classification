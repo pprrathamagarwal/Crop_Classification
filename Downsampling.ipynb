{
 "cells": [
  {
   "cell_type": "code",
   "execution_count": 1,
   "id": "fd7d9c5a",
   "metadata": {},
   "outputs": [],
   "source": [
    "import pandas as pd\n",
    "import os\n",
    "import glob"
   ]
  },
  {
   "cell_type": "markdown",
   "id": "0d1bf9ca",
   "metadata": {},
   "source": [
    "# Downsampling on all the Variables"
   ]
  },
  {
   "cell_type": "code",
   "execution_count": 8,
   "id": "ced2e6fe",
   "metadata": {},
   "outputs": [
    {
     "name": "stdout",
     "output_type": "stream",
     "text": [
      "Median group size: 4087.5\n",
      "Upper limit for downsampling: 5313\n"
     ]
    }
   ],
   "source": [
    "\n",
    "# Load dataset\n",
    "df = pd.read_csv(\"Karnataka_Datasets/Across/Kharif/Cropland_Masked/Train/2018/combined_train.csv\")\n",
    "\n",
    "# Group by Structure, Height, and Duration\n",
    "group_cols = ['Structure', 'Height', 'Duration']\n",
    "grouped = df.groupby(group_cols)\n",
    "\n",
    "# Get sizes of each group\n",
    "group_sizes = grouped.size()\n",
    "median_size = group_sizes.median()\n",
    "upper_limit = median_size * 1.3  # Allow 30% variation\n",
    "\n",
    "print(f\"Median group size: {median_size}\")\n",
    "print(f\"Upper limit for downsampling: {int(upper_limit)}\")\n",
    "\n",
    "# Controlled downsampling\n",
    "def controlled_downsample(group):\n",
    "    size = len(group)\n",
    "    if size > upper_limit:\n",
    "        return group.sample(n=int(upper_limit), random_state=42)\n",
    "    return group\n",
    "\n",
    "balanced_df = grouped.apply(controlled_downsample).reset_index(drop=True)\n",
    "\n",
    "# Save or return\n",
    "balanced_df.to_csv(\"Karnataka_Datasets/Across/Kharif/Cropland_Masked/Train/2018/Combined_Train_Balanced.csv\", index=False)\n"
   ]
  },
  {
   "cell_type": "markdown",
   "id": "9c6ad8e5",
   "metadata": {},
   "source": [
    "# Downsampling on a Specific Column"
   ]
  },
  {
   "cell_type": "code",
   "execution_count": 10,
   "id": "abe18f0b",
   "metadata": {},
   "outputs": [
    {
     "name": "stdout",
     "output_type": "stream",
     "text": [
      "Structure\n",
      "Grass    16599\n",
      "Root      2777\n",
      "Shrub    11035\n",
      "Tree      5313\n",
      "dtype: int64\n",
      "Minimum group size: 2777\n",
      "Maximum allowed: 4165\n",
      "Structure\n",
      "Grass    4165\n",
      "Shrub    4165\n",
      "Tree     4165\n",
      "Root     2777\n",
      "Name: count, dtype: int64\n"
     ]
    }
   ],
   "source": [
    "\n",
    "\n",
    "# Load the dataset\n",
    "df = pd.read_csv(\"Karnataka_Datasets/Across/Kharif/Cropland_Masked/Cropland_Mask_2018_19/AEZ_6/bidar_merged.csv\")\n",
    "\n",
    "# Define the target column\n",
    "target_col = \"Structure\"\n",
    "\n",
    "# Group by Structure\n",
    "grouped = df.groupby(target_col)\n",
    "group_sizes = grouped.size()\n",
    "min_size = group_sizes.min()\n",
    "max_allowed = int(min_size * 1.5)\n",
    "\n",
    "print(group_sizes)\n",
    "print(f\"Minimum group size: {min_size}\")\n",
    "print(f\"Maximum allowed: {max_allowed}\")\n",
    "\n",
    "# Controlled downsampling\n",
    "def downsample(group):\n",
    "    if len(group) > max_allowed:\n",
    "        return group.sample(n=max_allowed, random_state=42)\n",
    "    return group\n",
    "\n",
    "balanced_df = grouped.apply(downsample).reset_index(drop=True)\n",
    "\n",
    "# Check new distribution\n",
    "print(balanced_df['Structure'].value_counts())\n",
    "\n",
    "# Save the balanced dataset\n",
    "balanced_df.to_csv(\"Karnataka_Datasets/Across/Kharif/Cropland_Masked/Train/2018/Bidar_Structure\", index=False)\n"
   ]
  },
  {
   "cell_type": "code",
   "execution_count": 4,
   "id": "d24bcad1",
   "metadata": {},
   "outputs": [
    {
     "name": "stdout",
     "output_type": "stream",
     "text": [
      "✅ bidar_merged_train.csv processed and saved to Karnataka_Datasets/Across/Kharif/Cropland_Masked/Train/2021/Unbalanced/bidar\n",
      "✅ combined_train.csv processed and saved to Karnataka_Datasets/Across/Kharif/Cropland_Masked/Train/2021/Unbalanced/combined\n",
      "✅ dharwad_merged_train.csv processed and saved to Karnataka_Datasets/Across/Kharif/Cropland_Masked/Train/2021/Unbalanced/dharwad\n",
      "✅ raichur_merged_train.csv processed and saved to Karnataka_Datasets/Across/Kharif/Cropland_Masked/Train/2021/Unbalanced/raichur\n"
     ]
    }
   ],
   "source": [
    "# --- Input and Output Directory ---\n",
    "base_dir = 'Karnataka_Datasets/Across/Kharif/Cropland_Masked/Train/2021/Unbalanced/'\n",
    "\n",
    "# --- Balancing Function Based on Minimum Total Count ---\n",
    "def balance_df(df, column):\n",
    "    balanced_data = []\n",
    "\n",
    "    # Step 1: Get target total per class based on min count among column's values\n",
    "    class_counts = df[column].value_counts()\n",
    "    target_total = class_counts.min()\n",
    "\n",
    "    for value in class_counts.index:\n",
    "        subset = df[df[column] == value]\n",
    "\n",
    "        # Group by Crop_Name\n",
    "        crop_groups = subset.groupby('Crop_Name')\n",
    "        crop_sizes = crop_groups.size()\n",
    "\n",
    "        # Identify small and large crops\n",
    "        small_crops = crop_sizes[crop_sizes < target_total * 0.15]\n",
    "        large_crops = crop_sizes[crop_sizes >= target_total * 0.15]\n",
    "\n",
    "        # Step 2: Add all small crops fully\n",
    "        collected = [subset[subset['Crop_Name'] == crop] for crop in small_crops.index]\n",
    "        small_total = sum(len(df_) for df_ in collected)\n",
    "\n",
    "        # Step 3: Proportionally sample from large crops to fill remaining\n",
    "        remaining = max(target_total - small_total, 0)\n",
    "        large_total = large_crops.sum()\n",
    "\n",
    "        for crop in large_crops.index:\n",
    "            crop_df = subset[subset['Crop_Name'] == crop]\n",
    "            prop = large_crops[crop] / large_total\n",
    "            sample_size = int(prop * remaining)\n",
    "            sample_size = min(len(crop_df), sample_size)\n",
    "            collected.append(crop_df.sample(n=sample_size, random_state=42))\n",
    "\n",
    "        balanced_data.extend(collected)\n",
    "\n",
    "    return pd.concat(balanced_data, ignore_index=True)\n",
    "\n",
    "# --- Process All CSVs in the Directory ---\n",
    "csv_files = glob.glob(os.path.join(base_dir, \"*.csv\"))\n",
    "\n",
    "for file_path in csv_files:\n",
    "    filename = os.path.basename(file_path)\n",
    "    prefix = filename.split('_')[0]\n",
    "    sub_dir = os.path.join(base_dir, prefix)\n",
    "    os.makedirs(sub_dir, exist_ok=True)\n",
    "\n",
    "    try:\n",
    "        df = pd.read_csv(file_path)\n",
    "\n",
    "        for col in ['Height', 'Structure', 'Duration']:\n",
    "            if col not in df.columns or 'Crop_Name' not in df.columns:\n",
    "                print(f\"❌ Missing {col} or Crop_Name in {filename}, skipping...\")\n",
    "                continue\n",
    "\n",
    "            balanced_df = balance_df(df, col)\n",
    "            output_path = os.path.join(sub_dir, f\"balanced_on_{col}.csv\")\n",
    "            balanced_df.to_csv(output_path, index=False)\n",
    "\n",
    "        print(f\"✅ {filename} processed and saved to {sub_dir}\")\n",
    "\n",
    "    except Exception as e:\n",
    "        print(f\"❌ Error processing {filename}: {e}\")\n"
   ]
  },
  {
   "cell_type": "code",
   "execution_count": null,
   "id": "d14104c7",
   "metadata": {},
   "outputs": [],
   "source": []
  }
 ],
 "metadata": {
  "kernelspec": {
   "display_name": "Python 3 (ipykernel)",
   "language": "python",
   "name": "python3"
  },
  "language_info": {
   "codemirror_mode": {
    "name": "ipython",
    "version": 3
   },
   "file_extension": ".py",
   "mimetype": "text/x-python",
   "name": "python",
   "nbconvert_exporter": "python",
   "pygments_lexer": "ipython3",
   "version": "3.11.7"
  }
 },
 "nbformat": 4,
 "nbformat_minor": 5
}
