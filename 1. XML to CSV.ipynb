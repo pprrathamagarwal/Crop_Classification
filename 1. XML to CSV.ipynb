{
 "cells": [
  {
   "cell_type": "code",
   "execution_count": 1,
   "id": "80d6f6a3",
   "metadata": {},
   "outputs": [
    {
     "data": {
      "text/plain": [
       "'\\nData Downloaded from\\n\"https://www.data.gov.in/\"\\n'"
      ]
     },
     "execution_count": 1,
     "metadata": {},
     "output_type": "execute_result"
    }
   ],
   "source": [
    "'''\n",
    "Data Downloaded from\n",
    "\"https://www.data.gov.in/\"\n",
    "\n",
    "Example Link:\n",
    "\n",
    "Share Datasets in ICTD Drive\n",
    "'''\n"
   ]
  },
  {
   "cell_type": "code",
   "execution_count": 2,
   "id": "da41ae2d",
   "metadata": {},
   "outputs": [],
   "source": [
    "import os\n",
    "import pandas as pd\n",
    "import xml.etree.ElementTree as ET"
   ]
  },
  {
   "cell_type": "code",
   "execution_count": 3,
   "id": "ada90832",
   "metadata": {},
   "outputs": [],
   "source": [
    "input_dir = \"Karnataka_Datasets/Across/Kharif/Bidar/\" #directory where XML is Different\n",
    "output_dir = input_dir  # or change to another directory if needed\n",
    "output_csv=\"Karnataka_Datasets/Across/Kharif/Bidar/all_data.csv\""
   ]
  },
  {
   "cell_type": "code",
   "execution_count": 4,
   "id": "e17826e8",
   "metadata": {},
   "outputs": [
    {
     "name": "stdout",
     "output_type": "stream",
     "text": [
      "✅ Done: Saved 343910 rows to Karnataka_Datasets/Across/Kharif/Bidar/all_data.csv\n"
     ]
    }
   ],
   "source": [
    "all_rows = []\n",
    "\n",
    "for file_name in os.listdir(input_dir):\n",
    "    if file_name.endswith(\".xml\"):\n",
    "        file_path = os.path.join(input_dir, file_name)\n",
    "        try:\n",
    "            tree = ET.parse(file_path)\n",
    "            root = tree.getroot()\n",
    "\n",
    "            # Detect namespace\n",
    "            ns = {'ns': root.tag.split('}')[0].strip('{')}\n",
    "\n",
    "            for entry in root.findall('ns:output', ns):\n",
    "                row = {}\n",
    "                for elem in entry:\n",
    "                    tag = elem.tag.split('}')[-1]\n",
    "                    row[tag] = elem.text\n",
    "                all_rows.append(row)\n",
    "\n",
    "        except ET.ParseError as e:\n",
    "            print(f\"❌ Skipping file {file_name}: ParseError - {e}\")\n",
    "        except Exception as e:\n",
    "            print(f\"⚠️ Error in file {file_name}: {e}\")\n",
    "\n",
    "# Convert to DataFrame\n",
    "if all_rows:\n",
    "    df = pd.DataFrame(all_rows)\n",
    "    df.to_csv(output_csv, index=False)\n",
    "    print(f\"✅ Done: Saved {len(df)} rows to {output_csv}\")\n",
    "else:\n",
    "    print(\"⚠️ No valid XML data found.\")\n"
   ]
  },
  {
   "cell_type": "markdown",
   "id": "209c2bff",
   "metadata": {},
   "source": [
    "# REMOVE UNNECESSARY ROWS"
   ]
  },
  {
   "cell_type": "code",
   "execution_count": 8,
   "id": "45cf50b2",
   "metadata": {},
   "outputs": [
    {
     "name": "stdout",
     "output_type": "stream",
     "text": [
      "✅ Done: Filtered, split by year, and removed duplicates.\n"
     ]
    }
   ],
   "source": [
    "import pandas as pd\n",
    "import os\n",
    "\n",
    "# === Load CSV ===\n",
    "input_csv = \"Karnataka_Datasets/Across/Kharif/Begalavi/Begalavi.csv\"\n",
    "df = pd.read_csv(input_csv)\n",
    "\n",
    "# === Step 1: Filter Season to 'kharif' (case-insensitive) ===\n",
    "df = df[df['Season'].astype(str).str.strip().str.lower() == 'kharif']\n",
    "\n",
    "# === Step 2: Remove rows with invalid Cropname ===\n",
    "invalid_keywords = ['harvest', 'fallow', 'na land']\n",
    "# Drop rows where Cropname is NaN\n",
    "df = df.dropna(subset=['Cropname'])\n",
    "\n",
    "# Strip whitespace, convert to lowercase for filtering\n",
    "cropname_clean = df['Cropname'].str.strip().str.lower()\n",
    "\n",
    "# Drop rows with blank crop names or unwanted keywords\n",
    "df = df[~cropname_clean.isin([''])]\n",
    "df = df[~cropname_clean.str.contains('|'.join(invalid_keywords), na=False)]\n",
    "\n",
    "# === Step 3: Split data by unique Years and deduplicate each ===\n",
    "output_dir = os.path.dirname(input_csv)  # Save in same directory\n",
    "\n",
    "for year in df['Years'].dropna().unique():\n",
    "    year_df = df[df['Years'] == year]\n",
    "    year_df = year_df.drop_duplicates(subset=['Latitude', 'Longtitude'])\n",
    "    output_path = os.path.join(output_dir, f\"data_{year}.csv\")\n",
    "    year_df.to_csv(output_path, index=False)\n",
    "\n",
    "print(\"✅ Done: Filtered, split by year, and removed duplicates.\")\n"
   ]
  },
  {
   "cell_type": "code",
   "execution_count": null,
   "id": "9634854c",
   "metadata": {},
   "outputs": [],
   "source": []
  }
 ],
 "metadata": {
  "kernelspec": {
   "display_name": "Python 3 (ipykernel)",
   "language": "python",
   "name": "python3"
  },
  "language_info": {
   "codemirror_mode": {
    "name": "ipython",
    "version": 3
   },
   "file_extension": ".py",
   "mimetype": "text/x-python",
   "name": "python",
   "nbconvert_exporter": "python",
   "pygments_lexer": "ipython3",
   "version": "3.11.7"
  }
 },
 "nbformat": 4,
 "nbformat_minor": 5
}
