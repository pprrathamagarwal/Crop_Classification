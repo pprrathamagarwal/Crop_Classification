{
 "cells": [
  {
   "cell_type": "code",
   "execution_count": 4,
   "id": "add31b3e",
   "metadata": {},
   "outputs": [
    {
     "name": "stdout",
     "output_type": "stream",
     "text": [
      "Concatenated 2 files with 63 common columns.\n"
     ]
    }
   ],
   "source": [
    "import os\n",
    "import pandas as pd\n",
    "from functools import reduce\n",
    "\n",
    "# Set your directory path\n",
    "input_dir = 'Karnataka_Datasets/Across/Train_Test_Datasets/Test/'\n",
    "\n",
    "# List all CSV files in the directory\n",
    "csv_files = [f for f in os.listdir(input_dir) if f.endswith('.csv')]\n",
    "\n",
    "# Read all CSVs into a list of DataFrames\n",
    "dfs = [pd.read_csv(os.path.join(input_dir, f)) for f in csv_files]\n",
    "\n",
    "# Find the intersection of columns across all DataFrames\n",
    "common_columns = list(reduce(lambda x, y: x & y, (set(df.columns) for df in dfs)))\n",
    "\n",
    "# Subset each DataFrame to keep only common columns\n",
    "dfs = [df[common_columns] for df in dfs]\n",
    "\n",
    "# Concatenate the DataFrames\n",
    "final_df = pd.concat(dfs, ignore_index=True)\n",
    "\n",
    "# Save to a CSV (optional)\n",
    "final_df.to_csv('Karnataka_Datasets/Across/Train_Test_Datasets/Combined_Test.csv', index=False)\n",
    "\n",
    "print(f\"Concatenated {len(csv_files)} files with {len(common_columns)} common columns.\")\n"
   ]
  },
  {
   "cell_type": "code",
   "execution_count": null,
   "id": "02bbcaf4",
   "metadata": {},
   "outputs": [],
   "source": []
  }
 ],
 "metadata": {
  "kernelspec": {
   "display_name": "Python 3 (ipykernel)",
   "language": "python",
   "name": "python3"
  },
  "language_info": {
   "codemirror_mode": {
    "name": "ipython",
    "version": 3
   },
   "file_extension": ".py",
   "mimetype": "text/x-python",
   "name": "python",
   "nbconvert_exporter": "python",
   "pygments_lexer": "ipython3",
   "version": "3.11.7"
  }
 },
 "nbformat": 4,
 "nbformat_minor": 5
}
