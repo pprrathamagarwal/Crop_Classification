{
 "cells": [
  {
   "cell_type": "markdown",
   "id": "16f78b65",
   "metadata": {},
   "source": [
    "# All Imports"
   ]
  },
  {
   "cell_type": "code",
   "execution_count": 1,
   "id": "69fe2521",
   "metadata": {},
   "outputs": [],
   "source": [
    "from sklearn.ensemble import RandomForestClassifier\n",
    "from sklearn.metrics import accuracy_score, classification_report, confusion_matrix\n",
    "from sklearn.tree import DecisionTreeClassifier\n",
    "import matplotlib.pyplot as plt\n",
    "import numpy as np\n",
    "import pandas as pd\n",
    "import pickle\n",
    "import re"
   ]
  },
  {
   "cell_type": "markdown",
   "id": "143f47d0",
   "metadata": {},
   "source": [
    "# Height Classifier"
   ]
  },
  {
   "cell_type": "code",
   "execution_count": 47,
   "id": "77efb9dc",
   "metadata": {},
   "outputs": [
    {
     "name": "stderr",
     "output_type": "stream",
     "text": [
      "C:\\Users\\prath\\AppData\\Local\\Temp\\ipykernel_11560\\2497434051.py:19: SettingWithCopyWarning: \n",
      "A value is trying to be set on a copy of a slice from a DataFrame\n",
      "\n",
      "See the caveats in the documentation: https://pandas.pydata.org/pandas-docs/stable/user_guide/indexing.html#returning-a-view-versus-a-copy\n",
      "  X_train.fillna(X_train.mean(), inplace=True)\n",
      "C:\\Users\\prath\\AppData\\Local\\Temp\\ipykernel_11560\\2497434051.py:20: SettingWithCopyWarning: \n",
      "A value is trying to be set on a copy of a slice from a DataFrame\n",
      "\n",
      "See the caveats in the documentation: https://pandas.pydata.org/pandas-docs/stable/user_guide/indexing.html#returning-a-view-versus-a-copy\n",
      "  X_test.fillna(X_test.mean(), inplace=True)\n"
     ]
    },
    {
     "name": "stdout",
     "output_type": "stream",
     "text": [
      "🔹 Accuracy: 0.7377\n",
      "\n",
      "🔹 Classification Report:\n",
      "               precision    recall  f1-score   support\n",
      "\n",
      "           1       0.54      0.61      0.57      2039\n",
      "           2       0.84      0.80      0.82      5833\n",
      "           3       0.05      0.05      0.05       176\n",
      "\n",
      "    accuracy                           0.74      8048\n",
      "   macro avg       0.48      0.49      0.48      8048\n",
      "weighted avg       0.75      0.74      0.74      8048\n",
      "\n",
      "\n",
      "🔹 Confusion Matrix:\n",
      " [[1238  734   67]\n",
      " [1067 4691   75]\n",
      " [   9  159    8]]\n",
      "\n",
      "🔹 Misclassified samples saved in 'misclassified_samples.csv'\n"
     ]
    }
   ],
   "source": [
    "# Load train and test data\n",
    "train_df = pd.read_csv(\"Karnataka_Datasets/Across/Kharif/Cropland_Masked/Train/2018/Height_Balanced.csv\")\n",
    "test_df = pd.read_csv(\"Karnataka_Datasets/Across/Kharif/Cropland_Masked/Test/2019/raichur_merged_test.csv\")\n",
    "\n",
    "# Select feature columns (VV_0...VV_n, VH_0...VH_n)\n",
    "VV_columns = [col for col in train_df.columns if col.startswith(\"VV_\")]\n",
    "VH_columns = [col for col in train_df.columns if col.startswith(\"VH_\")]\n",
    "#NDVI_columns = [col for col in train_df.columns if col.startswith(\"NDVI_\")]\n",
    "feature_columns = VV_columns + VH_columns \n",
    "\n",
    "# Define target variable\n",
    "target_column = \"height_numeric\"\n",
    "\n",
    "# Extract features and labels\n",
    "X_train, y_train = train_df[feature_columns], train_df[target_column]\n",
    "X_test, y_test = test_df[feature_columns], test_df[target_column]\n",
    "\n",
    "# Handle missing values (optional)\n",
    "X_train.fillna(X_train.mean(), inplace=True)\n",
    "X_test.fillna(X_test.mean(), inplace=True)\n",
    "\n",
    "# Initialize and train RandomForestClassifier\n",
    "rf_classifier_height = RandomForestClassifier(n_estimators=100, random_state=42)\n",
    "rf_classifier_height.fit(X_train, y_train)\n",
    "\n",
    "# Make predictions\n",
    "y_pred = rf_classifier_height.predict(X_test)\n",
    "\n",
    "# Evaluate model\n",
    "accuracy = accuracy_score(y_test, y_pred)\n",
    "report = classification_report(y_test, y_pred)\n",
    "conf_matrix = confusion_matrix(y_test, y_pred)\n",
    "\n",
    "# Save predictions to a DataFrame\n",
    "test_df[\"Predicted_height\"] = y_pred\n",
    "test_df[\"Correct\"] = test_df[\"Predicted_height\"] == test_df[target_column]\n",
    "\n",
    "# Save all predictions\n",
    "test_df.to_csv(\"Results/predictions_blr_krishnagiri_5Day_common.csv\", index=False)\n",
    "\n",
    "# Save only misclassified samples for analysis\n",
    "misclassified_df = test_df[test_df[\"Correct\"] == False]\n",
    "misclassified_df.to_csv(\"Results/misclassified_samples_blr_krishnagiri_5Day_common.csv\", index=False)\n",
    "\n",
    "# Print results\n",
    "print(f\"🔹 Accuracy: {accuracy:.4f}\")\n",
    "print(\"\\n🔹 Classification Report:\\n\", report)\n",
    "print(\"\\n🔹 Confusion Matrix:\\n\", conf_matrix)\n",
    "print(\"\\n🔹 Misclassified samples saved in 'misclassified_samples.csv'\")"
   ]
  },
  {
   "cell_type": "markdown",
   "id": "a8439b5b",
   "metadata": {},
   "source": [
    "### Step: Print the Predictions"
   ]
  },
  {
   "cell_type": "code",
   "execution_count": 48,
   "id": "93da6d1a",
   "metadata": {},
   "outputs": [
    {
     "name": "stdout",
     "output_type": "stream",
     "text": [
      "Predicted_height Crop_Name  Height     1     2   3\n",
      "0                    Bajra   Short    18   142   4\n",
      "1                   Castor    Tall     6   101   1\n",
      "2                   Cotton  Medium   621  3652  63\n",
      "3                    Jowar  Medium    20    40   0\n",
      "4                    Maize  Medium    27    41   1\n",
      "5                  Mangoes    Tall     3    58   7\n",
      "6                    Paddy   Short  1220   592  63\n",
      "7                  Redgram  Medium   399   958  11\n"
     ]
    }
   ],
   "source": [
    "# Load the CSV file\n",
    "df = pd.read_csv(\"Results/predictions_blr_krishnagiri_5Day_common.csv\")\n",
    "\n",
    "# Group by Crop_Name and count occurrences of (duration_numeric, predicted_Duration)\n",
    "result = df.groupby([\"Crop_Name\", \"Height\"])[\"Predicted_height\"].value_counts().unstack(fill_value=0)\n",
    "\n",
    "# Reset index for better readability\n",
    "result = result.reset_index()\n",
    "\n",
    "# Save the output as CSV\n",
    "result.to_csv(\"Results/height_blr_rural_comparison_15Day.csv\", index=False)\n",
    "\n",
    "# Print the result\n",
    "print(result)"
   ]
  },
  {
   "cell_type": "markdown",
   "id": "6ab3bc17",
   "metadata": {},
   "source": [
    "### Step: Feature Importance"
   ]
  },
  {
   "cell_type": "code",
   "execution_count": 49,
   "id": "646edcef",
   "metadata": {},
   "outputs": [
    {
     "name": "stdout",
     "output_type": "stream",
     "text": [
      "\n",
      "🔹 Top 10 Important Features:\n",
      "1. VH_7 (0.0414)\n",
      "2. VH_5 (0.0364)\n",
      "3. VH_13 (0.0362)\n",
      "4. VH_6 (0.0347)\n",
      "5. VH_8 (0.0318)\n",
      "6. VH_9 (0.0274)\n",
      "7. VH_14 (0.0228)\n",
      "8. VV_13 (0.0214)\n",
      "9. VH_4 (0.0209)\n",
      "10. VV_6 (0.0201)\n"
     ]
    },
    {
     "data": {
      "image/png": "[encoded data removed]",
      "text/plain": [
       "<Figure size 1200x800 with 1 Axes>"
      ]
     },
     "metadata": {},
     "output_type": "display_data"
    }
   ],
   "source": [
    "\n",
    "# --- Feature Importance ---\n",
    "importances = rf_classifier_height.feature_importances_\n",
    "feature_names = feature_columns  # same order as your training\n",
    "\n",
    "# Sort features by importance\n",
    "indices = np.argsort(importances)[::-1]  # sort descending\n",
    "sorted_features = [feature_names[i] for i in indices]\n",
    "sorted_importances = importances[indices]\n",
    "\n",
    "# Print top features\n",
    "print(\"\\n🔹 Top 10 Important Features:\")\n",
    "for i in range(10):\n",
    "    print(f\"{i+1}. {sorted_features[i]} ({sorted_importances[i]:.4f})\")\n",
    "\n",
    "# Plot feature importances\n",
    "plt.figure(figsize=(12, 8))\n",
    "plt.title(\"Feature Importance\", fontsize=16)\n",
    "plt.bar(range(len(sorted_importances[:20])), sorted_importances[:20], align=\"center\")\n",
    "plt.xticks(range(len(sorted_features[:20])), sorted_features[:20], rotation=90)\n",
    "plt.xlabel(\"Features\")\n",
    "plt.ylabel(\"Importance\")\n",
    "plt.tight_layout()\n",
    "plt.show()"
   ]
  },
  {
   "cell_type": "markdown",
   "id": "4b1f0884",
   "metadata": {},
   "source": [
    "# Duration Classifier"
   ]
  },
  {
   "cell_type": "code",
   "execution_count": 50,
   "id": "e74874c7",
   "metadata": {},
   "outputs": [
    {
     "name": "stderr",
     "output_type": "stream",
     "text": [
      "C:\\Users\\prath\\AppData\\Local\\Temp\\ipykernel_11560\\492588390.py:18: SettingWithCopyWarning: \n",
      "A value is trying to be set on a copy of a slice from a DataFrame\n",
      "\n",
      "See the caveats in the documentation: https://pandas.pydata.org/pandas-docs/stable/user_guide/indexing.html#returning-a-view-versus-a-copy\n",
      "  X_train.fillna(X_train.mean(), inplace=True)\n",
      "C:\\Users\\prath\\AppData\\Local\\Temp\\ipykernel_11560\\492588390.py:19: SettingWithCopyWarning: \n",
      "A value is trying to be set on a copy of a slice from a DataFrame\n",
      "\n",
      "See the caveats in the documentation: https://pandas.pydata.org/pandas-docs/stable/user_guide/indexing.html#returning-a-view-versus-a-copy\n",
      "  X_test.fillna(X_test.mean(), inplace=True)\n"
     ]
    },
    {
     "name": "stdout",
     "output_type": "stream",
     "text": [
      "🔹 Accuracy: 0.3174\n",
      "\n",
      "🔹 Classification Report:\n",
      "               precision    recall  f1-score   support\n",
      "\n",
      "           1       0.26      0.02      0.04      1110\n",
      "           2       0.59      0.32      0.42      4361\n",
      "           3       0.17      0.55      0.26      1294\n",
      "\n",
      "    accuracy                           0.32      6765\n",
      "   macro avg       0.34      0.30      0.24      6765\n",
      "weighted avg       0.46      0.32      0.33      6765\n",
      "\n",
      "\n",
      "🔹 Confusion Matrix:\n",
      " [[  24  404  682]\n",
      " [  55 1410 2896]\n",
      " [  15  566  713]]\n",
      "\n",
      "🔹 Misclassified samples saved in 'misclassified_samples.csv'\n"
     ]
    }
   ],
   "source": [
    "train_df = pd.read_csv(\"Karnataka_Datasets/Across/Kharif/Cropland_Masked/Train/2018/Duration_Balanced.csv\")\n",
    "test_df = pd.read_csv(\"Karnataka_Datasets/Across/Kharif/Cropland_Masked/Test/2019/bidar_merged_test.csv\")\n",
    "\n",
    "# Select feature columns (VV_0...VV_n, VH_0...VH_n)\n",
    "VV_columns = [col for col in train_df.columns if col.startswith(\"VV_\")]\n",
    "VH_columns = [col for col in train_df.columns if col.startswith(\"VH_\")]\n",
    "#NDVI_columns = [col for col in train_df.columns if col.startswith(\"NDVI_\")]\n",
    "feature_columns = VV_columns + VH_columns \n",
    "\n",
    "# Define target variable\n",
    "target_column = \"duration_numeric\"\n",
    "\n",
    "# Extract features and labels\n",
    "X_train, y_train = train_df[feature_columns], train_df[target_column]\n",
    "X_test, y_test = test_df[feature_columns], test_df[target_column]\n",
    "\n",
    "# Handle missing values (optional)\n",
    "X_train.fillna(X_train.mean(), inplace=True)\n",
    "X_test.fillna(X_test.mean(), inplace=True)\n",
    "\n",
    "# Initialize and train RandomForestClassifier\n",
    "rf_classifier_duration = RandomForestClassifier(n_estimators=100, random_state=42)\n",
    "rf_classifier_duration.fit(X_train, y_train)\n",
    "\n",
    "# Make predictions\n",
    "y_pred = rf_classifier_duration.predict(X_test)\n",
    "\n",
    "# Evaluate model\n",
    "accuracy = accuracy_score(y_test, y_pred)\n",
    "report = classification_report(y_test, y_pred)\n",
    "conf_matrix = confusion_matrix(y_test, y_pred)\n",
    "\n",
    "# Save predictions to a DataFrame\n",
    "test_df[\"Predicted_duration\"] = y_pred\n",
    "test_df[\"Correct\"] = test_df[\"Predicted_duration\"] == test_df[target_column]\n",
    "\n",
    "# Save all predictions\n",
    "test_df.to_csv(\"Results/predictions_blr_krishnagiri_5Day_duration.csv\", index=False)\n",
    "\n",
    "# Save only misclassified samples for analysis\n",
    "misclassified_df = test_df[test_df[\"Correct\"] == False]\n",
    "misclassified_df.to_csv(\"Results/misclassified_samples_blr_krishnagiri_5Day_duration.csv\", index=False)\n",
    "\n",
    "# Print results\n",
    "print(f\"🔹 Accuracy: {accuracy:.4f}\")\n",
    "print(\"\\n🔹 Classification Report:\\n\", report)\n",
    "print(\"\\n🔹 Confusion Matrix:\\n\", conf_matrix)\n",
    "print(\"\\n🔹 Misclassified samples saved in 'misclassified_samples.csv'\")"
   ]
  },
  {
   "cell_type": "markdown",
   "id": "eef5941a",
   "metadata": {},
   "source": [
    "### Print Predictions"
   ]
  },
  {
   "cell_type": "code",
   "execution_count": 51,
   "id": "9f40693d",
   "metadata": {},
   "outputs": [
    {
     "name": "stdout",
     "output_type": "stream",
     "text": [
      "Predicted_duration  Crop_Name Duration   1    2     3\n",
      "0                      Cotton     Long   1   16    69\n",
      "1                      Ginger     Long   3   42    89\n",
      "2                   Greengram      Low  15  171   259\n",
      "3                       Jowar      Low   2  146   246\n",
      "4                       Maize   Medium   0   28    29\n",
      "5                     Mangoes     Long   0   26    32\n",
      "6                     Redgram   Medium  30  600  1457\n",
      "7                    Soyabean   Medium  25  782  1410\n",
      "8                   Sugarcane     Long  11  482   523\n",
      "9                        Urad      Low   7   87   177\n"
     ]
    }
   ],
   "source": [
    "# Load the CSV file\n",
    "df = pd.read_csv(\"Results/predictions_blr_krishnagiri_5Day_duration.csv\")\n",
    "\n",
    "# Group by Crop_Name and count occurrences of (duration_numeric, predicted_Duration)\n",
    "result = df.groupby([\"Crop_Name\", \"Duration\"])[\"Predicted_duration\"].value_counts().unstack(fill_value=0)\n",
    "\n",
    "# Reset index for better readability\n",
    "result = result.reset_index()\n",
    "\n",
    "# Save the output as CSV\n",
    "result.to_csv(\"Results/duration_blr_rural_comparison.csv\", index=False)\n",
    "\n",
    "# Print the result\n",
    "print(result)"
   ]
  },
  {
   "cell_type": "markdown",
   "id": "0ebce237",
   "metadata": {},
   "source": [
    "### Feature Importance"
   ]
  },
  {
   "cell_type": "code",
   "execution_count": 52,
   "id": "59b98bb0",
   "metadata": {},
   "outputs": [
    {
     "name": "stdout",
     "output_type": "stream",
     "text": [
      "\n",
      "🔹 Top 10 Important Features:\n",
      "1. VV_17 (0.0274)\n",
      "2. VV_18 (0.0238)\n",
      "3. VV_19 (0.0207)\n",
      "4. VH_8 (0.0187)\n",
      "5. VH_5 (0.0186)\n",
      "6. VH_19 (0.0183)\n",
      "7. VV_16 (0.0179)\n",
      "8. VH_13 (0.0177)\n",
      "9. VH_18 (0.0174)\n",
      "10. VH_6 (0.0173)\n"
     ]
    },
    {
     "data": {
      "image/png": "[encoded data removed]",
      "text/plain": [
       "<Figure size 1200x800 with 1 Axes>"
      ]
     },
     "metadata": {},
     "output_type": "display_data"
    }
   ],
   "source": [
    "\n",
    "# --- Feature Importance ---\n",
    "importances = rf_classifier_duration.feature_importances_\n",
    "feature_names = feature_columns  # same order as your training\n",
    "\n",
    "# Sort features by importance\n",
    "indices = np.argsort(importances)[::-1]  # sort descending\n",
    "sorted_features = [feature_names[i] for i in indices]\n",
    "sorted_importances = importances[indices]\n",
    "\n",
    "# Print top features\n",
    "print(\"\\n🔹 Top 10 Important Features:\")\n",
    "for i in range(10):\n",
    "    print(f\"{i+1}. {sorted_features[i]} ({sorted_importances[i]:.4f})\")\n",
    "\n",
    "# Plot feature importances\n",
    "plt.figure(figsize=(12, 8))\n",
    "plt.title(\"Feature Importance\", fontsize=16)\n",
    "plt.bar(range(len(sorted_importances[:20])), sorted_importances[:20], align=\"center\")\n",
    "plt.xticks(range(len(sorted_features[:20])), sorted_features[:20], rotation=90)\n",
    "plt.xlabel(\"Features\")\n",
    "plt.ylabel(\"Importance\")\n",
    "plt.tight_layout()\n",
    "plt.show()"
   ]
  },
  {
   "cell_type": "markdown",
   "id": "eef3e5c8",
   "metadata": {},
   "source": [
    "# Structure Classifier"
   ]
  },
  {
   "cell_type": "code",
   "execution_count": 57,
   "id": "9be6efad",
   "metadata": {},
   "outputs": [
    {
     "name": "stderr",
     "output_type": "stream",
     "text": [
      "C:\\Users\\prath\\AppData\\Local\\Temp\\ipykernel_11560\\7656158.py:19: SettingWithCopyWarning: \n",
      "A value is trying to be set on a copy of a slice from a DataFrame\n",
      "\n",
      "See the caveats in the documentation: https://pandas.pydata.org/pandas-docs/stable/user_guide/indexing.html#returning-a-view-versus-a-copy\n",
      "  X_train.fillna(X_train.mean(), inplace=True)\n",
      "C:\\Users\\prath\\AppData\\Local\\Temp\\ipykernel_11560\\7656158.py:20: SettingWithCopyWarning: \n",
      "A value is trying to be set on a copy of a slice from a DataFrame\n",
      "\n",
      "See the caveats in the documentation: https://pandas.pydata.org/pandas-docs/stable/user_guide/indexing.html#returning-a-view-versus-a-copy\n",
      "  X_test.fillna(X_test.mean(), inplace=True)\n",
      "C:\\Users\\prath\\anaconda3\\Lib\\site-packages\\sklearn\\metrics\\_classification.py:1344: UndefinedMetricWarning: Recall and F-score are ill-defined and being set to 0.0 in labels with no true samples. Use `zero_division` parameter to control this behavior.\n",
      "  _warn_prf(average, modifier, msg_start, len(result))\n",
      "C:\\Users\\prath\\anaconda3\\Lib\\site-packages\\sklearn\\metrics\\_classification.py:1344: UndefinedMetricWarning: Recall and F-score are ill-defined and being set to 0.0 in labels with no true samples. Use `zero_division` parameter to control this behavior.\n",
      "  _warn_prf(average, modifier, msg_start, len(result))\n",
      "C:\\Users\\prath\\anaconda3\\Lib\\site-packages\\sklearn\\metrics\\_classification.py:1344: UndefinedMetricWarning: Recall and F-score are ill-defined and being set to 0.0 in labels with no true samples. Use `zero_division` parameter to control this behavior.\n",
      "  _warn_prf(average, modifier, msg_start, len(result))\n"
     ]
    },
    {
     "name": "stdout",
     "output_type": "stream",
     "text": [
      "🔹 Accuracy: 0.7300\n",
      "\n",
      "🔹 Classification Report:\n",
      "               precision    recall  f1-score   support\n",
      "\n",
      "           1       0.04      0.06      0.04        68\n",
      "           2       0.82      0.81      0.82      5812\n",
      "           3       0.53      0.52      0.53      2168\n",
      "           4       0.00      0.00      0.00         0\n",
      "           6       0.00      0.00      0.00         0\n",
      "\n",
      "    accuracy                           0.73      8048\n",
      "   macro avg       0.28      0.28      0.28      8048\n",
      "weighted avg       0.74      0.73      0.73      8048\n",
      "\n",
      "\n",
      "🔹 Confusion Matrix:\n",
      " [[   4   41   23    0    0]\n",
      " [  59 4736  980    8   29]\n",
      " [  49  968 1135    9    7]\n",
      " [   0    0    0    0    0]\n",
      " [   0    0    0    0    0]]\n",
      "\n",
      "🔹 Misclassified samples saved in 'misclassified_samples.csv'\n"
     ]
    }
   ],
   "source": [
    "train_df = pd.read_csv(\"Karnataka_Datasets/Across/Kharif/Cropland_Masked/Train/2018/Structure_Balanced.csv\")\n",
    "test_df = pd.read_csv(\"Karnataka_Datasets/Across/Kharif/Cropland_Masked/Test/2019/raichur_merged_test.csv\")\n",
    "\n",
    "# Select feature columns (VV_0...VV_n, VH_0...VH_n)\n",
    "VV_columns = [col for col in train_df.columns if col.startswith(\"VV_\")]\n",
    "VH_columns = [col for col in train_df.columns if col.startswith(\"VH_\")]\n",
    "#NDVI_columns = [col for col in train_df.columns if col.startswith(\"NDVI_\")]\n",
    "feature_columns = VV_columns + VH_columns \n",
    "\n",
    "\n",
    "# Define target variable\n",
    "target_column = \"structure_numeric\"\n",
    "\n",
    "# Extract features and labels\n",
    "X_train, y_train = train_df[feature_columns], train_df[target_column]\n",
    "X_test, y_test = test_df[feature_columns], test_df[target_column]\n",
    "\n",
    "# Handle missing values (optional)\n",
    "X_train.fillna(X_train.mean(), inplace=True)\n",
    "X_test.fillna(X_test.mean(), inplace=True)\n",
    "\n",
    "# Initialize and train RandomForestClassifier\n",
    "rf_classifier_structure = RandomForestClassifier(n_estimators=100, random_state=42)\n",
    "rf_classifier_structure.fit(X_train, y_train)\n",
    "\n",
    "# Make predictions\n",
    "y_pred = rf_classifier_structure.predict(X_test)\n",
    "\n",
    "# Evaluate model\n",
    "accuracy = accuracy_score(y_test, y_pred)\n",
    "report = classification_report(y_test, y_pred)\n",
    "conf_matrix = confusion_matrix(y_test, y_pred)\n",
    "\n",
    "# Save predictions to a DataFrame\n",
    "test_df[\"Predicted_Structure\"] = y_pred\n",
    "test_df[\"Correct\"] = test_df[\"Predicted_Structure\"] == test_df[target_column]\n",
    "\n",
    "# Save all predictions\n",
    "test_df.to_csv(\"Karnataka_Datasets/Across/S2/Results.csv\", index=False)\n",
    "\n",
    "# Save only misclassified samples for analysis\n",
    "misclassified_df = test_df[test_df[\"Correct\"] == False]\n",
    "#misclassified_df.to_csv(\"Results/misclassified_samples_blr_krishnagiri_5Day_common.csv\", index=False)\n",
    "\n",
    "# Print results\n",
    "print(f\"🔹 Accuracy: {accuracy:.4f}\")\n",
    "print(\"\\n🔹 Classification Report:\\n\", report)\n",
    "print(\"\\n🔹 Confusion Matrix:\\n\", conf_matrix)\n",
    "print(\"\\n🔹 Misclassified samples saved in 'misclassified_samples.csv'\")"
   ]
  },
  {
   "cell_type": "markdown",
   "id": "17b9bcc4",
   "metadata": {},
   "source": [
    "### Print Results"
   ]
  },
  {
   "cell_type": "code",
   "execution_count": 58,
   "id": "3011b857",
   "metadata": {},
   "outputs": [
    {
     "name": "stdout",
     "output_type": "stream",
     "text": [
      "Predicted_Structure Crop_Name Structure   1     2     3  4   6\n",
      "0                       Bajra     Grass   3   124    36  1   0\n",
      "1                      Castor     Shrub   0    90    18  0   0\n",
      "2                      Cotton     Shrub  51  3673   600  1  11\n",
      "3                       Jowar     Grass   0    37    18  1   4\n",
      "4                       Maize     Grass   0    52    16  0   1\n",
      "5                     Mangoes      Tree   4    41    23  0   0\n",
      "6                       Paddy     Grass  46   755  1065  7   2\n",
      "7                     Redgram     Shrub   8   973   362  7  18\n"
     ]
    }
   ],
   "source": [
    "# Load the CSV file\n",
    "df = pd.read_csv(\"Karnataka_Datasets/Across/S2/Results.csv\")\n",
    "\n",
    "# Group by Crop_Name and count occurrences of (duration_numeric, predicted_Duration)\n",
    "result = df.groupby([\"Crop_Name\", \"Structure\"])[\"Predicted_Structure\"].value_counts().unstack(fill_value=0)\n",
    "\n",
    "# Reset index for better readability\n",
    "result = result.reset_index()\n",
    "\n",
    "# Save the output as CSV\n",
    "result.to_csv(\"Karnataka_Datasets/Across/Pred.csv\", index=False)\n",
    "\n",
    "# Print the result\n",
    "print(result)"
   ]
  },
  {
   "cell_type": "markdown",
   "id": "f24eefe2",
   "metadata": {},
   "source": [
    "### Feature Importance"
   ]
  },
  {
   "cell_type": "code",
   "execution_count": 10,
   "id": "5ed7d865",
   "metadata": {},
   "outputs": [
    {
     "name": "stdout",
     "output_type": "stream",
     "text": [
      "\n",
      "🔹 Top 10 Important Features:\n",
      "1. VH_6 (0.0383)\n",
      "2. VH_8 (0.0319)\n",
      "3. VH_9 (0.0310)\n",
      "4. VH_19 (0.0296)\n",
      "5. VH_5 (0.0294)\n",
      "6. VH_7 (0.0264)\n",
      "7. VH_18 (0.0264)\n",
      "8. VV_2 (0.0235)\n",
      "9. VH_12 (0.0223)\n",
      "10. VV_4 (0.0213)\n"
     ]
    },
    {
     "data": {
      "image/png": "[encoded data removed]",
      "text/plain": [
       "<Figure size 1200x800 with 1 Axes>"
      ]
     },
     "metadata": {},
     "output_type": "display_data"
    }
   ],
   "source": [
    "\n",
    "# --- Feature Importance ---\n",
    "importances = rf_classifier_structure.feature_importances_\n",
    "feature_names = feature_columns  # same order as your training\n",
    "\n",
    "# Sort features by importance\n",
    "indices = np.argsort(importances)[::-1]  # sort descending\n",
    "sorted_features = [feature_names[i] for i in indices]\n",
    "sorted_importances = importances[indices]\n",
    "\n",
    "# Print top features\n",
    "print(\"\\n🔹 Top 10 Important Features:\")\n",
    "for i in range(10):\n",
    "    print(f\"{i+1}. {sorted_features[i]} ({sorted_importances[i]:.4f})\")\n",
    "\n",
    "# Plot feature importances\n",
    "plt.figure(figsize=(12, 8))\n",
    "plt.title(\"Feature Importance\", fontsize=16)\n",
    "plt.bar(range(len(sorted_importances[:20])), sorted_importances[:20], align=\"center\")\n",
    "plt.xticks(range(len(sorted_features[:20])), sorted_features[:20], rotation=90)\n",
    "plt.xlabel(\"Features\")\n",
    "plt.ylabel(\"Importance\")\n",
    "plt.tight_layout()\n",
    "plt.show()"
   ]
  },
  {
   "cell_type": "markdown",
   "id": "37ad5c39",
   "metadata": {},
   "source": [
    "### Unique Triplet Identification"
   ]
  },
  {
   "cell_type": "code",
   "execution_count": 24,
   "id": "5e3ce85b",
   "metadata": {},
   "outputs": [
    {
     "name": "stdout",
     "output_type": "stream",
     "text": [
      "Triplet (1, 2, 1): Greengram, Urad\n",
      "Triplet (1, 3, 2): Paddy\n",
      "Triplet (2, 2, 2): Redgram\n",
      "Triplet (2, 2, 3): Cotton\n",
      "Triplet (2, 3, 1): Jowar\n",
      "Triplet (2, 3, 2): Maize\n",
      "Triplet (3, 3, 3): Sugarcane\n"
     ]
    }
   ],
   "source": [
    "# Group crops by (height, structure, duration) triplet\n",
    "triplet_to_crops = train_df.groupby([\"height_numeric\", \"structure_numeric\", \"duration_numeric\"])[\"Crop_Name\"].unique()\n",
    "\n",
    "# Print nicely\n",
    "for triplet, crops in triplet_to_crops.items():\n",
    "    crops_list = \", \".join(crops)\n",
    "    print(f\"Triplet {triplet}: {crops_list}\")"
   ]
  },
  {
   "cell_type": "markdown",
   "id": "4f9a17af",
   "metadata": {},
   "source": [
    "### Combining the Three Classifiers"
   ]
  },
  {
   "cell_type": "code",
   "execution_count": 32,
   "id": "a906afaa",
   "metadata": {},
   "outputs": [
    {
     "name": "stderr",
     "output_type": "stream",
     "text": [
      "C:\\Users\\prath\\AppData\\Local\\Temp\\ipykernel_12652\\35290893.py:17: SettingWithCopyWarning: \n",
      "A value is trying to be set on a copy of a slice from a DataFrame\n",
      "\n",
      "See the caveats in the documentation: https://pandas.pydata.org/pandas-docs/stable/user_guide/indexing.html#returning-a-view-versus-a-copy\n",
      "  X_train.fillna(X_train.mean(), inplace=True)\n",
      "C:\\Users\\prath\\AppData\\Local\\Temp\\ipykernel_12652\\35290893.py:18: SettingWithCopyWarning: \n",
      "A value is trying to be set on a copy of a slice from a DataFrame\n",
      "\n",
      "See the caveats in the documentation: https://pandas.pydata.org/pandas-docs/stable/user_guide/indexing.html#returning-a-view-versus-a-copy\n",
      "  X_test.fillna(X_test.mean(), inplace=True)\n"
     ]
    },
    {
     "name": "stdout",
     "output_type": "stream",
     "text": [
      "🔹 Overall Crop Prediction Accuracy: 0.1205\n",
      "\n",
      "🔹 Confusion Matrix (Strict):\n",
      "[[   0    0    0    0    0    0    0    0    0]\n",
      " [   0    0    0    0    0    0    0    0    0]\n",
      " [ 143   70    1   91   38   64   52    8    0]\n",
      " [  64   65    1   35   11   26   22    6    0]\n",
      " [  56   21    0   52   24   18   11   69    0]\n",
      " [ 764  752   21  444   62 1023  276   83    0]\n",
      " [1338 1729   18  844  128  770  539  107    0]\n",
      " [ 573  171   11  383   47  105   82  379    0]\n",
      " [1262 1351   28  926   92  734  450  168    0]]\n",
      "\n",
      "🔹 Classification Report (Strict):\n"
     ]
    },
    {
     "name": "stderr",
     "output_type": "stream",
     "text": [
      "C:\\Users\\prath\\anaconda3\\Lib\\site-packages\\sklearn\\metrics\\_classification.py:1344: UndefinedMetricWarning: Precision and F-score are ill-defined and being set to 0.0 in labels with no predicted samples. Use `zero_division` parameter to control this behavior.\n",
      "  _warn_prf(average, modifier, msg_start, len(result))\n",
      "C:\\Users\\prath\\anaconda3\\Lib\\site-packages\\sklearn\\metrics\\_classification.py:1344: UndefinedMetricWarning: Recall and F-score are ill-defined and being set to 0.0 in labels with no true samples. Use `zero_division` parameter to control this behavior.\n",
      "  _warn_prf(average, modifier, msg_start, len(result))\n",
      "C:\\Users\\prath\\anaconda3\\Lib\\site-packages\\sklearn\\metrics\\_classification.py:1344: UndefinedMetricWarning: Precision and F-score are ill-defined and being set to 0.0 in labels with no predicted samples. Use `zero_division` parameter to control this behavior.\n",
      "  _warn_prf(average, modifier, msg_start, len(result))\n",
      "C:\\Users\\prath\\anaconda3\\Lib\\site-packages\\sklearn\\metrics\\_classification.py:1344: UndefinedMetricWarning: Recall and F-score are ill-defined and being set to 0.0 in labels with no true samples. Use `zero_division` parameter to control this behavior.\n",
      "  _warn_prf(average, modifier, msg_start, len(result))\n"
     ]
    },
    {
     "name": "stdout",
     "output_type": "stream",
     "text": [
      "              precision    recall  f1-score   support\n",
      "\n",
      "   Ambiguous       0.00      0.00      0.00         0\n",
      "      Cotton       0.00      0.00      0.00         0\n",
      "       Jowar       0.01      0.00      0.00       467\n",
      "       Maize       0.01      0.15      0.02       230\n",
      "       Paddy       0.06      0.10      0.07       251\n",
      "      Pulses       0.37      0.30      0.33      3425\n",
      "     Redgram       0.38      0.10      0.16      5473\n",
      "   Sugarcane       0.46      0.22      0.29      1751\n",
      "     Unknown       0.00      0.00      0.00      5011\n",
      "\n",
      "    accuracy                           0.12     16608\n",
      "   macro avg       0.14      0.10      0.10     16608\n",
      "weighted avg       0.25      0.12      0.15     16608\n",
      "\n"
     ]
    },
    {
     "name": "stderr",
     "output_type": "stream",
     "text": [
      "C:\\Users\\prath\\anaconda3\\Lib\\site-packages\\sklearn\\metrics\\_classification.py:1344: UndefinedMetricWarning: Precision and F-score are ill-defined and being set to 0.0 in labels with no predicted samples. Use `zero_division` parameter to control this behavior.\n",
      "  _warn_prf(average, modifier, msg_start, len(result))\n",
      "C:\\Users\\prath\\anaconda3\\Lib\\site-packages\\sklearn\\metrics\\_classification.py:1344: UndefinedMetricWarning: Recall and F-score are ill-defined and being set to 0.0 in labels with no true samples. Use `zero_division` parameter to control this behavior.\n",
      "  _warn_prf(average, modifier, msg_start, len(result))\n"
     ]
    }
   ],
   "source": [
    "\n",
    "# --------------------------------------\n",
    "# 1. Load Train/Test Data\n",
    "# --------------------------------------\n",
    "\n",
    "train_df = pd.read_csv(\"Karnataka_Datasets/Across/Kharif/2020-21/SAR_GCVI/AEZ_6/Final/Train/Train.csv\")\n",
    "test_df = pd.read_csv(\"Karnataka_Datasets/Across/Kharif/2020-21/SAR_GCVI/AEZ_6/Final/Test/Bidar_Data_Final.csv\")\n",
    "\n",
    "# Extract only VV_i and VH_i features (first 15 VV and 15 VH)\n",
    "VV_columns = sorted([col for col in train_df.columns if col.startswith(\"VV_\")])\n",
    "VH_columns = sorted([col for col in train_df.columns if col.startswith(\"VH_\")])\n",
    "feature_columns = VV_columns + VH_columns\n",
    "\n",
    "X_train = train_df[feature_columns]\n",
    "X_test = test_df[feature_columns]\n",
    "\n",
    "# Fill missing values\n",
    "X_train.fillna(X_train.mean(), inplace=True)\n",
    "X_test.fillna(X_test.mean(), inplace=True)\n",
    "\n",
    "# --------------------------------------\n",
    "# 2. Train three models separately\n",
    "# --------------------------------------\n",
    "\n",
    "# Height Model\n",
    "height_model = RandomForestClassifier(n_estimators=100, random_state=42)\n",
    "height_model.fit(X_train, train_df[\"height_numeric\"])\n",
    "\n",
    "# Structure Model\n",
    "structure_model = RandomForestClassifier(n_estimators=100, random_state=42)\n",
    "structure_model.fit(X_train, train_df[\"structure_numeric\"])\n",
    "\n",
    "# Duration Model\n",
    "duration_model = RandomForestClassifier(n_estimators=100, random_state=42)\n",
    "duration_model.fit(X_train, train_df[\"duration_numeric\"])\n",
    "\n",
    "# --------------------------------------\n",
    "# 3. Predict using the three models\n",
    "# --------------------------------------\n",
    "\n",
    "height_pred = height_model.predict(X_test)\n",
    "structure_pred = structure_model.predict(X_test)\n",
    "duration_pred = duration_model.predict(X_test)\n",
    "\n",
    "# Add predictions to test_df\n",
    "test_df[\"pred_height\"] = height_pred\n",
    "test_df[\"pred_structure\"] = structure_pred\n",
    "test_df[\"pred_duration\"] = duration_pred\n",
    "\n",
    "# --------------------------------------\n",
    "# 4. Define Grouped Triplet Mapping\n",
    "# --------------------------------------\n",
    "\n",
    "triplet_mapping = {\n",
    "    (1, 2, 1): \"Pulses\",\n",
    "    (2, 3, 1): \"Jowar\",\n",
    "    (2, 3, 2): \"Maize\",\n",
    "    (2, 2, 3): \"Cotton\",\n",
    "    (1, 3, 2): \"Paddy\",\n",
    "    (2, 2, 2): \"Redgram\",\n",
    "    (3, 3, 3): \"Sugarcane\",\n",
    "}\n",
    "\n",
    "def lookup_crop(height, structure, duration):\n",
    "    key = (height, structure, duration)\n",
    "    return triplet_mapping.get(key, \"Ambiguous\")  # fallback if key not found\n",
    "\n",
    "# Apply lookup\n",
    "test_df[\"predicted_crop\"] = test_df.apply(\n",
    "    lambda row: lookup_crop(row[\"pred_height\"], row[\"pred_structure\"], row[\"pred_duration\"]),\n",
    "    axis=1\n",
    ")\n",
    "\n",
    "# --------------------------------------\n",
    "# 5. Remap Ground Truth Also (Optional but Important)\n",
    "# --------------------------------------\n",
    "\n",
    "# Create manual mapping for ground truth Crop_Names to group names\n",
    "ground_truth_mapping = {\n",
    "    \"Bajra\": \"Millets\",\n",
    "    \"Ragi\": \"Millets\",\n",
    "    \"Jowar\": \"Jowar\",\n",
    "    \"Maize\": \"Maize\",\n",
    "    \"Paddy\": \"Paddy\",\n",
    "    \"Redgram\": \"Redgram\",\n",
    "    \"Rose\": \"Rose\",\n",
    "    \"Sugarcane\": \"Sugarcane\",\n",
    "    \"Avare\": \"Avare\",\n",
    "    \"Arecanut\": \"Tree\",\n",
    "    \"Banana\": \"Tree\",\n",
    "    \"Coconut\": \"Tree\",\n",
    "    \"Eucalyptus\": \"Tree\",\n",
    "    \"Guava\": \"Tree\",\n",
    "    \"Lemon\": \"Tree\",\n",
    "    \"Mangoes\": \"Tree\",\n",
    "    \"Sapota\": \"Tree\",\n",
    "    \"Greengram\": \"Pulses\",\n",
    "    \"Urad\": \"Pulses\",\n",
    "}\n",
    "\n",
    "# Remap true labels\n",
    "test_df[\"true_crop_grouped\"] = test_df[\"Crop_Name\"].map(ground_truth_mapping).fillna(\"Unknown\")\n",
    "\n",
    "# --------------------------------------\n",
    "# 6. Evaluate\n",
    "# --------------------------------------\n",
    "\n",
    "# Basic accuracy (strict)\n",
    "crop_accuracy = (test_df[\"predicted_crop\"] == test_df[\"true_crop_grouped\"]).mean()\n",
    "\n",
    "print(f\"🔹 Overall Crop Prediction Accuracy: {crop_accuracy:.4f}\")\n",
    "\n",
    "# Save for inspection\n",
    "test_df.to_csv(\"Results/final_predictions_combined_model.csv\", index=False)\n",
    "\n",
    "# See confusion matrix\n",
    "print(\"\\n🔹 Confusion Matrix (Strict):\")\n",
    "print(confusion_matrix(test_df[\"true_crop_grouped\"], test_df[\"predicted_crop\"]))\n",
    "\n",
    "print(\"\\n🔹 Classification Report (Strict):\")\n",
    "print(classification_report(test_df[\"true_crop_grouped\"], test_df[\"predicted_crop\"]))"
   ]
  },
  {
   "cell_type": "markdown",
   "id": "1b745eba",
   "metadata": {},
   "source": [
    "### Printing Results"
   ]
  },
  {
   "cell_type": "code",
   "execution_count": 33,
   "id": "b96db361",
   "metadata": {},
   "outputs": [
    {
     "name": "stdout",
     "output_type": "stream",
     "text": [
      "predicted_crop  Crop_Name true_crop_grouped  Ambiguous  Cotton  Jowar  Maize  \\\n",
      "0                  Cotton           Unknown         72     123      2     93   \n",
      "1               Greengram            Pulses        425     397     14    247   \n",
      "2                   Jowar             Jowar        143      70      1     91   \n",
      "3                   Maize             Maize         64      65      1     35   \n",
      "4                   Paddy             Paddy         56      21      0     52   \n",
      "5                 Redgram           Redgram       1338    1729     18    844   \n",
      "6                Soyabean           Unknown       1190    1228     26    833   \n",
      "7               Sugarcane         Sugarcane        573     171     11    383   \n",
      "8                    Urad            Pulses        339     355      7    197   \n",
      "\n",
      "predicted_crop  Paddy  Pulses  Redgram  Sugarcane  \n",
      "0                   8      21       40         12  \n",
      "1                  37     729      152         57  \n",
      "2                  38      64       52          8  \n",
      "3                  11      26       22          6  \n",
      "4                  24      18       11         69  \n",
      "5                 128     770      539        107  \n",
      "6                  84     713      410        156  \n",
      "7                  47     105       82        379  \n",
      "8                  25     294      124         26  \n"
     ]
    }
   ],
   "source": [
    "# Load the CSV file\n",
    "df = pd.read_csv(\"Results/final_predictions_combined_model.csv\")\n",
    "\n",
    "# Group by Crop_Name and count occurrences of (duration_numeric, predicted_Duration)\n",
    "result = df.groupby([\"Crop_Name\", \"true_crop_grouped\"])[\"predicted_crop\"].value_counts().unstack(fill_value=0)\n",
    "\n",
    "# Reset index for better readability\n",
    "result = result.reset_index()\n",
    "\n",
    "# Save the output as CSV\n",
    "#result.to_csv(\"Karnataka_Datasets/Across/Pred.csv\", index=False)\n",
    "\n",
    "# Print the result\n",
    "print(result)"
   ]
  },
  {
   "cell_type": "code",
   "execution_count": null,
   "id": "be4d526f",
   "metadata": {},
   "outputs": [],
   "source": []
  },
  {
   "cell_type": "code",
   "execution_count": null,
   "id": "e539a750",
   "metadata": {},
   "outputs": [],
   "source": []
  }
 ],
 "metadata": {
  "kernelspec": {
   "display_name": "Python 3 (ipykernel)",
   "language": "python",
   "name": "python3"
  },
  "language_info": {
   "codemirror_mode": {
    "name": "ipython",
    "version": 3
   },
   "file_extension": ".py",
   "mimetype": "text/x-python",
   "name": "python",
   "nbconvert_exporter": "python",
   "pygments_lexer": "ipython3",
   "version": "3.11.7"
  }
 },
 "nbformat": 4,
 "nbformat_minor": 5
}
