{
 "cells": [
  {
   "cell_type": "markdown",
   "id": "16f78b65",
   "metadata": {},
   "source": [
    "# All Imports"
   ]
  },
  {
   "cell_type": "code",
   "execution_count": null,
   "id": "69fe2521",
   "metadata": {},
   "outputs": [],
   "source": [
    "from sklearn.ensemble import RandomForestClassifier\n",
    "from sklearn.metrics import accuracy_score, classification_report, confusion_matrix\n",
    "from sklearn.tree import DecisionTreeClassifier\n",
    "import matplotlib.pyplot as plt\n",
    "import numpy as np\n",
    "import pandas as pd\n",
    "import pickle\n",
    "import re"
   ]
  },
  {
   "cell_type": "markdown",
   "id": "143f47d0",
   "metadata": {},
   "source": [
    "# Height Classifier"
   ]
  },
  {
   "cell_type": "code",
   "execution_count": 24,
   "id": "77efb9dc",
   "metadata": {},
   "outputs": [
    {
     "name": "stderr",
     "output_type": "stream",
     "text": [
      "C:\\Users\\prath\\AppData\\Local\\Temp\\ipykernel_12464\\954390633.py:19: SettingWithCopyWarning: \n",
      "A value is trying to be set on a copy of a slice from a DataFrame\n",
      "\n",
      "See the caveats in the documentation: https://pandas.pydata.org/pandas-docs/stable/user_guide/indexing.html#returning-a-view-versus-a-copy\n",
      "  X_train.fillna(X_train.mean(), inplace=True)\n",
      "C:\\Users\\prath\\AppData\\Local\\Temp\\ipykernel_12464\\954390633.py:20: SettingWithCopyWarning: \n",
      "A value is trying to be set on a copy of a slice from a DataFrame\n",
      "\n",
      "See the caveats in the documentation: https://pandas.pydata.org/pandas-docs/stable/user_guide/indexing.html#returning-a-view-versus-a-copy\n",
      "  X_test.fillna(X_test.mean(), inplace=True)\n"
     ]
    },
    {
     "name": "stdout",
     "output_type": "stream",
     "text": [
      "🔹 Accuracy: 0.4921\n",
      "\n",
      "🔹 Classification Report:\n",
      "               precision    recall  f1-score   support\n",
      "\n",
      "           1       0.35      0.31      0.32      2452\n",
      "           2       0.72      0.58      0.64      4940\n",
      "           3       0.17      0.55      0.27       601\n",
      "\n",
      "    accuracy                           0.49      7993\n",
      "   macro avg       0.41      0.48      0.41      7993\n",
      "weighted avg       0.57      0.49      0.52      7993\n",
      "\n",
      "\n",
      "🔹 Confusion Matrix:\n",
      " [[ 749  913  790]\n",
      " [1320 2854  766]\n",
      " [  92  179  330]]\n",
      "\n",
      "🔹 Misclassified samples saved in 'misclassified_samples.csv'\n"
     ]
    }
   ],
   "source": [
    "# Load train and test data\n",
    "train_df = pd.read_csv(\"Karnataka_Datasets/Across/Train_Test_Datasets/Combined_Train_Balanced.csv\")\n",
    "test_df = pd.read_csv(\"Karnataka_Datasets/Across/Train_Test_Datasets/Test/Davanagere_Kharif_Data_Final_test.csv\")\n",
    "\n",
    "# Select feature columns (VV_0...VV_n, VH_0...VH_n)\n",
    "VV_columns = [col for col in train_df.columns if col.startswith(\"VV_\")]\n",
    "VH_columns = [col for col in train_df.columns if col.startswith(\"VH_\")]\n",
    "#NDVI_columns = [col for col in train_df.columns if col.startswith(\"NDVI_\")]\n",
    "feature_columns = VV_columns + VH_columns \n",
    "\n",
    "# Define target variable\n",
    "target_column = \"height_numeric\"\n",
    "\n",
    "# Extract features and labels\n",
    "X_train, y_train = train_df[feature_columns], train_df[target_column]\n",
    "X_test, y_test = test_df[feature_columns], test_df[target_column]\n",
    "\n",
    "# Handle missing values (optional)\n",
    "X_train.fillna(X_train.mean(), inplace=True)\n",
    "X_test.fillna(X_test.mean(), inplace=True)\n",
    "\n",
    "# Initialize and train RandomForestClassifier\n",
    "rf_classifier_height = RandomForestClassifier(n_estimators=100, random_state=42)\n",
    "rf_classifier_height.fit(X_train, y_train)\n",
    "\n",
    "# Make predictions\n",
    "y_pred = rf_classifier_height.predict(X_test)\n",
    "\n",
    "# Evaluate model\n",
    "accuracy = accuracy_score(y_test, y_pred)\n",
    "report = classification_report(y_test, y_pred)\n",
    "conf_matrix = confusion_matrix(y_test, y_pred)\n",
    "\n",
    "# Save predictions to a DataFrame\n",
    "test_df[\"Predicted_height\"] = y_pred\n",
    "test_df[\"Correct\"] = test_df[\"Predicted_height\"] == test_df[target_column]\n",
    "\n",
    "# Save all predictions\n",
    "test_df.to_csv(\"Results/predictions_blr_krishnagiri_5Day_common.csv\", index=False)\n",
    "\n",
    "# Save only misclassified samples for analysis\n",
    "misclassified_df = test_df[test_df[\"Correct\"] == False]\n",
    "misclassified_df.to_csv(\"Results/misclassified_samples_blr_krishnagiri_5Day_common.csv\", index=False)\n",
    "\n",
    "# Print results\n",
    "print(f\"🔹 Accuracy: {accuracy:.4f}\")\n",
    "print(\"\\n🔹 Classification Report:\\n\", report)\n",
    "print(\"\\n🔹 Confusion Matrix:\\n\", conf_matrix)\n",
    "print(\"\\n🔹 Misclassified samples saved in 'misclassified_samples.csv'\")"
   ]
  },
  {
   "cell_type": "markdown",
   "id": "a8439b5b",
   "metadata": {},
   "source": [
    "### Step: Print the Predictions"
   ]
  },
  {
   "cell_type": "code",
   "execution_count": 25,
   "id": "93da6d1a",
   "metadata": {},
   "outputs": [
    {
     "name": "stdout",
     "output_type": "stream",
     "text": [
      "Predicted_height  Crop_Name  Height     1     2    3\n",
      "0                     Avare  Medium     3    15    6\n",
      "1                     Bajra   Short    15    27    2\n",
      "2                    Banana    Tall    16    33   59\n",
      "3                   Coconut    Tall    55    99  214\n",
      "4                     Jowar  Medium    12    15    3\n",
      "5                     Maize  Medium  1292  2782  753\n",
      "6                   Mangoes    Tall     6    13    8\n",
      "7                     Paddy   Short   595   622  746\n",
      "8                      Ragi   Short   139   264   42\n",
      "9                   Redgram  Medium    13    42    4\n",
      "10                Sugarcane    Tall    15    34   49\n"
     ]
    }
   ],
   "source": [
    "# Load the CSV file\n",
    "df = pd.read_csv(\"Results/predictions_blr_krishnagiri_5Day_common.csv\")\n",
    "\n",
    "# Group by Crop_Name and count occurrences of (duration_numeric, predicted_Duration)\n",
    "result = df.groupby([\"Crop_Name\", \"Height\"])[\"Predicted_height\"].value_counts().unstack(fill_value=0)\n",
    "\n",
    "# Reset index for better readability\n",
    "result = result.reset_index()\n",
    "\n",
    "# Save the output as CSV\n",
    "result.to_csv(\"Results/height_blr_rural_comparison_15Day.csv\", index=False)\n",
    "\n",
    "# Print the result\n",
    "print(result)"
   ]
  },
  {
   "cell_type": "markdown",
   "id": "6ab3bc17",
   "metadata": {},
   "source": [
    "### Step: Feature Importance"
   ]
  },
  {
   "cell_type": "code",
   "execution_count": 26,
   "id": "646edcef",
   "metadata": {},
   "outputs": [
    {
     "name": "stdout",
     "output_type": "stream",
     "text": [
      "\n",
      "🔹 Top 10 Important Features:\n",
      "1. VH_5 (0.0327)\n",
      "2. VH_11 (0.0318)\n",
      "3. VH_7 (0.0311)\n",
      "4. VV_7 (0.0246)\n",
      "5. VH_1 (0.0242)\n",
      "6. VH_2 (0.0227)\n",
      "7. VH_8 (0.0221)\n",
      "8. VH_10 (0.0211)\n",
      "9. VH_3 (0.0208)\n",
      "10. VV_11 (0.0207)\n"
     ]
    },
    {
     "data": {
      "image/png": "[encoded data removed]",
      "text/plain": [
       "<Figure size 1200x800 with 1 Axes>"
      ]
     },
     "metadata": {},
     "output_type": "display_data"
    }
   ],
   "source": [
    "\n",
    "# --- Feature Importance ---\n",
    "importances = rf_classifier_height.feature_importances_\n",
    "feature_names = feature_columns  # same order as your training\n",
    "\n",
    "# Sort features by importance\n",
    "indices = np.argsort(importances)[::-1]  # sort descending\n",
    "sorted_features = [feature_names[i] for i in indices]\n",
    "sorted_importances = importances[indices]\n",
    "\n",
    "# Print top features\n",
    "print(\"\\n🔹 Top 10 Important Features:\")\n",
    "for i in range(10):\n",
    "    print(f\"{i+1}. {sorted_features[i]} ({sorted_importances[i]:.4f})\")\n",
    "\n",
    "# Plot feature importances\n",
    "plt.figure(figsize=(12, 8))\n",
    "plt.title(\"Feature Importance\", fontsize=16)\n",
    "plt.bar(range(len(sorted_importances[:20])), sorted_importances[:20], align=\"center\")\n",
    "plt.xticks(range(len(sorted_features[:20])), sorted_features[:20], rotation=90)\n",
    "plt.xlabel(\"Features\")\n",
    "plt.ylabel(\"Importance\")\n",
    "plt.tight_layout()\n",
    "plt.show()"
   ]
  },
  {
   "cell_type": "markdown",
   "id": "4b1f0884",
   "metadata": {},
   "source": [
    "# Duration Classifier"
   ]
  },
  {
   "cell_type": "code",
   "execution_count": 27,
   "id": "e74874c7",
   "metadata": {},
   "outputs": [
    {
     "name": "stderr",
     "output_type": "stream",
     "text": [
      "C:\\Users\\prath\\AppData\\Local\\Temp\\ipykernel_12464\\2887352392.py:19: SettingWithCopyWarning: \n",
      "A value is trying to be set on a copy of a slice from a DataFrame\n",
      "\n",
      "See the caveats in the documentation: https://pandas.pydata.org/pandas-docs/stable/user_guide/indexing.html#returning-a-view-versus-a-copy\n",
      "  X_train.fillna(X_train.mean(), inplace=True)\n",
      "C:\\Users\\prath\\AppData\\Local\\Temp\\ipykernel_12464\\2887352392.py:20: SettingWithCopyWarning: \n",
      "A value is trying to be set on a copy of a slice from a DataFrame\n",
      "\n",
      "See the caveats in the documentation: https://pandas.pydata.org/pandas-docs/stable/user_guide/indexing.html#returning-a-view-versus-a-copy\n",
      "  X_test.fillna(X_test.mean(), inplace=True)\n"
     ]
    },
    {
     "name": "stdout",
     "output_type": "stream",
     "text": [
      "🔹 Accuracy: 0.4675\n",
      "\n",
      "🔹 Classification Report:\n",
      "               precision    recall  f1-score   support\n",
      "\n",
      "           1       0.11      0.54      0.18       543\n",
      "           2       0.89      0.45      0.60      6849\n",
      "           3       0.19      0.56      0.29       601\n",
      "\n",
      "    accuracy                           0.47      7993\n",
      "   macro avg       0.40      0.52      0.36      7993\n",
      "weighted avg       0.78      0.47      0.55      7993\n",
      "\n",
      "\n",
      "🔹 Confusion Matrix:\n",
      " [[ 294  199   50]\n",
      " [2394 3108 1347]\n",
      " [  80  186  335]]\n",
      "\n",
      "🔹 Misclassified samples saved in 'misclassified_samples.csv'\n"
     ]
    }
   ],
   "source": [
    "# Load train and test data\n",
    "train_df = pd.read_csv(\"Karnataka_Datasets/Across/Train_Test_Datasets/Combined_Train_Balanced.csv\")\n",
    "test_df = pd.read_csv(\"Karnataka_Datasets/Across/Train_Test_Datasets/Test/Davanagere_Kharif_Data_Final_test.csv\")\n",
    "\n",
    "# Select feature columns (VV_0...VV_n, VH_0...VH_n)\n",
    "VV_columns = [col for col in train_df.columns if col.startswith(\"VV_\")]\n",
    "VH_columns = [col for col in train_df.columns if col.startswith(\"VH_\")]\n",
    "#NDVI_columns = [col for col in train_df.columns if col.startswith(\"NDVI_\")]\n",
    "feature_columns = VV_columns + VH_columns \n",
    "\n",
    "# Define target variable\n",
    "target_column = \"duration_numeric\"\n",
    "\n",
    "# Extract features and labels\n",
    "X_train, y_train = train_df[feature_columns], train_df[target_column]\n",
    "X_test, y_test = test_df[feature_columns], test_df[target_column]\n",
    "\n",
    "# Handle missing values (optional)\n",
    "X_train.fillna(X_train.mean(), inplace=True)\n",
    "X_test.fillna(X_test.mean(), inplace=True)\n",
    "\n",
    "# Initialize and train RandomForestClassifier\n",
    "rf_classifier_duration = RandomForestClassifier(n_estimators=100, random_state=42)\n",
    "rf_classifier_duration.fit(X_train, y_train)\n",
    "\n",
    "# Make predictions\n",
    "y_pred = rf_classifier_duration.predict(X_test)\n",
    "\n",
    "# Evaluate model\n",
    "accuracy = accuracy_score(y_test, y_pred)\n",
    "report = classification_report(y_test, y_pred)\n",
    "conf_matrix = confusion_matrix(y_test, y_pred)\n",
    "\n",
    "# Save predictions to a DataFrame\n",
    "test_df[\"Predicted_duration\"] = y_pred\n",
    "test_df[\"Correct\"] = test_df[\"Predicted_duration\"] == test_df[target_column]\n",
    "\n",
    "# Save all predictions\n",
    "test_df.to_csv(\"Results/predictions_blr_krishnagiri_5Day_duration.csv\", index=False)\n",
    "\n",
    "# Save only misclassified samples for analysis\n",
    "misclassified_df = test_df[test_df[\"Correct\"] == False]\n",
    "misclassified_df.to_csv(\"Results/misclassified_samples_blr_krishnagiri_5Day_duration.csv\", index=False)\n",
    "\n",
    "# Print results\n",
    "print(f\"🔹 Accuracy: {accuracy:.4f}\")\n",
    "print(\"\\n🔹 Classification Report:\\n\", report)\n",
    "print(\"\\n🔹 Confusion Matrix:\\n\", conf_matrix)\n",
    "print(\"\\n🔹 Misclassified samples saved in 'misclassified_samples.csv'\")"
   ]
  },
  {
   "cell_type": "markdown",
   "id": "eef5941a",
   "metadata": {},
   "source": [
    "### Print Predictions"
   ]
  },
  {
   "cell_type": "code",
   "execution_count": 28,
   "id": "9f40693d",
   "metadata": {},
   "outputs": [
    {
     "name": "stdout",
     "output_type": "stream",
     "text": [
      "Predicted_duration  Crop_Name Duration     1     2    3\n",
      "0                       Avare      Low    10     9    5\n",
      "1                       Bajra      Low    23    19    2\n",
      "2                      Banana     Long    12    31   65\n",
      "3                     Coconut     Long    47   105  216\n",
      "4                       Jowar      Low    17    11    2\n",
      "5                       Maize   Medium  2083  2035  709\n",
      "6                     Mangoes     Long    11     8    8\n",
      "7                       Paddy   Medium   278  1049  636\n",
      "8                        Ragi      Low   244   160   41\n",
      "9                     Redgram   Medium    33    24    2\n",
      "10                  Sugarcane     Long    10    42   46\n"
     ]
    }
   ],
   "source": [
    "# Load the CSV file\n",
    "df = pd.read_csv(\"Results/predictions_blr_krishnagiri_5Day_duration.csv\")\n",
    "\n",
    "# Group by Crop_Name and count occurrences of (duration_numeric, predicted_Duration)\n",
    "result = df.groupby([\"Crop_Name\", \"Duration\"])[\"Predicted_duration\"].value_counts().unstack(fill_value=0)\n",
    "\n",
    "# Reset index for better readability\n",
    "result = result.reset_index()\n",
    "\n",
    "# Save the output as CSV\n",
    "result.to_csv(\"Results/duration_blr_rural_comparison.csv\", index=False)\n",
    "\n",
    "# Print the result\n",
    "print(result)"
   ]
  },
  {
   "cell_type": "markdown",
   "id": "0ebce237",
   "metadata": {},
   "source": [
    "### Feature Importance"
   ]
  },
  {
   "cell_type": "code",
   "execution_count": 29,
   "id": "59b98bb0",
   "metadata": {},
   "outputs": [
    {
     "name": "stdout",
     "output_type": "stream",
     "text": [
      "\n",
      "🔹 Top 10 Important Features:\n",
      "1. VH_5 (0.0319)\n",
      "2. VH_11 (0.0292)\n",
      "3. VH_7 (0.0282)\n",
      "4. VH_1 (0.0269)\n",
      "5. VV_1 (0.0266)\n",
      "6. VH_21 (0.0236)\n",
      "7. VH_2 (0.0233)\n",
      "8. VH_8 (0.0224)\n",
      "9. VH_3 (0.0213)\n",
      "10. VV_2 (0.0210)\n"
     ]
    },
    {
     "data": {
      "image/png": "[encoded data removed]",
      "text/plain": [
       "<Figure size 1200x800 with 1 Axes>"
      ]
     },
     "metadata": {},
     "output_type": "display_data"
    }
   ],
   "source": [
    "\n",
    "# --- Feature Importance ---\n",
    "importances = rf_classifier_duration.feature_importances_\n",
    "feature_names = feature_columns  # same order as your training\n",
    "\n",
    "# Sort features by importance\n",
    "indices = np.argsort(importances)[::-1]  # sort descending\n",
    "sorted_features = [feature_names[i] for i in indices]\n",
    "sorted_importances = importances[indices]\n",
    "\n",
    "# Print top features\n",
    "print(\"\\n🔹 Top 10 Important Features:\")\n",
    "for i in range(10):\n",
    "    print(f\"{i+1}. {sorted_features[i]} ({sorted_importances[i]:.4f})\")\n",
    "\n",
    "# Plot feature importances\n",
    "plt.figure(figsize=(12, 8))\n",
    "plt.title(\"Feature Importance\", fontsize=16)\n",
    "plt.bar(range(len(sorted_importances[:20])), sorted_importances[:20], align=\"center\")\n",
    "plt.xticks(range(len(sorted_features[:20])), sorted_features[:20], rotation=90)\n",
    "plt.xlabel(\"Features\")\n",
    "plt.ylabel(\"Importance\")\n",
    "plt.tight_layout()\n",
    "plt.show()"
   ]
  },
  {
   "cell_type": "markdown",
   "id": "eef3e5c8",
   "metadata": {},
   "source": [
    "# Structure Classifier"
   ]
  },
  {
   "cell_type": "code",
   "execution_count": 30,
   "id": "9be6efad",
   "metadata": {},
   "outputs": [
    {
     "name": "stderr",
     "output_type": "stream",
     "text": [
      "C:\\Users\\prath\\AppData\\Local\\Temp\\ipykernel_12464\\1454268525.py:19: SettingWithCopyWarning: \n",
      "A value is trying to be set on a copy of a slice from a DataFrame\n",
      "\n",
      "See the caveats in the documentation: https://pandas.pydata.org/pandas-docs/stable/user_guide/indexing.html#returning-a-view-versus-a-copy\n",
      "  X_train.fillna(X_train.mean(), inplace=True)\n",
      "C:\\Users\\prath\\AppData\\Local\\Temp\\ipykernel_12464\\1454268525.py:20: SettingWithCopyWarning: \n",
      "A value is trying to be set on a copy of a slice from a DataFrame\n",
      "\n",
      "See the caveats in the documentation: https://pandas.pydata.org/pandas-docs/stable/user_guide/indexing.html#returning-a-view-versus-a-copy\n",
      "  X_test.fillna(X_test.mean(), inplace=True)\n"
     ]
    },
    {
     "name": "stdout",
     "output_type": "stream",
     "text": [
      "🔹 Accuracy: 0.7562\n",
      "\n",
      "🔹 Classification Report:\n",
      "               precision    recall  f1-score   support\n",
      "\n",
      "           1       0.28      0.31      0.29       503\n",
      "           2       0.01      0.13      0.02        83\n",
      "           3       0.94      0.79      0.86      7407\n",
      "\n",
      "    accuracy                           0.76      7993\n",
      "   macro avg       0.41      0.41      0.39      7993\n",
      "weighted avg       0.89      0.76      0.82      7993\n",
      "\n",
      "\n",
      "🔹 Confusion Matrix:\n",
      " [[ 158   65  280]\n",
      " [   3   11   69]\n",
      " [ 408 1124 5875]]\n",
      "\n",
      "🔹 Misclassified samples saved in 'misclassified_samples.csv'\n"
     ]
    }
   ],
   "source": [
    "train_df = pd.read_csv(\"Karnataka_Datasets/Across/Train_Test_Datasets/Combined_Train_Balanced.csv\")\n",
    "test_df = pd.read_csv(\"Karnataka_Datasets/Across/Train_Test_Datasets/Test/Davanagere_Kharif_Data_Final_test.csv\")\n",
    "\n",
    "# Select feature columns (VV_0...VV_n, VH_0...VH_n)\n",
    "VV_columns = [col for col in train_df.columns if col.startswith(\"VV_\")]\n",
    "VH_columns = [col for col in train_df.columns if col.startswith(\"VH_\")]\n",
    "#NDVI_columns = [col for col in train_df.columns if col.startswith(\"NDVI_\")]\n",
    "feature_columns = VV_columns + VH_columns \n",
    "\n",
    "\n",
    "# Define target variable\n",
    "target_column = \"Structure_Numeric\"\n",
    "\n",
    "# Extract features and labels\n",
    "X_train, y_train = train_df[feature_columns], train_df[target_column]\n",
    "X_test, y_test = test_df[feature_columns], test_df[target_column]\n",
    "\n",
    "# Handle missing values (optional)\n",
    "X_train.fillna(X_train.mean(), inplace=True)\n",
    "X_test.fillna(X_test.mean(), inplace=True)\n",
    "\n",
    "# Initialize and train RandomForestClassifier\n",
    "rf_classifier_structure = RandomForestClassifier(n_estimators=100, random_state=42)\n",
    "rf_classifier_structure.fit(X_train, y_train)\n",
    "\n",
    "# Make predictions\n",
    "y_pred = rf_classifier_structure.predict(X_test)\n",
    "\n",
    "# Evaluate model\n",
    "accuracy = accuracy_score(y_test, y_pred)\n",
    "report = classification_report(y_test, y_pred)\n",
    "conf_matrix = confusion_matrix(y_test, y_pred)\n",
    "\n",
    "# Save predictions to a DataFrame\n",
    "test_df[\"Predicted_Structure\"] = y_pred\n",
    "test_df[\"Correct\"] = test_df[\"Predicted_Structure\"] == test_df[target_column]\n",
    "\n",
    "# Save all predictions\n",
    "test_df.to_csv(\"Karnataka_Datasets/Across/S2/Results.csv\", index=False)\n",
    "\n",
    "# Save only misclassified samples for analysis\n",
    "misclassified_df = test_df[test_df[\"Correct\"] == False]\n",
    "#misclassified_df.to_csv(\"Results/misclassified_samples_blr_krishnagiri_5Day_common.csv\", index=False)\n",
    "\n",
    "# Print results\n",
    "print(f\"🔹 Accuracy: {accuracy:.4f}\")\n",
    "print(\"\\n🔹 Classification Report:\\n\", report)\n",
    "print(\"\\n🔹 Confusion Matrix:\\n\", conf_matrix)\n",
    "print(\"\\n🔹 Misclassified samples saved in 'misclassified_samples.csv'\")"
   ]
  },
  {
   "cell_type": "markdown",
   "id": "17b9bcc4",
   "metadata": {},
   "source": [
    "### Print Results"
   ]
  },
  {
   "cell_type": "code",
   "execution_count": 31,
   "id": "3011b857",
   "metadata": {},
   "outputs": [
    {
     "name": "stdout",
     "output_type": "stream",
     "text": [
      "Predicted_Structure  Crop_Name   Structure    1    2     3\n",
      "0                        Avare       Shrub    2    3    19\n",
      "1                        Bajra  Grass Crop    1   10    33\n",
      "2                       Banana        Tree   37   18    53\n",
      "3                      Coconut        Tree  119   43   206\n",
      "4                        Jowar  Grass Crop    2    5    23\n",
      "5                        Maize  Grass Crop  259  790  3778\n",
      "6                      Mangoes        Tree    2    4    21\n",
      "7                        Paddy  Grass Crop  118  222  1623\n",
      "8                         Ragi  Grass Crop   10   85   350\n",
      "9                      Redgram       Shrub    1    8    50\n",
      "10                   Sugarcane  Grass Crop   18   12    68\n"
     ]
    }
   ],
   "source": [
    "# Load the CSV file\n",
    "df = pd.read_csv(\"Karnataka_Datasets/Across/S2/Results.csv\")\n",
    "\n",
    "# Group by Crop_Name and count occurrences of (duration_numeric, predicted_Duration)\n",
    "result = df.groupby([\"Crop_Name\", \"Structure\"])[\"Predicted_Structure\"].value_counts().unstack(fill_value=0)\n",
    "\n",
    "# Reset index for better readability\n",
    "result = result.reset_index()\n",
    "\n",
    "# Save the output as CSV\n",
    "result.to_csv(\"Karnataka_Datasets/Across/Pred.csv\", index=False)\n",
    "\n",
    "# Print the result\n",
    "print(result)"
   ]
  },
  {
   "cell_type": "markdown",
   "id": "f24eefe2",
   "metadata": {},
   "source": [
    "### Feature Importance"
   ]
  },
  {
   "cell_type": "code",
   "execution_count": 33,
   "id": "5ed7d865",
   "metadata": {},
   "outputs": [
    {
     "name": "stdout",
     "output_type": "stream",
     "text": [
      "\n",
      "🔹 Top 10 Important Features:\n",
      "1. VV_4 (0.0320)\n",
      "2. VH_5 (0.0312)\n",
      "3. VH_4 (0.0308)\n",
      "4. VH_7 (0.0283)\n",
      "5. VV_20 (0.0268)\n",
      "6. VV_16 (0.0267)\n",
      "7. VH_11 (0.0260)\n",
      "8. VH_12 (0.0249)\n",
      "9. VV_7 (0.0248)\n",
      "10. VV_12 (0.0205)\n"
     ]
    },
    {
     "data": {
      "image/png": "[encoded data removed]",
      "text/plain": [
       "<Figure size 1200x800 with 1 Axes>"
      ]
     },
     "metadata": {},
     "output_type": "display_data"
    }
   ],
   "source": [
    "\n",
    "# --- Feature Importance ---\n",
    "importances = rf_classifier_structure.feature_importances_\n",
    "feature_names = feature_columns  # same order as your training\n",
    "\n",
    "# Sort features by importance\n",
    "indices = np.argsort(importances)[::-1]  # sort descending\n",
    "sorted_features = [feature_names[i] for i in indices]\n",
    "sorted_importances = importances[indices]\n",
    "\n",
    "# Print top features\n",
    "print(\"\\n🔹 Top 10 Important Features:\")\n",
    "for i in range(10):\n",
    "    print(f\"{i+1}. {sorted_features[i]} ({sorted_importances[i]:.4f})\")\n",
    "\n",
    "# Plot feature importances\n",
    "plt.figure(figsize=(12, 8))\n",
    "plt.title(\"Feature Importance\", fontsize=16)\n",
    "plt.bar(range(len(sorted_importances[:20])), sorted_importances[:20], align=\"center\")\n",
    "plt.xticks(range(len(sorted_features[:20])), sorted_features[:20], rotation=90)\n",
    "plt.xlabel(\"Features\")\n",
    "plt.ylabel(\"Importance\")\n",
    "plt.tight_layout()\n",
    "plt.show()"
   ]
  },
  {
   "cell_type": "markdown",
   "id": "37ad5c39",
   "metadata": {},
   "source": [
    "### Unique Triplet Identification"
   ]
  },
  {
   "cell_type": "code",
   "execution_count": 34,
   "id": "5e3ce85b",
   "metadata": {},
   "outputs": [
    {
     "name": "stdout",
     "output_type": "stream",
     "text": [
      "Triplet (1, 2, 2): Rose\n",
      "Triplet (1, 3, 1): Ragi, Bajra\n",
      "Triplet (1, 3, 2): Paddy\n",
      "Triplet (2, 2, 1): Avare\n",
      "Triplet (2, 2, 2): Redgram\n",
      "Triplet (2, 3, 1): Jowar\n",
      "Triplet (2, 3, 2): Maize\n",
      "Triplet (3, 1, 3): Coconut, Mangoes, Guava, Arecanut, Lemon, Sapota, Banana, Eucalyptus\n",
      "Triplet (3, 3, 3): Sugarcane\n"
     ]
    }
   ],
   "source": [
    "# Group crops by (height, structure, duration) triplet\n",
    "triplet_to_crops = train_df.groupby([\"height_numeric\", \"Structure_Numeric\", \"duration_numeric\"])[\"Crop_Name\"].unique()\n",
    "\n",
    "# Print nicely\n",
    "for triplet, crops in triplet_to_crops.items():\n",
    "    crops_list = \", \".join(crops)\n",
    "    print(f\"Triplet {triplet}: {crops_list}\")"
   ]
  },
  {
   "cell_type": "markdown",
   "id": "4f9a17af",
   "metadata": {},
   "source": [
    "### Combining the Three Classifiers"
   ]
  },
  {
   "cell_type": "code",
   "execution_count": 35,
   "id": "a906afaa",
   "metadata": {},
   "outputs": [
    {
     "name": "stderr",
     "output_type": "stream",
     "text": [
      "C:\\Users\\prath\\AppData\\Local\\Temp\\ipykernel_12464\\1532928018.py:23: SettingWithCopyWarning: \n",
      "A value is trying to be set on a copy of a slice from a DataFrame\n",
      "\n",
      "See the caveats in the documentation: https://pandas.pydata.org/pandas-docs/stable/user_guide/indexing.html#returning-a-view-versus-a-copy\n",
      "  X_train.fillna(X_train.mean(), inplace=True)\n",
      "C:\\Users\\prath\\AppData\\Local\\Temp\\ipykernel_12464\\1532928018.py:24: SettingWithCopyWarning: \n",
      "A value is trying to be set on a copy of a slice from a DataFrame\n",
      "\n",
      "See the caveats in the documentation: https://pandas.pydata.org/pandas-docs/stable/user_guide/indexing.html#returning-a-view-versus-a-copy\n",
      "  X_test.fillna(X_test.mean(), inplace=True)\n"
     ]
    },
    {
     "name": "stdout",
     "output_type": "stream",
     "text": [
      "🔹 Overall Crop Prediction Accuracy: 0.1843\n",
      "\n",
      "🔹 Confusion Matrix (Strict):\n",
      "[[   0    0    0    0    0    0    0    0    0    0]\n",
      " [   4    0    5    6    4    1    0    0    2    2]\n",
      " [   2    0   11    6    6    3    0    0    1    1]\n",
      " [ 391    5 1480 1005  752  323    4   25  674  168]\n",
      " [  27    0  180   98   96   40    1    1   38    8]\n",
      " [ 353    0  171  291   99  189    2    5  783   70]\n",
      " [   1    0   24   14    8    9    0    0    2    1]\n",
      " [   0    0    0    0    0    0    0    0    0    0]\n",
      " [  13    1   11   12    1    2    0    0   47   11]\n",
      " [  67    1   42   60   14   13    0    1  180  125]]\n",
      "\n",
      "🔹 Classification Report (Strict):\n",
      "              precision    recall  f1-score   support\n",
      "\n",
      "   Ambiguous       0.00      0.00      0.00         0\n",
      "       Avare       0.00      0.00      0.00        24\n",
      "       Jowar       0.01      0.37      0.01        30\n",
      "       Maize       0.67      0.21      0.32      4827\n",
      "     Millets       0.10      0.20      0.13       489\n",
      "       Paddy       0.33      0.10      0.15      1963\n",
      "     Redgram       0.00      0.00      0.00        59\n",
      "        Rose       0.00      0.00      0.00         0\n",
      "   Sugarcane       0.03      0.48      0.05        98\n",
      "        Tree       0.32      0.25      0.28       503\n",
      "\n",
      "    accuracy                           0.18      7993\n",
      "   macro avg       0.15      0.16      0.09      7993\n",
      "weighted avg       0.51      0.18      0.25      7993\n",
      "\n"
     ]
    },
    {
     "name": "stderr",
     "output_type": "stream",
     "text": [
      "C:\\Users\\prath\\anaconda3\\Lib\\site-packages\\sklearn\\metrics\\_classification.py:1344: UndefinedMetricWarning: Recall and F-score are ill-defined and being set to 0.0 in labels with no true samples. Use `zero_division` parameter to control this behavior.\n",
      "  _warn_prf(average, modifier, msg_start, len(result))\n",
      "C:\\Users\\prath\\anaconda3\\Lib\\site-packages\\sklearn\\metrics\\_classification.py:1344: UndefinedMetricWarning: Recall and F-score are ill-defined and being set to 0.0 in labels with no true samples. Use `zero_division` parameter to control this behavior.\n",
      "  _warn_prf(average, modifier, msg_start, len(result))\n",
      "C:\\Users\\prath\\anaconda3\\Lib\\site-packages\\sklearn\\metrics\\_classification.py:1344: UndefinedMetricWarning: Recall and F-score are ill-defined and being set to 0.0 in labels with no true samples. Use `zero_division` parameter to control this behavior.\n",
      "  _warn_prf(average, modifier, msg_start, len(result))\n"
     ]
    }
   ],
   "source": [
    "\n",
    "# --------------------------------------\n",
    "# 1. Load Train/Test Data\n",
    "# --------------------------------------\n",
    "\n",
    "train_df = pd.read_csv(\"Karnataka_Datasets/Across/Train_Test_Datasets/Combined_Train.csv\")\n",
    "test_df = pd.read_csv(\"Karnataka_Datasets/Across/Train_Test_Datasets/Test/Davanagere_Kharif_Data_Final_test.csv\")\n",
    "\n",
    "# Extract only VV_i and VH_i features (first 15 VV and 15 VH)\n",
    "VV_columns = sorted([col for col in train_df.columns if col.startswith(\"VV_\")])\n",
    "VH_columns = sorted([col for col in train_df.columns if col.startswith(\"VH_\")])\n",
    "feature_columns = VV_columns + VH_columns\n",
    "\n",
    "X_train = train_df[feature_columns]\n",
    "X_test = test_df[feature_columns]\n",
    "\n",
    "# Fill missing values\n",
    "X_train.fillna(X_train.mean(), inplace=True)\n",
    "X_test.fillna(X_test.mean(), inplace=True)\n",
    "\n",
    "# --------------------------------------\n",
    "# 2. Train three models separately\n",
    "# --------------------------------------\n",
    "\n",
    "# Height Model\n",
    "height_model = RandomForestClassifier(n_estimators=100, random_state=42)\n",
    "height_model.fit(X_train, train_df[\"height_numeric\"])\n",
    "\n",
    "# Structure Model\n",
    "structure_model = RandomForestClassifier(n_estimators=100, random_state=42)\n",
    "structure_model.fit(X_train, train_df[\"Structure_Numeric\"])\n",
    "\n",
    "# Duration Model\n",
    "duration_model = RandomForestClassifier(n_estimators=100, random_state=42)\n",
    "duration_model.fit(X_train, train_df[\"duration_numeric\"])\n",
    "\n",
    "# --------------------------------------\n",
    "# 3. Predict using the three models\n",
    "# --------------------------------------\n",
    "\n",
    "height_pred = height_model.predict(X_test)\n",
    "structure_pred = structure_model.predict(X_test)\n",
    "duration_pred = duration_model.predict(X_test)\n",
    "\n",
    "# Add predictions to test_df\n",
    "test_df[\"pred_height\"] = height_pred\n",
    "test_df[\"pred_structure\"] = structure_pred\n",
    "test_df[\"pred_duration\"] = duration_pred\n",
    "\n",
    "# --------------------------------------\n",
    "# 4. Define Grouped Triplet Mapping\n",
    "# --------------------------------------\n",
    "\n",
    "triplet_mapping = {\n",
    "    (1, 3, 1): \"Millets\",    # Bajra, Ragi\n",
    "    (3, 1, 3): \"Tree\",  # Arecanut, Banana, Coconut, Eucalyptus, Guava, Lemon, Mangoes, Sapota\n",
    "    (2, 2, 1): \"Avare\",\n",
    "    (2, 3, 1): \"Jowar\",\n",
    "    (2, 3, 2): \"Maize\",\n",
    "    (1, 3, 2): \"Paddy\",\n",
    "    (2, 2, 2): \"Redgram\",\n",
    "    (1, 2, 2): \"Rose\",\n",
    "    (3, 3, 3): \"Sugarcane\",\n",
    "}\n",
    "\n",
    "def lookup_crop(height, structure, duration):\n",
    "    key = (height, structure, duration)\n",
    "    return triplet_mapping.get(key, \"Ambiguous\")  # fallback if key not found\n",
    "\n",
    "# Apply lookup\n",
    "test_df[\"predicted_crop\"] = test_df.apply(\n",
    "    lambda row: lookup_crop(row[\"pred_height\"], row[\"pred_structure\"], row[\"pred_duration\"]),\n",
    "    axis=1\n",
    ")\n",
    "\n",
    "# --------------------------------------\n",
    "# 5. Remap Ground Truth Also (Optional but Important)\n",
    "# --------------------------------------\n",
    "\n",
    "# Create manual mapping for ground truth Crop_Names to group names\n",
    "ground_truth_mapping = {\n",
    "    \"Bajra\": \"Millets\",\n",
    "    \"Ragi\": \"Millets\",\n",
    "    \"Jowar\": \"Jowar\",\n",
    "    \"Maize\": \"Maize\",\n",
    "    \"Paddy\": \"Paddy\",\n",
    "    \"Redgram\": \"Redgram\",\n",
    "    \"Rose\": \"Rose\",\n",
    "    \"Sugarcane\": \"Sugarcane\",\n",
    "    \"Avare\": \"Avare\",\n",
    "    \"Arecanut\": \"Tree\",\n",
    "    \"Banana\": \"Tree\",\n",
    "    \"Coconut\": \"Tree\",\n",
    "    \"Eucalyptus\": \"Tree\",\n",
    "    \"Guava\": \"Tree\",\n",
    "    \"Lemon\": \"Tree\",\n",
    "    \"Mangoes\": \"Tree\",\n",
    "    \"Sapota\": \"Tree\",\n",
    "}\n",
    "\n",
    "# Remap true labels\n",
    "test_df[\"true_crop_grouped\"] = test_df[\"Crop_Name\"].map(ground_truth_mapping).fillna(\"Unknown\")\n",
    "\n",
    "# --------------------------------------\n",
    "# 6. Evaluate\n",
    "# --------------------------------------\n",
    "\n",
    "# Basic accuracy (strict)\n",
    "crop_accuracy = (test_df[\"predicted_crop\"] == test_df[\"true_crop_grouped\"]).mean()\n",
    "\n",
    "print(f\"🔹 Overall Crop Prediction Accuracy: {crop_accuracy:.4f}\")\n",
    "\n",
    "# Save for inspection\n",
    "test_df.to_csv(\"Results/final_predictions_combined_model.csv\", index=False)\n",
    "\n",
    "# See confusion matrix\n",
    "print(\"\\n🔹 Confusion Matrix (Strict):\")\n",
    "print(confusion_matrix(test_df[\"true_crop_grouped\"], test_df[\"predicted_crop\"]))\n",
    "\n",
    "print(\"\\n🔹 Classification Report (Strict):\")\n",
    "print(classification_report(test_df[\"true_crop_grouped\"], test_df[\"predicted_crop\"]))"
   ]
  },
  {
   "cell_type": "markdown",
   "id": "1b745eba",
   "metadata": {},
   "source": [
    "### Printing Results"
   ]
  },
  {
   "cell_type": "code",
   "execution_count": 36,
   "id": "b96db361",
   "metadata": {},
   "outputs": [
    {
     "name": "stdout",
     "output_type": "stream",
     "text": [
      "predicted_crop  Crop_Name true_crop_grouped  Ambiguous  Avare  Jowar  Maize  \\\n",
      "0                   Avare             Avare          4      0      5      6   \n",
      "1                   Bajra           Millets          2      0     17      8   \n",
      "2                  Banana              Tree         16      1      9     15   \n",
      "3                 Coconut              Tree         46      0     27     39   \n",
      "4                   Jowar             Jowar          2      0     11      6   \n",
      "5                   Maize             Maize        391      5   1480   1005   \n",
      "6                 Mangoes              Tree          5      0      6      6   \n",
      "7                   Paddy             Paddy        353      0    171    291   \n",
      "8                    Ragi           Millets         25      0    163     90   \n",
      "9                 Redgram           Redgram          1      0     24     14   \n",
      "10              Sugarcane         Sugarcane         13      1     11     12   \n",
      "\n",
      "predicted_crop  Millets  Paddy  Redgram  Rose  Sugarcane  Tree  \n",
      "0                     4      1        0     0          2     2  \n",
      "1                    10      5        0     0          1     1  \n",
      "2                     2      6        0     0         26    33  \n",
      "3                    12      7        0     1        147    89  \n",
      "4                     6      3        0     0          1     1  \n",
      "5                   752    323        4    25        674   168  \n",
      "6                     0      0        0     0          7     3  \n",
      "7                    99    189        2     5        783    70  \n",
      "8                    86     35        1     1         37     7  \n",
      "9                     8      9        0     0          2     1  \n",
      "10                    1      2        0     0         47    11  \n"
     ]
    }
   ],
   "source": [
    "# Load the CSV file\n",
    "df = pd.read_csv(\"Results/final_predictions_combined_model.csv\")\n",
    "\n",
    "# Group by Crop_Name and count occurrences of (duration_numeric, predicted_Duration)\n",
    "result = df.groupby([\"Crop_Name\", \"true_crop_grouped\"])[\"predicted_crop\"].value_counts().unstack(fill_value=0)\n",
    "\n",
    "# Reset index for better readability\n",
    "result = result.reset_index()\n",
    "\n",
    "# Save the output as CSV\n",
    "#result.to_csv(\"Karnataka_Datasets/Across/Pred.csv\", index=False)\n",
    "\n",
    "# Print the result\n",
    "print(result)"
   ]
  }
 ],
 "metadata": {
  "kernelspec": {
   "display_name": "Python 3 (ipykernel)",
   "language": "python",
   "name": "python3"
  },
  "language_info": {
   "codemirror_mode": {
    "name": "ipython",
    "version": 3
   },
   "file_extension": ".py",
   "mimetype": "text/x-python",
   "name": "python",
   "nbconvert_exporter": "python",
   "pygments_lexer": "ipython3",
   "version": "3.11.7"
  }
 },
 "nbformat": 4,
 "nbformat_minor": 5
}
