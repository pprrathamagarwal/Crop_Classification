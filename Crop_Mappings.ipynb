{
 "cells": [
  {
   "cell_type": "code",
   "execution_count": 1,
   "id": "0b9a1d03",
   "metadata": {},
   "outputs": [],
   "source": [
    "import pandas as pd\n",
    "import matplotlib.pyplot as plt\n",
    "import random\n",
    "import re"
   ]
  },
  {
   "cell_type": "markdown",
   "id": "bd0962d2",
   "metadata": {},
   "source": [
    "# Print Unique Crop Names"
   ]
  },
  {
   "cell_type": "code",
   "execution_count": null,
   "id": "965c4623",
   "metadata": {},
   "outputs": [],
   "source": [
    "# Load your CSV file\n",
    "df = pd.read_csv('Karnataka_Datasets/Across/Karnataka_Dataset_Across_Regions.csv')  # Replace with your file path\n",
    "\n",
    "# Print unique values in the 'Crop_Name' column\n",
    "unique_crops = df['Crop_Name'].dropna().unique()\n",
    "print(\"Unique Crop Names:\")\n",
    "for crop in unique_crops:\n",
    "    print(crop)"
   ]
  },
  {
   "cell_type": "markdown",
   "id": "27a771e2",
   "metadata": {},
   "source": [
    "# SAVING ONLY KHARIF SEASON DATA IN A 5 DAY INTERVAL (37 Values)"
   ]
  },
  {
   "cell_type": "code",
   "execution_count": 2,
   "id": "234b3d9a",
   "metadata": {},
   "outputs": [],
   "source": [
    "import pandas as pd\n",
    "import re\n",
    "\n",
    "# Load the original CSV\n",
    "df = pd.read_csv(\"Karnataka_Datasets/Across/S2/Merged_Karnataka_S2.csv\")\n",
    "\n",
    "# Function to check if a column name ends with _<number> and is in the range 1 to 37\n",
    "def keep_column(col):\n",
    "    match = re.match(r'.*_(\\d+)$', col)\n",
    "    if match:\n",
    "        num = int(match.group(1))\n",
    "        return num <= 37\n",
    "    return True  # Keep non-matching columns (like Latitude, Crop_Name, etc.)\n",
    "\n",
    "# Filter columns\n",
    "filtered_cols = [col for col in df.columns if keep_column(col)]\n",
    "df_filtered = df[filtered_cols]\n",
    "\n",
    "# Save to new CSV\n",
    "df_filtered.to_csv(\"Karnataka_Datasets/Across/S2/Merged_Karnataka_S2_Kharif.csv\", index=False)\n"
   ]
  },
  {
   "cell_type": "markdown",
   "id": "d9e6a005",
   "metadata": {},
   "source": [
    "# STRUCTURE MAPPINGS FOR STRUCTURE CLASSIFIER"
   ]
  },
  {
   "cell_type": "code",
   "execution_count": 7,
   "id": "1b08fdc7",
   "metadata": {},
   "outputs": [
    {
     "name": "stdout",
     "output_type": "stream",
     "text": [
      "       Crop_Name   Structure  Structure_Numeric\n",
      "0          Avare       Shrub                  2\n",
      "1          Avare       Shrub                  2\n",
      "2          Avare       Shrub                  2\n",
      "3          Avare       Shrub                  2\n",
      "4          Avare       Shrub                  2\n",
      "...          ...         ...                ...\n",
      "18272  Sugarcane  Grass Crop                  3\n",
      "18273  Sugarcane  Grass Crop                  3\n",
      "18274  Sugarcane  Grass Crop                  3\n",
      "18275  Sugarcane  Grass Crop                  3\n",
      "18276  Sugarcane  Grass Crop                  3\n",
      "\n",
      "[18277 rows x 3 columns]\n"
     ]
    }
   ],
   "source": [
    "# Load the CSV file (replace with your actual filename)\n",
    "df = pd.read_csv('Karnataka_Datasets/Across/Begalavi/Begalavi_Kharif_Data_Final.csv')  # e.g., 'crops.csv'\n",
    "\n",
    "# Define structure categories and corresponding crops\n",
    "structure_map = {\n",
    "    'Tree': ['Guava', 'Mangoes', 'Sapota', 'Eucalyptus', 'Arecanut', 'Coconut', 'Lemon', 'Banana'],\n",
    "    'Shrub': ['Rose', 'Redgram', 'Avare'],\n",
    "    'Grass Crop': ['Maize', 'Jowar', 'Bajra', 'Ragi', 'Paddy', 'Sugarcane'],\n",
    "    'Root/Bulb Crop': ['Potato', 'Onion'],\n",
    "    'Climber/Vine': ['Grapes', 'Black Pepper']\n",
    "}\n",
    "\n",
    "# Assign numeric labels to each structure type\n",
    "structure_to_numeric = {\n",
    "    'Tree': 1,\n",
    "    'Shrub': 2,\n",
    "    'Grass Crop': 3,\n",
    "    'Root/Bulb Crop': 4,\n",
    "    'Climber/Vine': 5\n",
    "}\n",
    "\n",
    "# Create crop-to-structure mapping\n",
    "crop_to_structure = {}\n",
    "for structure, crops in structure_map.items():\n",
    "    for crop in crops:\n",
    "        crop_to_structure[crop] = structure\n",
    "\n",
    "# Map structure and numeric structure to the DataFrame\n",
    "df['Structure'] = df['Crop_Name'].map(crop_to_structure)\n",
    "df['Structure_Numeric'] = df['Structure'].map(structure_to_numeric)\n",
    "\n",
    "# Print result or save to CSV\n",
    "print(df[['Crop_Name', 'Structure', 'Structure_Numeric']])\n",
    "\n",
    "# Optional: save the result\n",
    "df.to_csv('Karnataka_Datasets/Across/Begalavi/Begalavi_Kharif_Data_Final.csv', index=False)\n"
   ]
  }
 ],
 "metadata": {
  "kernelspec": {
   "display_name": "Python 3 (ipykernel)",
   "language": "python",
   "name": "python3"
  },
  "language_info": {
   "codemirror_mode": {
    "name": "ipython",
    "version": 3
   },
   "file_extension": ".py",
   "mimetype": "text/x-python",
   "name": "python",
   "nbconvert_exporter": "python",
   "pygments_lexer": "ipython3",
   "version": "3.11.7"
  }
 },
 "nbformat": 4,
 "nbformat_minor": 5
}
