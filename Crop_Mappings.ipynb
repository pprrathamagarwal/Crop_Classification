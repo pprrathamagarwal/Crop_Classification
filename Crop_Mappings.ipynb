{
 "cells": [
  {
   "cell_type": "code",
   "execution_count": 1,
   "id": "0b9a1d03",
   "metadata": {},
   "outputs": [
    {
     "name": "stdout",
     "output_type": "stream",
     "text": [
      "Unique Crop Names:\n",
      "Maize\n",
      "Rose\n",
      "Redgram\n",
      "Eucalyptus\n",
      "Ragi\n",
      "Coconut\n",
      "Banana\n",
      "Potato\n",
      "Avare\n",
      "Jowar\n",
      "Sapota\n",
      "Grapes\n",
      "Bajra\n",
      "Guava\n",
      "Onion\n",
      "Mangoes\n",
      "Lemon\n",
      "Paddy\n",
      "Arecanut\n",
      "Black Pepper\n",
      "Sugarcane\n"
     ]
    }
   ],
   "source": [
    "import pandas as pd\n",
    "\n",
    "# Load your CSV file\n",
    "df = pd.read_csv('Karnataka_Datasets/Across/Karnataka_Dataset_Across_Regions.csv')  # Replace with your file path\n",
    "\n",
    "# Print unique values in the 'Crop_Name' column\n",
    "unique_crops = df['Crop_Name'].dropna().unique()\n",
    "print(\"Unique Crop Names:\")\n",
    "for crop in unique_crops:\n",
    "    print(crop)\n"
   ]
  },
  {
   "cell_type": "markdown",
   "id": "27a771e2",
   "metadata": {},
   "source": [
    "# SAVING ONLY KHARIF SEASON DATA"
   ]
  },
  {
   "cell_type": "code",
   "execution_count": 2,
   "id": "234b3d9a",
   "metadata": {},
   "outputs": [],
   "source": [
    "import pandas as pd\n",
    "import re\n",
    "\n",
    "# Load the original CSV\n",
    "df = pd.read_csv(\"Karnataka_Datasets/Across/S2/Merged_Karnataka_S2.csv\")\n",
    "\n",
    "# Function to check if a column name ends with _<number> and is in the range 1 to 37\n",
    "def keep_column(col):\n",
    "    match = re.match(r'.*_(\\d+)$', col)\n",
    "    if match:\n",
    "        num = int(match.group(1))\n",
    "        return num <= 37\n",
    "    return True  # Keep non-matching columns (like Latitude, Crop_Name, etc.)\n",
    "\n",
    "# Filter columns\n",
    "filtered_cols = [col for col in df.columns if keep_column(col)]\n",
    "df_filtered = df[filtered_cols]\n",
    "\n",
    "# Save to new CSV\n",
    "df_filtered.to_csv(\"Karnataka_Datasets/Across/S2/Merged_Karnataka_S2_Kharif.csv\", index=False)\n"
   ]
  },
  {
   "cell_type": "code",
   "execution_count": 4,
   "id": "1b08fdc7",
   "metadata": {},
   "outputs": [
    {
     "name": "stdout",
     "output_type": "stream",
     "text": [
      "       Crop_Name   Structure  Structure_Numeric\n",
      "0       Arecanut        Tree                  1\n",
      "1       Arecanut        Tree                  1\n",
      "2       Arecanut        Tree                  1\n",
      "3       Arecanut        Tree                  1\n",
      "4       Arecanut        Tree                  1\n",
      "...          ...         ...                ...\n",
      "84285  Sugarcane  Grass Crop                  3\n",
      "84286  Sugarcane  Grass Crop                  3\n",
      "84287  Sugarcane  Grass Crop                  3\n",
      "84288  Sugarcane  Grass Crop                  3\n",
      "84289  Sugarcane  Grass Crop                  3\n",
      "\n",
      "[84290 rows x 3 columns]\n"
     ]
    }
   ],
   "source": [
    "import pandas as pd\n",
    "\n",
    "# Load the CSV file (replace with your actual filename)\n",
    "df = pd.read_csv('Karnataka_Datasets/Across/S2/clustered_crops_filtered/Karnataka_Kharif_S2_Data.csv')  # e.g., 'crops.csv'\n",
    "\n",
    "# Define structure categories and corresponding crops\n",
    "structure_map = {\n",
    "    'Tree': ['Guava', 'Mangoes', 'Sapota', 'Eucalyptus', 'Arecanut', 'Coconut', 'Lemon', 'Banana'],\n",
    "    'Shrub': ['Rose', 'Redgram', 'Avare'],\n",
    "    'Grass Crop': ['Maize', 'Jowar', 'Bajra', 'Ragi', 'Paddy', 'Sugarcane'],\n",
    "    'Root/Bulb Crop': ['Potato', 'Onion'],\n",
    "    'Climber/Vine': ['Grapes', 'Black Pepper']\n",
    "}\n",
    "\n",
    "# Assign numeric labels to each structure type\n",
    "structure_to_numeric = {\n",
    "    'Tree': 1,\n",
    "    'Shrub': 2,\n",
    "    'Grass Crop': 3,\n",
    "    'Root/Bulb Crop': 4,\n",
    "    'Climber/Vine': 5\n",
    "}\n",
    "\n",
    "# Create crop-to-structure mapping\n",
    "crop_to_structure = {}\n",
    "for structure, crops in structure_map.items():\n",
    "    for crop in crops:\n",
    "        crop_to_structure[crop] = structure\n",
    "\n",
    "# Map structure and numeric structure to the DataFrame\n",
    "df['Structure'] = df['Crop_Name'].map(crop_to_structure)\n",
    "df['Structure_Numeric'] = df['Structure'].map(structure_to_numeric)\n",
    "\n",
    "# Print result or save to CSV\n",
    "print(df[['Crop_Name', 'Structure', 'Structure_Numeric']])\n",
    "\n",
    "# Optional: save the result\n",
    "df.to_csv('Karnataka_Datasets/Across/S2/Merged_Karnataka_S2_Kharif_Mapped.csv', index=False)\n"
   ]
  },
  {
   "cell_type": "code",
   "execution_count": null,
   "id": "c3619b38",
   "metadata": {},
   "outputs": [],
   "source": []
  }
 ],
 "metadata": {
  "kernelspec": {
   "display_name": "Python 3 (ipykernel)",
   "language": "python",
   "name": "python3"
  },
  "language_info": {
   "codemirror_mode": {
    "name": "ipython",
    "version": 3
   },
   "file_extension": ".py",
   "mimetype": "text/x-python",
   "name": "python",
   "nbconvert_exporter": "python",
   "pygments_lexer": "ipython3",
   "version": "3.11.7"
  }
 },
 "nbformat": 4,
 "nbformat_minor": 5
}
