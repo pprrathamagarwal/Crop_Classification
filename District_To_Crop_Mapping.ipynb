{
 "cells": [
  {
   "cell_type": "code",
   "execution_count": 1,
   "id": "b35e2764",
   "metadata": {},
   "outputs": [],
   "source": [
    "import pandas as pd"
   ]
  },
  {
   "cell_type": "code",
   "execution_count": 1,
   "id": "ff93b4de",
   "metadata": {},
   "outputs": [],
   "source": [
    "import pandas as pd\n",
    "\n",
    "# Load your CSV file\n",
    "df = pd.read_csv(\"Karnataka_Datasets/Crops_Karnataka_Modified_Processed.csv\")"
   ]
  },
  {
   "cell_type": "code",
   "execution_count": 2,
   "id": "86762e53",
   "metadata": {},
   "outputs": [
    {
     "name": "stdout",
     "output_type": "stream",
     "text": [
      "{'Bangalore': ['Redgram', 'Sunflower', 'Jute', 'Ragi', 'Paddy', 'Small Millets', 'Greengram', 'Groundnut', 'Arecanut', 'Sugarcane', 'Turmeric', 'Onion', 'Maize', 'Bajra', 'Cotton', 'Wheat', 'Coconut', 'Jowar', 'Banana', 'Potato', 'Bamboo', 'Soyabean'], 'Bangalore Rural': ['Paddy', 'Greengram', 'Turmeric', 'Redgram', 'Sunflower', 'Coconut', 'Groundnut', 'Arecanut', 'Sugarcane', 'Jowar', 'Banana', 'Potato', 'Ragi', 'Maize'], 'Krishnagiri': ['Redgram', 'Coconut', 'Jowar', 'Banana', 'Ragi', 'Maize'], 'Ramanagara': ['Redgram', 'Coconut', 'Arecanut', 'Jowar', 'Banana', 'Ragi', 'Maize']}\n"
     ]
    }
   ],
   "source": [
    "hobli_to_crops = (\n",
    "    df.groupby('Name')['Crop_Name']\n",
    "    .apply(lambda x: list(set(x)))  # Remove duplicate crop names\n",
    "    .to_dict()\n",
    ")\n",
    "\n",
    "# Print the dictionary\n",
    "print(hobli_to_crops)"
   ]
  },
  {
   "cell_type": "code",
   "execution_count": 5,
   "id": "77e98f4b",
   "metadata": {},
   "outputs": [
    {
     "name": "stdout",
     "output_type": "stream",
     "text": [
      "Enter the year (e.g., 2021): 2021\n",
      "File saved successfully to Karnataka_Datasets/District_Data.csv\n"
     ]
    }
   ],
   "source": [
    "# Load the input CSV file\n",
    "file_path = \"Onset_Data/Onset_Merged.csv\"  # Replace with the actual path to your CSV file\n",
    "df = pd.read_csv(file_path)\n",
    "\n",
    "# Take year as input\n",
    "year = input(\"Enter the year (e.g., 2021): \")\n",
    "\n",
    "# Generate the input column name and the output column name\n",
    "input_column = f\"monsoon_onset_{year}\"\n",
    "output_column = f\"onset_{year[-2:]}\"\n",
    "\n",
    "# Check if the input column exists in the file\n",
    "if input_column not in df.columns:\n",
    "    raise ValueError(f\"Column {input_column} does not exist in the input CSV file.\")\n",
    "\n",
    "# Create a new DataFrame for the output\n",
    "result = pd.DataFrame()\n",
    "\n",
    "# Add District Name\n",
    "result[\"District Name\"] = df[\"Name\"]\n",
    "\n",
    "# Map Crop Names based on the dictionary\n",
    "result[\"Crop Names\"] = result[\"District Name\"].map(hobli_to_crops)\n",
    "\n",
    "# Add the monsoon onset column with the new column name\n",
    "result[output_column] = df[input_column]\n",
    "\n",
    "# Save the resulting DataFrame to a CSV\n",
    "output_path = \"Karnataka_Datasets/District_Data.csv\"  # Replace with the desired output file path\n",
    "result.to_csv(output_path, index=False)\n",
    "\n",
    "print(f\"File saved successfully to {output_path}\")\n"
   ]
  },
  {
   "cell_type": "code",
   "execution_count": 4,
   "id": "47735b60",
   "metadata": {},
   "outputs": [
    {
     "name": "stdout",
     "output_type": "stream",
     "text": [
      "File saved to Karnataka_Datasets/Model_Data/final_train_height.csv\n"
     ]
    }
   ],
   "source": [
    "import pandas as pd\n",
    "\n",
    "# Define the dictionaries\n",
    "height_dict = {\n",
    "    \"low\": [\"Redgram\", \"Groundnut\", \"Millets\", \"Ragi\", \"Greengram\", \n",
    "            \"Soyabean\", \"Small Millets\", \"Potato\", \"Onion\", \"Wheat\", \"Turmeric\"],\n",
    "    \"medium\": [\"Maize\", \"Jowar\", \"Jute\", \"Cotton\", \"Sunflower\", \"Paddy\", \"Bajra\"],\n",
    "    \"high\": [\"Sugarcane\", \"Coconut\", \"Banana\", \"Arecanut\", \"Bamboo\"]\n",
    "}\n",
    "duration_dict = {\n",
    "    \"low\": [\"Redgram\", \"Groundnut\", \"Potato\", \"Sunflower\", \"Onion\", \"Greengram\"],\n",
    "    \"medium\": [\"Millets\", \"Bajra\",\"Ragi\", \"Soyabean\", \"Paddy\", \"Maize\", \n",
    "               \"Turmeric\", \"Jowar\", \"Cotton\", \"Small Millets\", \"Banana\", \"Wheat\"],\n",
    "    \"high\": [\"Rice\", \"Jute\", \"Sugarcane\", \"Coconut\", \"Arecanut\", \"Bamboo\"]\n",
    "}\n",
    "\n",
    "# Helper function to find the key for a crop in a dictionary\n",
    "def get_category(crop, category_dict):\n",
    "    for key, crops in category_dict.items():\n",
    "        if crop in crops:\n",
    "            return key\n",
    "    return None  # Return None if crop is not found\n",
    "\n",
    "# Load the input CSV\n",
    "input_csv = \"Karnataka_Datasets/Model_Data/final_train_height.csv\"  # Replace with the actual file path\n",
    "df = pd.read_csv(input_csv)\n",
    "\n",
    "# Create height and duration columns\n",
    "df[\"height\"] = df[\"Crop_Name\"].apply(lambda crop: get_category(crop, height_dict))\n",
    "df[\"duration\"] = df[\"Crop_Name\"].apply(lambda crop: get_category(crop, duration_dict))\n",
    "\n",
    "# Save to a new CSV file\n",
    "output_csv = \"Karnataka_Datasets/Model_Data/final_train_height.csv\"  # Replace with the desired output file path\n",
    "df[[\"latitude\", \"longitude\", \"Name\", \"Crop_Name\", \"height\", \"duration\"]].to_csv(output_csv, index=False)\n",
    "\n",
    "print(f\"File saved to {output_csv}\")\n"
   ]
  },
  {
   "cell_type": "code",
   "execution_count": null,
   "id": "0b81a703",
   "metadata": {},
   "outputs": [],
   "source": []
  }
 ],
 "metadata": {
  "kernelspec": {
   "display_name": "Python 3 (ipykernel)",
   "language": "python",
   "name": "python3"
  },
  "language_info": {
   "codemirror_mode": {
    "name": "ipython",
    "version": 3
   },
   "file_extension": ".py",
   "mimetype": "text/x-python",
   "name": "python",
   "nbconvert_exporter": "python",
   "pygments_lexer": "ipython3",
   "version": "3.11.7"
  }
 },
 "nbformat": 4,
 "nbformat_minor": 5
}
