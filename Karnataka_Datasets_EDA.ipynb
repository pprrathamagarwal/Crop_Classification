{
 "cells": [
  {
   "cell_type": "code",
   "execution_count": null,
   "id": "357335a4",
   "metadata": {},
   "outputs": [],
   "source": [
    "import numpy as np\n",
    "import pandas as pd\n",
    "import matplotlib.pyplot as plt\n",
    "import re"
   ]
  },
  {
   "cell_type": "markdown",
   "id": "76c6b55f",
   "metadata": {},
   "source": [
    "# Total Number of Crops in Karnataka Dataset"
   ]
  },
  {
   "cell_type": "code",
   "execution_count": 4,
   "id": "69e383c9",
   "metadata": {},
   "outputs": [
    {
     "name": "stdout",
     "output_type": "stream",
     "text": [
      "Number of rows: 138844\n"
     ]
    }
   ],
   "source": [
    "# Load the CSV file\n",
    "df = pd.read_csv('Karnataka_Datasets/Karnataka_Dataset_Across_Regions.csv')  \n",
    "\n",
    "# Get the number of rows\n",
    "num_rows = len(df)\n",
    "\n",
    "print(f\"Number of rows: {num_rows}\")"
   ]
  },
  {
   "cell_type": "code",
   "execution_count": 5,
   "id": "9a2d42e4",
   "metadata": {},
   "outputs": [
    {
     "name": "stdout",
     "output_type": "stream",
     "text": [
      "  Crop_Name   Latitude  Longitude                       geometry       Name\n",
      "0     Maize  12.807360  77.778923  POINT (77.7789226 12.8073603)  Bangalore\n",
      "1     Maize  12.807363  77.778851  POINT (77.7788514 12.8073629)  Bangalore\n",
      "2      Rose  12.742121  77.748108  POINT (77.7481075 12.7421209)  Bangalore\n",
      "3      Rose  12.742126  77.748096  POINT (77.7480963 12.7421264)  Bangalore\n",
      "4      Rose  12.733953  77.745245   POINT (77.745245 12.7339533)  Bangalore\n"
     ]
    }
   ],
   "source": [
    "print(df.head())"
   ]
  },
  {
   "cell_type": "markdown",
   "id": "bf2c865e",
   "metadata": {},
   "source": [
    "# Total Number of Crops Per District in Karnataka Dataset"
   ]
  },
  {
   "cell_type": "code",
   "execution_count": 6,
   "id": "ea4cacfe",
   "metadata": {},
   "outputs": [
    {
     "name": "stdout",
     "output_type": "stream",
     "text": [
      "Name\n",
      "Bangalore          127111\n",
      "Bangalore Rural      8590\n",
      "Krishnagiri          2654\n",
      "Ramanagara            489\n",
      "Name: count, dtype: int64\n"
     ]
    }
   ],
   "source": [
    "# Count the number of occurrences for each unique value in the 'Name' column\n",
    "name_counts = df['Name'].value_counts()\n",
    "\n",
    "print(name_counts)"
   ]
  },
  {
   "cell_type": "markdown",
   "id": "2757c95f",
   "metadata": {},
   "source": [
    "# Count of Each Crop"
   ]
  },
  {
   "cell_type": "code",
   "execution_count": 7,
   "id": "4de02087",
   "metadata": {},
   "outputs": [
    {
     "name": "stdout",
     "output_type": "stream",
     "text": [
      "Ragi: 61396\n",
      "Eucalyptus: 24819\n",
      "Coconut: 9886\n",
      "Rose: 8362\n",
      "Mangoes: 5770\n",
      "Arecanut: 4927\n",
      "Avare: 4385\n",
      "Jowar: 4305\n",
      "Maize: 4086\n",
      "Guava: 2919\n",
      "Redgram: 2579\n",
      "Sapota: 1501\n",
      "Grapes: 1401\n",
      "Banana: 1390\n",
      "Paddy: 745\n",
      "Lemon: 102\n",
      "Potato: 95\n",
      "Onion: 88\n",
      "Black Pepper: 39\n",
      "Sugarcane: 26\n",
      "Bajra: 23\n"
     ]
    }
   ],
   "source": [
    "# Count each unique Crop_Name\n",
    "crop_counts = df['Crop_Name'].value_counts()\n",
    "\n",
    "# Print all Crop_Name values and their counts without truncation\n",
    "for crop, count in crop_counts.items():\n",
    "    print(f\"{crop}: {count}\")\n"
   ]
  },
  {
   "cell_type": "code",
   "execution_count": 9,
   "id": "ea2130d7",
   "metadata": {},
   "outputs": [
    {
     "name": "stdout",
     "output_type": "stream",
     "text": [
      "Crops in Bangalore:\n",
      "  Arecanut: 4793\n",
      "  Avare: 4136\n",
      "  Bajra: 23\n",
      "  Banana: 1311\n",
      "  Black Pepper: 21\n",
      "  Coconut: 9619\n",
      "  Eucalyptus: 22189\n",
      "  Grapes: 1188\n",
      "  Guava: 2703\n",
      "  Jowar: 3938\n",
      "  Lemon: 97\n",
      "  Maize: 3822\n",
      "  Mangoes: 5513\n",
      "  Onion: 88\n",
      "  Paddy: 665\n",
      "  Potato: 90\n",
      "  Ragi: 55617\n",
      "  Redgram: 2361\n",
      "  Rose: 7485\n",
      "  Sapota: 1427\n",
      "  Sugarcane: 25\n",
      "\n",
      "Crops in Bangalore Rural:\n",
      "  Arecanut: 128\n",
      "  Avare: 134\n",
      "  Banana: 68\n",
      "  Black Pepper: 18\n",
      "  Coconut: 223\n",
      "  Eucalyptus: 1522\n",
      "  Grapes: 210\n",
      "  Guava: 194\n",
      "  Jowar: 316\n",
      "  Lemon: 5\n",
      "  Maize: 187\n",
      "  Mangoes: 235\n",
      "  Paddy: 80\n",
      "  Potato: 5\n",
      "  Ragi: 4468\n",
      "  Redgram: 124\n",
      "  Rose: 605\n",
      "  Sapota: 67\n",
      "  Sugarcane: 1\n",
      "\n",
      "Crops in Krishnagiri:\n",
      "  Avare: 115\n",
      "  Banana: 8\n",
      "  Coconut: 8\n",
      "  Eucalyptus: 1104\n",
      "  Grapes: 3\n",
      "  Guava: 22\n",
      "  Jowar: 35\n",
      "  Maize: 72\n",
      "  Mangoes: 16\n",
      "  Ragi: 947\n",
      "  Redgram: 52\n",
      "  Rose: 269\n",
      "  Sapota: 3\n",
      "\n",
      "Crops in Ramanagara:\n",
      "  Arecanut: 6\n",
      "  Banana: 3\n",
      "  Coconut: 36\n",
      "  Eucalyptus: 4\n",
      "  Jowar: 16\n",
      "  Maize: 5\n",
      "  Mangoes: 6\n",
      "  Ragi: 364\n",
      "  Redgram: 42\n",
      "  Rose: 3\n",
      "  Sapota: 4\n",
      "\n"
     ]
    }
   ],
   "source": [
    "# Group by district and crop, then count\n",
    "grouped = df.groupby(['Name', 'Crop_Name']).size().reset_index(name='Count')\n",
    "\n",
    "# Loop through each district and print the crop counts\n",
    "for district in grouped['Name'].unique():\n",
    "    print(f\"Crops in {district}:\")\n",
    "    district_data = grouped[grouped['Name'] == district]\n",
    "    for _, row in district_data.iterrows():\n",
    "        print(f\"  {row['Crop_Name']}: {row['Count']}\")\n",
    "    print()  # Empty line for separation"
   ]
  },
  {
   "cell_type": "markdown",
   "id": "aa99a4c3",
   "metadata": {},
   "source": [
    "# Plotting The Karnataka Dataset"
   ]
  },
  {
   "cell_type": "code",
   "execution_count": null,
   "id": "4e5e1775",
   "metadata": {},
   "outputs": [],
   "source": [
    "'''\n",
    "import pandas as pd\n",
    "import geopandas as gpd\n",
    "from shapely.geometry import Point\n",
    "import matplotlib.pyplot as plt\n",
    "\n",
    "# Load CSV\n",
    "df = pd.read_csv(\"Karnataka_Datasets/Across/Karnataka_Dataset_Across_Regions.csv\")  # Replace with actual file path\n",
    "\n",
    "# Drop rows with missing data\n",
    "df = df.dropna(subset=['Latitude', 'Longitude', 'Crop_Name'])\n",
    "\n",
    "# Create Point geometry\n",
    "geometry = [Point(xy) for xy in zip(df['Longitude'], df['Latitude'])]\n",
    "gdf = gpd.GeoDataFrame(df, geometry=geometry)\n",
    "gdf.set_crs(epsg=4326, inplace=True)\n",
    "\n",
    "# Interactive plot using explore (uses Folium under the hood)\n",
    "# Color by Crop_Name, set marker size and legend\n",
    "gdf.explore(\n",
    "    column='Crop_Name',\n",
    "    categorical=True,\n",
    "    legend=True,\n",
    "    marker_kwds={'radius': 5, 'fillOpacity': 0.8},\n",
    "    tooltip=['Crop_Name']\n",
    ")\n",
    "\n",
    "'''\n"
   ]
  },
  {
   "cell_type": "code",
   "execution_count": 11,
   "id": "bcdb2cb2",
   "metadata": {},
   "outputs": [
    {
     "name": "stdout",
     "output_type": "stream",
     "text": [
      "   Number of Missing Timestamps  Max of Continuous Missing Timestamps\n",
      "0                            21                                     8\n",
      "1                            21                                     8\n",
      "2                            29                                    23\n",
      "3                            29                                    23\n",
      "4                            29                                    23\n"
     ]
    }
   ],
   "source": [
    "import pandas as pd\n",
    "import numpy as np\n",
    "from itertools import groupby\n",
    "\n",
    "# Load your CSV\n",
    "df = pd.read_csv('Karnataka_Datasets/Across/S2/Merged_Karnataka_S2_Kharif.csv')\n",
    "\n",
    "# Identify NDVI columns\n",
    "ndvi_columns = [f'NDVI_{i}' for i in range(1, 74)]\n",
    "\n",
    "# Ensure these columns exist in the DataFrame\n",
    "ndvi_columns = [col for col in ndvi_columns if col in df.columns]\n",
    "\n",
    "# Function to count max consecutive NaNs\n",
    "def max_consecutive_nans(row):\n",
    "    is_nan = row.isna()\n",
    "    return max((sum(1 for _ in group) for val, group in groupby(is_nan) if val), default=0)\n",
    "\n",
    "# Count total NaNs per row\n",
    "df['Number of Missing Timestamps'] = df[ndvi_columns].isna().sum(axis=1)\n",
    "\n",
    "# Count max consecutive NaNs per row\n",
    "df['Max of Continuous Missing Timestamps'] = df[ndvi_columns].apply(max_consecutive_nans, axis=1)\n",
    "\n",
    "# Preview result\n",
    "print(df[['Number of Missing Timestamps', 'Max of Continuous Missing Timestamps']].head())\n",
    "df.to_csv('Karnataka_Datasets/Across/S2/Merged_Karnataka_S2_Kharif_With_NaN_Data.csv')"
   ]
  },
  {
   "cell_type": "code",
   "execution_count": 12,
   "id": "619f3bbb",
   "metadata": {},
   "outputs": [
    {
     "data": {
      "image/png": "[encoded data removed]",
      "text/plain": [
       "<Figure size 1000x500 with 1 Axes>"
      ]
     },
     "metadata": {},
     "output_type": "display_data"
    },
    {
     "data": {
      "image/png": "[encoded data removed]",
      "text/plain": [
       "<Figure size 1000x500 with 1 Axes>"
      ]
     },
     "metadata": {},
     "output_type": "display_data"
    }
   ],
   "source": [
    "import pandas as pd\n",
    "import matplotlib.pyplot as plt\n",
    "\n",
    "# Load the file\n",
    "df = pd.read_csv('Karnataka_Datasets/Across/S2/Merged_Karnataka_S2_Kharif_With_NaN_Data.csv')\n",
    "\n",
    "# Plot histogram for 'Number of Missing Timestamps'\n",
    "plt.figure(figsize=(10, 5))\n",
    "plt.hist(df['Number of Missing Timestamps'], bins=30, color='skyblue', edgecolor='black')\n",
    "plt.title('Histogram of Number of Missing Timestamps')\n",
    "plt.xlabel('Number of Missing Timestamps')\n",
    "plt.ylabel('Frequency')\n",
    "plt.grid(True)\n",
    "plt.tight_layout()\n",
    "plt.show()\n",
    "\n",
    "# Plot histogram for 'Max of Continuous Missing Timestamps'\n",
    "plt.figure(figsize=(10, 5))\n",
    "plt.hist(df['Max of Continuous Missing Timestamps'], bins=30, color='salmon', edgecolor='black')\n",
    "plt.title('Histogram of Max Continuous Missing Timestamps')\n",
    "plt.xlabel('Max of Continuous Missing Timestamps')\n",
    "plt.ylabel('Frequency')\n",
    "plt.grid(True)\n",
    "plt.tight_layout()\n",
    "plt.show()\n"
   ]
  },
  {
   "cell_type": "code",
   "execution_count": null,
   "id": "da186c60",
   "metadata": {},
   "outputs": [],
   "source": []
  }
 ],
 "metadata": {
  "kernelspec": {
   "display_name": "Python 3 (ipykernel)",
   "language": "python",
   "name": "python3"
  },
  "language_info": {
   "codemirror_mode": {
    "name": "ipython",
    "version": 3
   },
   "file_extension": ".py",
   "mimetype": "text/x-python",
   "name": "python",
   "nbconvert_exporter": "python",
   "pygments_lexer": "ipython3",
   "version": "3.11.7"
  }
 },
 "nbformat": 4,
 "nbformat_minor": 5
}
