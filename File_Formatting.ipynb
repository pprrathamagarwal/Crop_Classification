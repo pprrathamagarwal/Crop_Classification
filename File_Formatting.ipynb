{
 "cells": [
  {
   "cell_type": "code",
   "execution_count": 1,
   "id": "d590b635",
   "metadata": {},
   "outputs": [],
   "source": [
    "import pandas as pd\n",
    "import numpy as np\n",
    "from shapely.geometry import Point\n",
    "import geopandas as gpd\n",
    "from sklearn.model_selection import train_test_split"
   ]
  },
  {
   "cell_type": "markdown",
   "id": "383b52d6",
   "metadata": {},
   "source": [
    "# Remove Duplicates"
   ]
  },
  {
   "cell_type": "code",
   "execution_count": 4,
   "id": "5c3705da",
   "metadata": {},
   "outputs": [
    {
     "name": "stdout",
     "output_type": "stream",
     "text": [
      "Duplicate rows removed and file updated successfully.\n"
     ]
    }
   ],
   "source": [
    "# Load the CSV file\n",
    "file_path = \"Karnataka_Datasets/Ramanagara/Ramanagara.csv\"  # Replace with your actual file path\n",
    "df = pd.read_csv(file_path)\n",
    "\n",
    "# Remove duplicate rows\n",
    "df = df.drop_duplicates()\n",
    "\n",
    "# Save it back to the same file\n",
    "df.to_csv(file_path, index=False)\n",
    "\n",
    "print(\"Duplicate rows removed and file updated successfully.\")"
   ]
  },
  {
   "cell_type": "markdown",
   "id": "2e7727fa",
   "metadata": {},
   "source": [
    "# Mapping Points to Districts"
   ]
  },
  {
   "cell_type": "code",
   "execution_count": 6,
   "id": "0f296d7b",
   "metadata": {},
   "outputs": [],
   "source": [
    "districts = gpd.read_file(\"Karnataka_Datasets/Indian_districts_boundary.shp\")"
   ]
  },
  {
   "cell_type": "code",
   "execution_count": 8,
   "id": "13fd7f10",
   "metadata": {},
   "outputs": [
    {
     "name": "stdout",
     "output_type": "stream",
     "text": [
      "Spatial join completed. Output saved to 'output_with_districts.csv'.\n"
     ]
    }
   ],
   "source": [
    "# Step 2: Load the CSV file (latitude and longitude points)\n",
    "points_df = pd.read_csv(\"Karnataka_Datasets/Crops_Karnataka.csv\")\n",
    "\n",
    "# Ensure the CSV contains 'latitude' and 'longitude' columns\n",
    "if not {'latitude', 'longitude'}.issubset(points_df.columns):\n",
    "    raise ValueError(\"CSV must contain 'latitude' and 'longitude' columns.\")\n",
    "\n",
    "# Step 3: Convert points to a GeoDataFrame\n",
    "geometry = [Point(xy) for xy in zip(points_df['longitude'], points_df['latitude'])]\n",
    "points_gdf = gpd.GeoDataFrame(points_df, geometry=geometry, crs=districts.crs)\n",
    "\n",
    "# Step 4: Perform spatial join to find districts for each point\n",
    "result = gpd.sjoin(points_gdf, districts, how=\"left\", predicate=\"intersects\")\n",
    "\n",
    "# Step 5: Save the result to a new CSV\n",
    "result.to_csv(\"Karnataka_Datasets/Crops_Karnataka_With_Districts.csv\", index=False)\n",
    "\n",
    "print(\"Spatial join completed. Output saved to 'output_with_districts.csv'.\")"
   ]
  },
  {
   "cell_type": "markdown",
   "id": "66b5bc72",
   "metadata": {},
   "source": [
    "# Removing Unnecessary Columns"
   ]
  },
  {
   "cell_type": "code",
   "execution_count": 11,
   "id": "63c39cbf",
   "metadata": {},
   "outputs": [
    {
     "name": "stdout",
     "output_type": "stream",
     "text": [
      "Unnecessary columns removed and file updated successfully.\n"
     ]
    }
   ],
   "source": [
    "import pandas as pd\n",
    "\n",
    "# Load the CSV file\n",
    "file_path = \"Karnataka_Datasets/Crops_Karnataka_With_Districts.csv\"  # Replace with your actual file path\n",
    "df = pd.read_csv(file_path)\n",
    "\n",
    "# List of columns to remove\n",
    "columns_to_remove = [\"CropSurveyDate\",\"Crop_Extent\",\"District_Name\",\"District_code\",\n",
    "                     \"Hobli_Name\",\"Hobli_code\",\"Image_url\",\"Month\",\"Season\",\"Season_code\",\"Survey_id\",\n",
    "                     \"Taluk_Name\",\"Taluk_code\",\"Village_Name\",\"Village_code\",\"Weekname\",\"Year_code\",\"Years\",\n",
    "                     \"index_right\",\"snippet\",\"visibility\",\"extrude\",\"descriptio\",\"tessellate\",\"drawOrder\",\"icon\",\"end\",\"begin\",\n",
    "                     \"altitudeMo\",\"timestamp\"\n",
    "]  # Replace with actual column names\n",
    "\n",
    "# Drop the columns if they exist\n",
    "df = df.drop(columns=[col for col in columns_to_remove if col in df.columns])\n",
    "\n",
    "# Save it back to the same file\n",
    "df.to_csv(file_path, index=False)\n",
    "\n",
    "print(\"Unnecessary columns removed and file updated successfully.\")\n"
   ]
  },
  {
   "cell_type": "markdown",
   "id": "b72f8419",
   "metadata": {},
   "source": [
    "# Print Count Of Each District"
   ]
  },
  {
   "cell_type": "code",
   "execution_count": 12,
   "id": "ea26c599",
   "metadata": {},
   "outputs": [
    {
     "name": "stdout",
     "output_type": "stream",
     "text": [
      "Name\n",
      "Bangalore          281908\n",
      "Bangalore Rural     19022\n",
      "Krishnagiri          5693\n",
      "Ramanagara            876\n",
      "Name: count, dtype: int64\n"
     ]
    }
   ],
   "source": [
    "\n",
    "# Load the CSV file\n",
    "file_path = \"Karnataka_Datasets/Crops_Karnataka_With_Districts.csv\"  # Replace with your actual file path\n",
    "df = pd.read_csv(file_path)\n",
    "\n",
    "# Count occurrences of each unique value in the \"Name\" column\n",
    "name_counts = df[\"Name\"].value_counts()\n",
    "\n",
    "# Print the counts\n",
    "print(name_counts)\n"
   ]
  },
  {
   "cell_type": "markdown",
   "id": "f25f0ac7",
   "metadata": {},
   "source": [
    "# Filter Out Bangalore"
   ]
  },
  {
   "cell_type": "code",
   "execution_count": 14,
   "id": "0d44b087",
   "metadata": {},
   "outputs": [
    {
     "name": "stdout",
     "output_type": "stream",
     "text": [
      "Rows with Name = 'Bangalore' have saved to 'Karnataka_Datasets/Crops_Karnataka_Bangalore.csv'.\n"
     ]
    }
   ],
   "source": [
    "import pandas as pd\n",
    "\n",
    "# Load the CSV file\n",
    "file_path = \"Karnataka_Datasets/Crops_Karnataka_With_Districts.csv\"  # Replace with your actual file path\n",
    "output_file = \"Karnataka_Datasets/Crops_Karnataka_Bangalore.csv\"  # Specify the new file name\n",
    "\n",
    "df = pd.read_csv(file_path)\n",
    "\n",
    "# Filter out rows where Name is \"Bangalore\"\n",
    "df = df[df[\"Name\"] == \"Bangalore\"]\n",
    "\n",
    "# Save it to a different file\n",
    "df.to_csv(output_file, index=False)\n",
    "\n",
    "print(f\"Rows with Name = 'Bangalore' have saved to '{output_file}'.\")\n"
   ]
  },
  {
   "cell_type": "markdown",
   "id": "43f70476",
   "metadata": {},
   "source": [
    "# Keep A Count of Each Cropname"
   ]
  },
  {
   "cell_type": "code",
   "execution_count": 56,
   "id": "26bdc28a",
   "metadata": {},
   "outputs": [
    {
     "name": "stdout",
     "output_type": "stream",
     "text": [
      "height\n",
      "Long      10909\n",
      "Low       10902\n",
      "Medium     8434\n",
      "Name: count, dtype: int64\n"
     ]
    }
   ],
   "source": [
    "\n",
    "# Load the CSV file\n",
    "file_path = \"Karnataka_Datasets/Bangalore/Sample/SAR_Data_Bangalore_With_Height.csv\"  # Replace with your actual file path\n",
    "df = pd.read_csv(file_path)\n",
    "\n",
    "# Count occurrences of each unique value in the \"Name\" column\n",
    "name_counts = df[\"height\"].value_counts()\n",
    "\n",
    "# Print the counts\n",
    "print(name_counts)\n"
   ]
  },
  {
   "cell_type": "markdown",
   "id": "56e57c28",
   "metadata": {},
   "source": [
    "# Keep Selective Crops"
   ]
  },
  {
   "cell_type": "code",
   "execution_count": 35,
   "id": "f6099e65",
   "metadata": {},
   "outputs": [
    {
     "name": "stdout",
     "output_type": "stream",
     "text": [
      "Processing complete! Saved as 'processed_crops.csv'.\n"
     ]
    }
   ],
   "source": [
    "import pandas as pd\n",
    "\n",
    "# Load CSV file\n",
    "file_path = \"Karnataka_Datasets/Bangalore/Crops_Karnataka_Bangalore.csv\"  # Replace with actual file path\n",
    "df = pd.read_csv(file_path)\n",
    "# Define the exact crop mapping based on your specifications\n",
    "crop_mapping = {\n",
    "    \"Tur (Arhar) (Red Gram)\": \"Redgram\",\n",
    "    \"Maize-H\": \"Maize\",\n",
    "    \"Maize-L\": \"Maize\",\n",
    "    \"Paddy\": \"Paddy\",\n",
    "    \"Bajra\": \"Bajra\",\n",
    "    \"Ragi\": \"Ragi\",\n",
    "    \"Jowar\": \"Jowar\",\n",
    "    \"Coconut\": \"Coconut\",\n",
    "    \"Arecanut\": \"Arecanut\",\n",
    "    \"Banana\": \"Banana\",\n",
    "    \"Potato\": \"Potato\",\n",
    "    \"Wheat\": \"Wheat\"\n",
    "}\n",
    "\n",
    "# Define the duration categories\n",
    "crop_durations = {\n",
    "    \"Ragi\": \"Low\",\n",
    "    \"Jowar\": \"Medium\",\n",
    "    \"Maize\": \"Medium\",\n",
    "    \"Coconut\": \"Long\",\n",
    "    \"Redgram\": \"Low\",\n",
    "    \"Arecanut\": \"Long\",\n",
    "    \"Banana\": \"Long\",\n",
    "    \"Paddy\": \"Medium\",\n",
    "    \"Potato\": \"Low\",\n",
    "    \"Bajra\": \"Low\",\n",
    "    \"Wheat\": \"Medium\"\n",
    "}\n",
    "\n",
    "# Function to clean crop names\n",
    "def clean_crop_name(crop_name):\n",
    "    # Remove text inside parentheses\n",
    "    crop_name = re.sub(r\"\\(.*?\\)\", \"\", crop_name).strip()\n",
    "    \n",
    "    # Convert 'Crop-H' or 'Crop-L' to 'Crop'\n",
    "    crop_name = re.sub(r\"-[HhLl]$\", \"\", crop_name)\n",
    "    \n",
    "    # Standardize names based on dictionary\n",
    "    return crop_mapping.get(crop_name, None)\n",
    "\n",
    "# Apply cleaning and filtering\n",
    "df[\"Cleaned_Crop\"] = df[\"Cropname\"].apply(clean_crop_name)\n",
    "\n",
    "# Drop rows where crops are not in the mapping\n",
    "df = df.dropna(subset=[\"Cleaned_Crop\"])\n",
    "\n",
    "# Add duration column\n",
    "df[\"Duration\"] = df[\"Cleaned_Crop\"].map(crop_durations)\n",
    "\n",
    "# Save the cleaned file\n",
    "df.to_csv(\"Karnataka_Datasets/Bangalore/Crops_Karnataka_Bangalore_Filtered.csv\", index=False)\n",
    "\n",
    "print(\"Processing complete! Saved as 'processed_crops.csv'.\")\n"
   ]
  },
  {
   "cell_type": "markdown",
   "id": "68f31015",
   "metadata": {},
   "source": [
    "# Get A Count of Each Duration Type"
   ]
  },
  {
   "cell_type": "code",
   "execution_count": 13,
   "id": "3284ed68",
   "metadata": {},
   "outputs": [
    {
     "name": "stdout",
     "output_type": "stream",
     "text": [
      "duration_numeric\n",
      "1    9259\n",
      "3    5944\n",
      "2    5228\n",
      "Name: count, dtype: int64\n"
     ]
    }
   ],
   "source": [
    "\n",
    "# Load the CSV file\n",
    "file_path = \"Karnataka_Datasets/District_Data_NDVI_5Day/Merged/Karnataka_Scaled_Normalized_Mapped.csv\"  # Replace with your actual file path\n",
    "df = pd.read_csv(file_path)\n",
    "\n",
    "# Count occurrences of each unique value in the \"Name\" column\n",
    "name_counts = df[\"duration_numeric\"].value_counts()\n",
    "\n",
    "# Print the counts\n",
    "print(name_counts)\n"
   ]
  },
  {
   "cell_type": "markdown",
   "id": "5e18aa25",
   "metadata": {},
   "source": [
    "# Sample Random Points"
   ]
  },
  {
   "cell_type": "code",
   "execution_count": 39,
   "id": "66396646",
   "metadata": {},
   "outputs": [
    {
     "name": "stdout",
     "output_type": "stream",
     "text": [
      "Balanced dataset saved to 'Karnataka_Datasets/Bangalore/Crops_Karnataka_Bangalore_Sampled_On_Duration.csv' with improved distribution.\n"
     ]
    }
   ],
   "source": [
    "\n",
    "# Load the filtered crops dataset\n",
    "input_file = \"Karnataka_Datasets/Bangalore/Crops_Karnataka_Bangalore_Filtered.csv\"  # Use the previously generated file\n",
    "output_file = \"Karnataka_Datasets/Bangalore/Crops_Karnataka_Bangalore_Sampled_On_Duration.csv\"  # New file to save the sampled data\n",
    "\n",
    "df = pd.read_csv(input_file)\n",
    "\n",
    "# Separate by Duration\n",
    "df_low = df[df[\"Duration\"] == \"Low\"]\n",
    "df_medium = df[df[\"Duration\"] == \"Medium\"]\n",
    "df_long = df[df[\"Duration\"] == \"Long\"]\n",
    "\n",
    "# Get unique low-duration crop counts\n",
    "low_crop_counts = df_low[\"Cropname\"].value_counts()\n",
    "\n",
    "# Define sample size for Low crops\n",
    "target_low_samples = 11000\n",
    "\n",
    "# Step 1: Take all samples from small \"Low\" crops first (excluding Ragi)\n",
    "small_low_crops = [\"Bajra\", \"Potato\", \"Redgram\"]  # Prioritized small crops\n",
    "selected_low = []\n",
    "remaining_samples = target_low_samples\n",
    "\n",
    "for crop in small_low_crops:\n",
    "    if crop in low_crop_counts:\n",
    "        crop_data = df_low[df_low[\"Cropname\"] == crop]\n",
    "        selected_low.append(crop_data)\n",
    "        remaining_samples -= len(crop_data)\n",
    "\n",
    "# Step 2: If space remains, sample proportionally from other Low crops (except Ragi)\n",
    "other_low_crops = df_low[~df_low[\"Cropname\"].isin([\"Ragi\"] + small_low_crops)]\n",
    "if remaining_samples > 0 and not other_low_crops.empty:\n",
    "    sampled_other = other_low_crops.sample(n=min(remaining_samples, len(other_low_crops)), random_state=42)\n",
    "    selected_low.append(sampled_other)\n",
    "    remaining_samples -= len(sampled_other)\n",
    "\n",
    "# Step 3: If space is still left, add Ragi to reach 11,000\n",
    "if remaining_samples > 0:\n",
    "    ragi_sample = df_low[df_low[\"Cropname\"] == \"Ragi\"].sample(n=remaining_samples, random_state=42)\n",
    "    selected_low.append(ragi_sample)\n",
    "\n",
    "# Merge selected low-duration crops\n",
    "df_low_sampled = pd.concat(selected_low, ignore_index=True)\n",
    "\n",
    "# Combine all durations together\n",
    "df_final = pd.concat([df_low_sampled, df_medium, df_long], ignore_index=True)\n",
    "\n",
    "# Save the final balanced dataset\n",
    "df_final.to_csv(output_file, index=False)\n",
    "\n",
    "print(f\"Balanced dataset saved to '{output_file}' with improved distribution.\")"
   ]
  },
  {
   "cell_type": "markdown",
   "id": "b0d1b0ae",
   "metadata": {},
   "source": [
    "# FLATTEN SAR DATA"
   ]
  },
  {
   "cell_type": "code",
   "execution_count": 26,
   "id": "e44ae601",
   "metadata": {},
   "outputs": [
    {
     "name": "stdout",
     "output_type": "stream",
     "text": [
      "Processing complete. Saved as 'processed_data.csv'.\n"
     ]
    }
   ],
   "source": [
    "# Load the CSV file\n",
    "df = pd.read_csv(\"Karnataka_Datasets/District_Data_NDVI_5Day/Bangalore_SAR.csv\")\n",
    "\n",
    "# Drop the 'date' column\n",
    "df = df.drop(columns=[\"date\"])\n",
    "\n",
    "# Group by (latitude, longitude)\n",
    "\n",
    "# Flatten VV and VH with dynamic column names\n",
    "flattened_data = []\n",
    "for (lat, lon), group in grouped.iterrows():\n",
    "    new_row = {\"latitude\": lat, \"longitude\": lon, \"Crop_Name\": group[\"Crop_Name\"][0]}\n",
    "    \n",
    "    for i, vv in enumerate(group[\"VV\"]):\n",
    "        new_row[f\"VV_{i}\"] = vv\n",
    "    \n",
    "    for i, vh in enumerate(group[\"VH\"]):\n",
    "        new_row[f\"VH_{i}\"] = vh\n",
    "\n",
    "    flattened_data.append(new_row)\n",
    "\n",
    "# Convert to DataFrame\n",
    "flattened_df = pd.DataFrame(flattened_data)\n",
    "\n",
    "# Save the cleaned file\n",
    "flattened_df.to_csv(\"Karnataka_Datasets/District_Data_NDVI_5Day/Bangalore_SAR_flattened.csv\", index=False)\n",
    "\n",
    "print(\"Processing complete. Saved as 'processed_data.csv'.\")\n"
   ]
  },
  {
   "cell_type": "markdown",
   "id": "9d9dabbd",
   "metadata": {},
   "source": [
    "# PROCESSING SAR FILE"
   ]
  },
  {
   "cell_type": "code",
   "execution_count": 27,
   "id": "e21fba0f",
   "metadata": {},
   "outputs": [
    {
     "name": "stdout",
     "output_type": "stream",
     "text": [
      "Processing complete. Saved as 'cleaned_data.csv'.\n"
     ]
    }
   ],
   "source": [
    "\n",
    "# Load the CSV file\n",
    "df = pd.read_csv(\"Karnataka_Datasets/District_Data_NDVI_5Day/Bangalore_SAR_flattened.csv\")\n",
    "\n",
    "# Drop 'Pass_Direction' if it exists\n",
    "if \"Pass_Direction\" in df.columns:\n",
    "    df = df.drop(columns=[\"Pass_Direction\"], errors=ignore)\n",
    "\n",
    "# Drop all columns where the name matches \"n_VV\" or \"n_VH\" with n >= 15\n",
    "columns_to_drop = [col for col in df.columns if any(col.endswith(f\"_{n}\") for n in range(15, 1000))]\n",
    "\n",
    "df = df.drop(columns=columns_to_drop, errors=\"ignore\")\n",
    "\n",
    "# Save the cleaned file\n",
    "df.to_csv(\"Karnataka_Datasets/District_Data_NDVI_5Day/Bangalore_SAR_flattened.csv\", index=False)\n",
    "\n",
    "print(\"Processing complete. Saved as 'cleaned_data.csv'.\")\n"
   ]
  },
  {
   "cell_type": "markdown",
   "id": "2d2ebd8a",
   "metadata": {},
   "source": [
    "# Mapping to Numeric Values"
   ]
  },
  {
   "cell_type": "code",
   "execution_count": 9,
   "id": "3401ec35",
   "metadata": {},
   "outputs": [
    {
     "name": "stdout",
     "output_type": "stream",
     "text": [
      "CSV file updated successfully!\n"
     ]
    }
   ],
   "source": [
    "import pandas as pd\n",
    "\n",
    "# Load the CSV file\n",
    "file_path = \"Karnataka_Datasets/Bangalore/SAR_With_Height_And_Duration.csv\"  # Change this to your actual file path\n",
    "df = pd.read_csv(file_path)\n",
    "\n",
    "# Mapping dictionary\n",
    "mapping = {'low': 1, 'medium': 2, 'high': 3}\n",
    "\n",
    "# Apply mapping to create numeric columns\n",
    "df['height_numeric'] = df['Height'].map(mapping)\n",
    "df['duration_numeric'] = df['Duration'].map(mapping)\n",
    "\n",
    "# Save the updated DataFrame back to the CSV file\n",
    "df.to_csv(file_path, index=False)\n",
    "\n",
    "print(\"CSV file updated successfully!\")\n"
   ]
  },
  {
   "cell_type": "markdown",
   "id": "91500386",
   "metadata": {},
   "source": [
    "# REMOVING SAME SAR SERIES"
   ]
  },
  {
   "cell_type": "code",
   "execution_count": 7,
   "id": "da9af56e",
   "metadata": {},
   "outputs": [
    {
     "name": "stdout",
     "output_type": "stream",
     "text": [
      "Rows before: 21144, Rows after: 21144, Removed: 0\n"
     ]
    }
   ],
   "source": [
    "import pandas as pd\n",
    "\n",
    "# Load the CSV file\n",
    "df = pd.read_csv(\"Katihar/Katihar_SAR.csv\")\n",
    "\n",
    "# Select only VV_0...VV_14 and VH_0...VH_14 columns\n",
    "feature_cols = [col for col in df.columns if col.startswith(\"VV_\") or col.startswith(\"VH_\")]\n",
    "\n",
    "# Drop duplicate rows based on these feature columns\n",
    "df_unique = df.drop_duplicates(subset=feature_cols, keep=\"first\")\n",
    "\n",
    "# Save the filtered dataset\n",
    "df_unique.to_csv(\"Katihar/Katihar_SAR.csv\", index=False)\n",
    "\n",
    "# Print the number of rows removed\n",
    "print(f\"Rows before: {len(df)}, Rows after: {len(df_unique)}, Removed: {len(df) - len(df_unique)}\")\n"
   ]
  },
  {
   "cell_type": "code",
   "execution_count": 12,
   "id": "fbca174e",
   "metadata": {},
   "outputs": [
    {
     "name": "stdout",
     "output_type": "stream",
     "text": [
      "Rows before: 17134, Rows after: 15511, Removed: 1623\n"
     ]
    }
   ],
   "source": [
    "import pandas as pd\n",
    "\n",
    "# Load the CSV file\n",
    "df = pd.read_csv(\"Katihar/Katihar_5Day.csv\")\n",
    "\n",
    "# Select only VV_0...VV_14 and VH_0...VH_14 columns\n",
    "feature_cols = [col for col in df.columns if col.startswith(\"NDVI\")]\n",
    "\n",
    "# Drop duplicate rows based on these feature columns\n",
    "df_unique = df.drop_duplicates(subset=feature_cols, keep=\"first\")\n",
    "\n",
    "# Save the filtered dataset\n",
    "df_unique.to_csv(\"Katihar/Katihar_5Day.csv\", index=False)\n",
    "\n",
    "# Print the number of rows removed\n",
    "print(f\"Rows before: {len(df)}, Rows after: {len(df_unique)}, Removed: {len(df) - len(df_unique)}\")\n"
   ]
  },
  {
   "cell_type": "markdown",
   "id": "5eef3c3b",
   "metadata": {},
   "source": [
    "# REMOVING SAME LAT_LONG PAIR"
   ]
  },
  {
   "cell_type": "code",
   "execution_count": 10,
   "id": "122c8bca",
   "metadata": {},
   "outputs": [
    {
     "name": "stdout",
     "output_type": "stream",
     "text": [
      "Duplicate latitude-longitude pairs removed: 38856\n",
      "File updated successfully.\n"
     ]
    }
   ],
   "source": [
    "# Load your CSV file\n",
    "file_path = \"Katihar/Katihar_NDVI.csv\"  # Replace with your actual file path\n",
    "df = pd.read_csv(file_path)\n",
    "\n",
    "# Count the number of rows before removing duplicates\n",
    "initial_count = len(df)\n",
    "\n",
    "# Remove duplicate latitude-longitude pairs (keeping the first occurrence)\n",
    "df_cleaned = df.drop_duplicates(subset=[\"latitude\", \"longitude\"], keep=\"first\")\n",
    "\n",
    "# Count the number of rows after removing duplicates\n",
    "final_count = len(df_cleaned)\n",
    "\n",
    "# Save back to the original file (overwrite)\n",
    "df_cleaned.to_csv(file_path, index=False)\n",
    "\n",
    "# Print debug statement\n",
    "print(f\"Duplicate latitude-longitude pairs removed: {initial_count - final_count}\")\n",
    "print(\"File updated successfully.\")"
   ]
  },
  {
   "cell_type": "markdown",
   "id": "63a79ba6",
   "metadata": {},
   "source": [
    "# Print Uniqe Crop Names"
   ]
  },
  {
   "cell_type": "code",
   "execution_count": 3,
   "id": "bfaa0fc5",
   "metadata": {},
   "outputs": [
    {
     "name": "stdout",
     "output_type": "stream",
     "text": [
      "['Ragi' 'Eucalyptus' 'Maize' 'Coconut' 'Rose' 'HariMirch' 'Eknayaka'\n",
      " 'Chow Chow' 'Beans' 'Ridgegourd' 'Banana' 'Jowar' 'Marigold' 'Gerbera'\n",
      " 'Chrysanthemum' 'Tomato' 'Horsegram' 'Avare' 'Coriander' 'Silver Oak'\n",
      " 'Neem' 'Guava' 'Dahlia' 'Redgram' 'Paddy' 'Trees' 'Elephantfoot_Yam'\n",
      " 'Malabar Neem' 'Sweetcorn' 'Cucumber' 'Potato' 'Carrot' 'Mangoes'\n",
      " 'Makkachari' 'Flower' 'Cabbage' 'Asparagus' 'Teak' 'Drumstick'\n",
      " 'Vegetables' 'Beetroot' 'Cauliflower' 'Mint' 'Methi Leaves' 'Dill' 'Noni'\n",
      " 'Ivygourd' 'Bajra' 'Brinjal' 'Bottlegourd' 'Green Fodder' 'Acacia'\n",
      " 'Arecanut' 'Papaya' 'Chiku' 'Fruits' 'Bhindi' 'Spinach' 'Grapes' 'Fennel'\n",
      " 'Capsicum' 'Bittergourd' 'Mulberry' 'Knolkhol' 'Crossandra' 'Agaves'\n",
      " 'Gladiolus' 'Wheat' 'BlackPepper' 'Groundnut' 'Barley' 'Tuberose' 'Lemon'\n",
      " 'Sugarcane' 'Peas' 'Indigo' 'China Aster' 'LadyFinger' 'Vegetable Cowpea'\n",
      " 'Harimirch' 'Dhavana' 'Tamarind' 'Turmeric' 'Cowpea' 'Dolichuous_Bean'\n",
      " 'Pumpkin' 'Broccoli' 'Sunflower' 'Sweet Corn' 'Rose Wood' 'Baby Corn'\n",
      " 'Ginger' 'Sweet Potato' 'Shimp Nut' 'Snakegourd' 'Pomegranate' 'Jamun'\n",
      " 'Greengram' 'Cashewnuts' 'Saffron' 'Chive' 'Mahagani Tree'\n",
      " 'Casuarina Tree' 'Bluegrapes' 'Jasmine Pubescens' 'Gram'\n",
      " 'Grapes Seedless' 'Ashgourd' 'Nigerseed' 'Jackfruit' 'Sandalwood'\n",
      " 'Linseed' 'Curry Leaves']\n"
     ]
    }
   ],
   "source": [
    "import pandas as pd\n",
    "\n",
    "# Load the CSV file\n",
    "df = pd.read_csv(\"Karnataka_Datasets/District_Data_NDVI_5Day/Merged/Karnataka_Scaled_Normalized.csv\")  # Replace with your actual file path\n",
    "\n",
    "# Print unique Crop_Name values\n",
    "print(df[\"Crop_Name\"].unique())\n"
   ]
  },
  {
   "cell_type": "code",
   "execution_count": 13,
   "id": "4978dd2d",
   "metadata": {},
   "outputs": [
    {
     "name": "stdout",
     "output_type": "stream",
     "text": [
      "✅ New 'Crop_Name' column added, and file saved to Katihar/Katihar_5Day.csv\n"
     ]
    }
   ],
   "source": [
    "import pandas as pd\n",
    "\n",
    "# ✅ Step 1: Load the CSV file\n",
    "input_file = \"Katihar/Katihar_5Day.csv\"  # Replace with the path to your CSV file\n",
    "df = pd.read_csv(input_file)\n",
    "\n",
    "# ✅ Step 2: Define the DN to Crop_Name mapping\n",
    "dn_to_crop = {\n",
    "    1: \"Wheat\",\n",
    "    2: \"Mustard\",\n",
    "    3: \"Lentil\",\n",
    "    4: \"No Crop/Fallow\",\n",
    "    5: \"Green pea\",\n",
    "    6: \"Sugarcane\",\n",
    "    8: \"Garlic\",\n",
    "    9: \"Maize\",\n",
    "    13: \"Gram\",\n",
    "    14: \"Coriander\",\n",
    "    15: \"Potato\",\n",
    "    16: \"Bersem\",\n",
    "    36: \"Rice\"\n",
    "}\n",
    "\n",
    "# ✅ Step 3: Create a new column 'Crop_Name' based on the 'DN' column\n",
    "df['Crop_Name'] = df['DN'].map(dn_to_crop)\n",
    "\n",
    "# ✅ Step 4: Save the updated DataFrame back to the same file\n",
    "df.to_csv(input_file, index=False)\n",
    "print(f\"✅ New 'Crop_Name' column added, and file saved to {input_file}\")\n"
   ]
  },
  {
   "cell_type": "markdown",
   "id": "36178c8b",
   "metadata": {},
   "source": [
    "# Height and Duration Mapping"
   ]
  },
  {
   "cell_type": "code",
   "execution_count": 14,
   "id": "80ade6a7",
   "metadata": {},
   "outputs": [
    {
     "name": "stdout",
     "output_type": "stream",
     "text": [
      "File updated successfully.\n"
     ]
    }
   ],
   "source": [
    "import pandas as pd\n",
    "\n",
    "# Load your CSV file\n",
    "df = pd.read_csv('Katihar/Katihar_5Day.csv')\n",
    "\n",
    "crop_mapping = {\n",
    "    'Bajra': ('Short', 'Low'),\n",
    "    'Banana': ('Tall', 'Long'),\n",
    "    'Coconut': ('Tall', 'Long'),\n",
    "    'Jowar': ('Medium', 'Low'),\n",
    "    'Maize': ('Medium', 'Medium'),\n",
    "    'Paddy': ('Short', 'Medium'),\n",
    "    'Potato': ('Short', 'Medium'),\n",
    "    'Ragi': ('Short', 'Low'),\n",
    "    'Redgram': ('Medium', 'Medium'),\n",
    "    'Wheat': ('Short', 'Low'),\n",
    "    'Eucalyptus': ('Tall', 'Long'),\n",
    "    'Rose': ('Short', 'Medium'),\n",
    "    'HariMirch': ('Short', 'Low'),\n",
    "    'Eknayaka': ('Short', 'Medium'),\n",
    "    'Chow Chow': ('Medium', 'Medium'),\n",
    "    'Beans': ('Short', 'Low'),\n",
    "    'Ridgegourd': ('Medium', 'Medium'),\n",
    "    'Bottlegourd': ('Medium', 'Medium'),\n",
    "    'Marigold': ('Short', 'Medium'),\n",
    "    'Gerbera': ('Short', 'Medium'),\n",
    "    'Chrysanthemum': ('Short', 'Medium'),\n",
    "    'Tomato': ('Short', 'Medium'),\n",
    "    'Horsegram': ('Medium', 'Medium'),\n",
    "    'Avare': ('Medium', 'Medium'),\n",
    "    'Coriander': ('Short', 'Low'),\n",
    "    'Silver Oak': ('Tall', 'Long'),\n",
    "    'Neem': ('Tall', 'Long'),\n",
    "    'Guava': ('Medium', 'Long'),\n",
    "    'Dahlia': ('Short', 'Medium'),\n",
    "    'Trees': ('Tall', 'Long'),\n",
    "    'Elephantfoot_Yam': ('Medium', 'Long'),\n",
    "    'Malabar Neem': ('Tall', 'Long'),\n",
    "    'Sweetcorn': ('Medium', 'Medium'),\n",
    "    'Cucumber': ('Medium', 'Medium'),\n",
    "    'Carrot': ('Short', 'Medium'),\n",
    "    'Mangoes': ('Tall', 'Long'),\n",
    "    'Makkachari': ('Short', 'Low'),\n",
    "    'Flower': ('Short', 'Medium'),\n",
    "    'Cabbage': ('Short', 'Medium'),\n",
    "    'Asparagus': ('Short', 'Medium'),\n",
    "    'Teak': ('Tall', 'Long'),\n",
    "    'Drumstick': ('Medium', 'Long'),\n",
    "    'Vegetables': ('Short', 'Medium'),\n",
    "    'Beetroot': ('Short', 'Medium'),\n",
    "    'Cauliflower': ('Short', 'Medium'),\n",
    "    'Mint': ('Short', 'Low'),\n",
    "    'Methi Leaves': ('Short', 'Low'),\n",
    "    'Dill': ('Short', 'Low'),\n",
    "    'Noni': ('Medium', 'Long'),\n",
    "    'Ivygourd': ('Medium', 'Medium'),\n",
    "    'Brinjal': ('Short', 'Medium'),\n",
    "    'Green Fodder': ('Medium', 'Medium'),\n",
    "    'Acacia': ('Tall', 'Long'),\n",
    "    'Arecanut': ('Tall', 'Long'),\n",
    "    'Papaya': ('Medium', 'Long'),\n",
    "    'Chiku': ('Tall', 'Long'),\n",
    "    'Fruits': ('Medium', 'Long'),\n",
    "    'Spinach': ('Short', 'Low'),\n",
    "    'Grapes': ('Medium', 'Long'),\n",
    "    'Fennel': ('Short', 'Low'),\n",
    "    'Capsicum': ('Short', 'Medium'),\n",
    "    'Bittergourd': ('Medium', 'Medium'),\n",
    "    'Mulberry': ('Medium', 'Long'),\n",
    "    'Knolkhol': ('Short', 'Medium'),\n",
    "    'Crossandra': ('Short', 'Medium'),\n",
    "    'Agaves': ('Tall', 'Long'),\n",
    "    'Gladiolus': ('Short', 'Medium'),\n",
    "    'BlackPepper': ('Tall', 'Long'),\n",
    "    'Groundnut': ('Short', 'Long'),\n",
    "    'Barley': ('Short', 'Low'),\n",
    "    'Tuberose': ('Short', 'Medium'),\n",
    "    'Lemon': ('Medium', 'Long'),\n",
    "    'Sugarcane': ('Tall', 'Long'),\n",
    "    'Peas': ('Short', 'Medium'),\n",
    "    'Indigo': ('Medium', 'Medium'),\n",
    "    'China Aster': ('Short', 'Medium'),\n",
    "    'LadyFinger': ('Short', 'Medium'),\n",
    "    'Vegetable Cowpea': ('Short', 'Low'),\n",
    "    'Harimirch': ('Short', 'Low'),\n",
    "    'Dhavana': ('Short', 'Low'),\n",
    "    'Tamarind': ('Tall', 'Long'),\n",
    "    'Turmeric': ('Short', 'Long'),\n",
    "    'Cowpea': ('Short', 'Low'),\n",
    "    'Dolichuous_Bean': ('Medium', 'Medium'),\n",
    "    'Pumpkin': ('Medium', 'Medium'),\n",
    "    'Broccoli': ('Short', 'Medium'),\n",
    "    'Sunflower': ('Medium', 'Medium'),\n",
    "    'Sweet Corn': ('Medium', 'Medium'),\n",
    "    'Rose Wood': ('Tall', 'Long'),\n",
    "    'Baby Corn': ('Medium', 'Low'),\n",
    "    'Ginger': ('Short', 'Long'),\n",
    "    'Sweet Potato': ('Short', 'Long'),\n",
    "    'Shimp Nut': ('Medium', 'Medium'),\n",
    "    'Snakegourd': ('Medium', 'Medium'),\n",
    "    'Pomegranate': ('Medium', 'Long'),\n",
    "    'Jamun': ('Tall', 'Long'),\n",
    "    'Greengram': ('Short', 'Low'),\n",
    "    'Cashewnuts': ('Tall', 'Long'),\n",
    "    'Saffron': ('Short', 'Low'),\n",
    "    'Chive': ('Short', 'Low'),\n",
    "    'Mahagani Tree': ('Tall', 'Long'),\n",
    "    'Casuarina Tree': ('Tall', 'Long'),\n",
    "    'Bluegrapes': ('Medium', 'Long'),\n",
    "    'Jasmine Pubescens': ('Short', 'Medium'),\n",
    "    'Gram': ('Short', 'Low'),\n",
    "    'Grapes Seedless': ('Medium', 'Long'),\n",
    "    'Ashgourd': ('Medium', 'Medium'),\n",
    "    'Nigerseed': ('Short', 'Low'),\n",
    "    'Jackfruit': ('Tall', 'Long'),\n",
    "    'Sandalwood': ('Tall', 'Long'),\n",
    "    'Linseed': ('Short', 'Low'),\n",
    "    'Curry Leaves': ('Short', 'Low'),\n",
    "    'Wheat': ('Short', 'Low'),\n",
    "    'Mustard': ('Short', 'Low'),\n",
    "    'Maize': ('Medium', 'Medium'),\n",
    "    'Sugarcane': ('Tall', 'Long'),\n",
    "    'Lentil': ('Short', 'Medium'),\n",
    "    'Rice': ('Short', 'Medium'),\n",
    "    'Gram': ('Short', 'Low'),\n",
    "    'Garlic': ('Short', 'Medium'),\n",
    "    'Potato': ('Short', 'Medium'),\n",
    "    'Green pea': ('Short', 'Medium'),\n",
    "    'Bersem': ('Short', 'Medium'),\n",
    "    'Coriander': ('Short', 'Low'),\n",
    "}\n",
    "\n",
    "\n",
    "\n",
    "height_mapping = {'Short': 1, 'Medium': 2, 'Tall': 3}\n",
    "duration_mapping = {'Low': 1, 'Medium': 2, 'Long': 3}\n",
    "\n",
    "# Apply the mapping to the DataFrame\n",
    "df[['Height', 'Duration']] = df['Crop_Name'].map(crop_mapping).apply(pd.Series)\n",
    "df['height_numeric'] = df['Height'].map(height_mapping)\n",
    "df['duration_numeric'] = df['Duration'].map(duration_mapping)\n",
    "\n",
    "# Save the updated DataFrame\n",
    "df.to_csv('Katihar/Katihar_5Day.csv', index=False)\n",
    "\n",
    "print(\"File updated successfully.\")\n"
   ]
  },
  {
   "cell_type": "code",
   "execution_count": 14,
   "id": "8365cc1e",
   "metadata": {},
   "outputs": [
    {
     "name": "stdout",
     "output_type": "stream",
     "text": [
      "duration_numeric\n",
      "1    2806\n",
      "2     601\n",
      "3     164\n",
      "Name: count, dtype: int64\n"
     ]
    }
   ],
   "source": [
    "# Load the CSV file\n",
    "df = pd.read_csv(\"Karnataka_Datasets/Agrifield/Agrifield_SAR_NDVI.csv\")  # Replace with your actual file path\n",
    "\n",
    "# Count occurrences of each unique value in 'duration_numeric' column\n",
    "value_counts = df['duration_numeric'].value_counts()\n",
    "\n",
    "# Print the result\n",
    "print(value_counts)"
   ]
  },
  {
   "cell_type": "code",
   "execution_count": 5,
   "id": "e1fc8c74",
   "metadata": {},
   "outputs": [
    {
     "name": "stdout",
     "output_type": "stream",
     "text": [
      "duration_numeric\n",
      "1    2173\n",
      "3    1728\n",
      "2    1183\n",
      "Name: count, dtype: int64\n"
     ]
    }
   ],
   "source": [
    "# Load the CSV file\n",
    "df = pd.read_csv(\"Karnataka_Datasets/Bangalore/SAR_Optical_test.csv\")  # Replace with your actual file path\n",
    "\n",
    "# Count occurrences of each unique value in 'duration_numeric' column\n",
    "value_counts = df['duration_numeric'].value_counts()\n",
    "\n",
    "# Print the result\n",
    "print(value_counts)"
   ]
  },
  {
   "cell_type": "markdown",
   "id": "d554bd3b",
   "metadata": {},
   "source": [
    "# Train Test Split"
   ]
  },
  {
   "cell_type": "code",
   "execution_count": 15,
   "id": "acd71fa1",
   "metadata": {},
   "outputs": [
    {
     "name": "stdout",
     "output_type": "stream",
     "text": [
      "Train and test datasets saved successfully!\n"
     ]
    }
   ],
   "source": [
    "# Load the CSV file\n",
    "df = pd.read_csv(\"Karnataka_Datasets/Bangalore/SAR_With_Height_And_Duration.csv\")\n",
    "\n",
    "# Create empty DataFrames for train and test\n",
    "train_df = pd.DataFrame()\n",
    "test_df = pd.DataFrame()\n",
    "\n",
    "# Perform 80-20 split for each unique Crop_Name\n",
    "for crop in df[\"Crop_Name\"].unique():\n",
    "    crop_data = df[df[\"Crop_Name\"] == crop]  # Filter rows for this crop\n",
    "    train, test = train_test_split(crop_data, test_size=0.2, random_state=42)  # 80-20 split\n",
    "    train_df = pd.concat([train_df, train])  # Append to train DataFrame\n",
    "    test_df = pd.concat([test_df, test])  # Append to test DataFrame\n",
    "\n",
    "# Save the train and test DataFrames\n",
    "train_df.to_csv(\"Karnataka_Datasets/Bangalore/SAR_train.csv\", index=False)\n",
    "test_df.to_csv(\"Karnataka_Datasets/Bangalore/SAR_test.csv\", index=False)\n",
    "\n",
    "print(\"Train and test datasets saved successfully!\")\n"
   ]
  },
  {
   "cell_type": "markdown",
   "id": "e7cfff65",
   "metadata": {},
   "source": [
    "# RENAME NDVI COLUMNS"
   ]
  },
  {
   "cell_type": "code",
   "execution_count": 3,
   "id": "eff41dee",
   "metadata": {},
   "outputs": [
    {
     "name": "stdout",
     "output_type": "stream",
     "text": [
      "Renamed file saved as: Karnataka_Datasets/Bangalore/SAR_Optical_train.csv\n"
     ]
    }
   ],
   "source": [
    "import pandas as pd\n",
    "\n",
    "# Input and output file paths\n",
    "input_file = \"Karnataka_Datasets/Bangalore/SAR_Optical_train.csv\"  # Replace with your actual file path\n",
    "output_file = \"Karnataka_Datasets/Bangalore/SAR_Optical_train.csv\"  # Output file name\n",
    "\n",
    "# Read the CSV file\n",
    "df = pd.read_csv(input_file)\n",
    "\n",
    "# Function to rename columns\n",
    "def rename_columns(col):\n",
    "    if \"_gapfilled_NDVI_lsc\" in col:  # Ensure only matching columns are renamed\n",
    "        parts = col.split(\"_\")  # Split column name by underscores\n",
    "        return f\"NDVI_{parts[0]}\"  # Format as NDVI_Number\n",
    "    return col  # Keep other columns unchanged\n",
    "\n",
    "# Apply renaming to all columns\n",
    "df.columns = [rename_columns(col) for col in df.columns]\n",
    "\n",
    "# Save the modified DataFrame\n",
    "df.to_csv(output_file, index=False)\n",
    "\n",
    "print(f\"Renamed file saved as: {output_file}\")\n"
   ]
  },
  {
   "cell_type": "markdown",
   "id": "7226791a",
   "metadata": {},
   "source": [
    "# VV-VH Plots"
   ]
  },
  {
   "cell_type": "code",
   "execution_count": 10,
   "id": "c1d71e77",
   "metadata": {},
   "outputs": [
    {
     "data": {
      "image/png": "[encoded data removed]",
      "text/plain": [
       "<Figure size 1200x600 with 1 Axes>"
      ]
     },
     "metadata": {},
     "output_type": "display_data"
    },
    {
     "data": {
      "image/png": "[encoded data removed]",
      "text/plain": [
       "<Figure size 1200x600 with 1 Axes>"
      ]
     },
     "metadata": {},
     "output_type": "display_data"
    }
   ],
   "source": [
    "import pandas as pd\n",
    "import matplotlib.pyplot as plt\n",
    "import seaborn as sns\n",
    "\n",
    "# Load your CSV file\n",
    "df = pd.read_csv('Karnataka_Datasets/Bangalore/SAR_Optical_train.csv')\n",
    "\n",
    "# Identify VV and VH columns\n",
    "vv_columns = [col for col in df.columns if col.startswith('VV_')]\n",
    "vh_columns = [col for col in df.columns if col.startswith('VH_')]\n",
    "\n",
    "# Melt the data for VV and VH to long format for box plotting\n",
    "vv_melted = pd.melt(df, id_vars=['Height'], value_vars=vv_columns, var_name='VV_Time', value_name='VV_Value')\n",
    "vh_melted = pd.melt(df, id_vars=['Height'], value_vars=vh_columns, var_name='VH_Time', value_name='VH_Value')\n",
    "\n",
    "# Plot VV Boxplot\n",
    "plt.figure(figsize=(12, 6))\n",
    "sns.boxplot(data=vv_melted, x='Height', y='VV_Value')\n",
    "plt.title('VV Values by Height Class')\n",
    "plt.show()\n",
    "\n",
    "# Plot VH Boxplot\n",
    "plt.figure(figsize=(12, 6))\n",
    "sns.boxplot(data=vh_melted, x='Height', y='VH_Value')\n",
    "plt.title('VH Values by Height Class')\n",
    "plt.show()\n"
   ]
  },
  {
   "cell_type": "code",
   "execution_count": 11,
   "id": "71ea6afa",
   "metadata": {},
   "outputs": [
    {
     "data": {
      "image/png": "[encoded data removed]",
      "text/plain": [
       "<Figure size 1600x1200 with 5 Axes>"
      ]
     },
     "metadata": {},
     "output_type": "display_data"
    },
    {
     "data": {
      "image/png": "[encoded data removed]",
      "text/plain": [
       "<Figure size 1600x1200 with 5 Axes>"
      ]
     },
     "metadata": {},
     "output_type": "display_data"
    }
   ],
   "source": [
    "import pandas as pd\n",
    "import matplotlib.pyplot as plt\n",
    "import seaborn as sns\n",
    "\n",
    "# === Load CSV ===\n",
    "file_path = 'Karnataka_Datasets/Bangalore/SAR_Optical_train.csv'\n",
    "df = pd.read_csv(file_path)\n",
    "\n",
    "# === Identify VV and VH features ===\n",
    "vv_cols = [col for col in df.columns if col.startswith('VV_')]\n",
    "vh_cols = [col for col in df.columns if col.startswith('VH_')]\n",
    "\n",
    "# === Calculate row-wise stats ===\n",
    "row_stats = ['mean', 'median', 'max', 'min', 'std']\n",
    "for stat in row_stats:\n",
    "    df[f'VV_{stat}'] = df[vv_cols].agg(stat, axis=1)\n",
    "    df[f'VH_{stat}'] = df[vh_cols].agg(stat, axis=1)\n",
    "\n",
    "# === Group by Height and calculate stats over row-wise results ===\n",
    "summary_vv = df.groupby('Height')[[f'VV_{s}' for s in row_stats]].agg(row_stats)\n",
    "summary_vh = df.groupby('Height')[[f'VH_{s}' for s in row_stats]].agg(row_stats)\n",
    "\n",
    "# === Plot VV Statistics ===\n",
    "plt.figure(figsize=(16, 12))\n",
    "plt.suptitle('VV Statistics by Height Class', fontsize=16)\n",
    "for i, stat in enumerate(row_stats, 1):\n",
    "    plt.subplot(2, 3, i)\n",
    "    sns.boxplot(x='Height', y=f'VV_{stat}', data=df)\n",
    "    plt.title(f'VV {stat.capitalize()}')\n",
    "    plt.xlabel('Height Class')\n",
    "    plt.ylabel(stat.capitalize())\n",
    "\n",
    "plt.tight_layout()\n",
    "plt.show()\n",
    "\n",
    "# === Plot VH Statistics ===\n",
    "plt.figure(figsize=(16, 12))\n",
    "plt.suptitle('VH Statistics by Height Class', fontsize=16)\n",
    "for i, stat in enumerate(row_stats, 1):\n",
    "    plt.subplot(2, 3, i)\n",
    "    sns.boxplot(x='Height', y=f'VH_{stat}', data=df)\n",
    "    plt.title(f'VH {stat.capitalize()}')\n",
    "    plt.xlabel('Height Class')\n",
    "    plt.ylabel(stat.capitalize())\n",
    "\n",
    "plt.tight_layout()\n",
    "plt.show()\n"
   ]
  },
  {
   "cell_type": "markdown",
   "id": "b96978d6",
   "metadata": {},
   "source": [
    "# Creating Statistics Data"
   ]
  },
  {
   "cell_type": "code",
   "execution_count": 11,
   "id": "d228d00e",
   "metadata": {},
   "outputs": [
    {
     "name": "stdout",
     "output_type": "stream",
     "text": [
      "       latitude  longitude Crop_Name Height Duration  height_numeric  \\\n",
      "0     12.766049  77.765136      Ragi  Short   Medium               1   \n",
      "1     13.156820  77.519172      Ragi  Short   Medium               1   \n",
      "2     12.808336  77.497338      Ragi  Short   Medium               1   \n",
      "3     12.910950  77.732452      Ragi  Short   Medium               1   \n",
      "4     12.758076  77.637523      Ragi  Short   Medium               1   \n",
      "...         ...        ...       ...    ...      ...             ...   \n",
      "5079  12.800631  77.523820     Bajra  Short      Low               1   \n",
      "5080  12.767537  77.741466     Bajra  Short      Low               1   \n",
      "5081  12.865479  77.716389     Wheat  Short   Medium               1   \n",
      "5082  12.841026  77.487563     Wheat  Short   Medium               1   \n",
      "5083  13.057083  77.693425     Wheat  Short   Medium               1   \n",
      "\n",
      "      duration_numeric    VV_mean    VH_mean  VV_median  VH_median    VV_max  \\\n",
      "0                    2 -10.888410 -18.069329 -10.997230 -18.035397 -7.129167   \n",
      "1                    2  -8.996221 -15.051863  -8.535427 -15.323245 -5.188195   \n",
      "2                    2  -7.968263 -15.857449  -8.074857 -15.156221 -4.727941   \n",
      "3                    2  -0.850619 -14.877819  -1.226052 -14.738766  2.346832   \n",
      "4                    2 -12.433717 -17.283322 -12.499467 -17.474646 -8.142659   \n",
      "...                ...        ...        ...        ...        ...       ...   \n",
      "5079                 1 -13.717923 -24.025494 -13.607969 -24.155881 -9.514663   \n",
      "5080                 1  -8.766301 -17.965117  -9.486673 -16.941284 -2.109739   \n",
      "5081                 2  -8.817246 -17.260567  -8.784403 -18.044533 -5.577670   \n",
      "5082                 2 -10.047050 -16.622477  -9.580940 -16.641187 -6.593058   \n",
      "5083                 2  -9.733831 -15.068129  -9.644442 -14.180407 -8.040839   \n",
      "\n",
      "         VH_max     VV_min     VH_min    VV_std    VH_std  \n",
      "0    -13.200213 -14.712840 -22.980160  2.374433  3.394678  \n",
      "1    -10.961857 -15.750825 -19.349829  2.288782  2.390746  \n",
      "2    -13.481353 -10.837089 -20.424711  1.824230  2.026418  \n",
      "3    -11.663582  -3.834967 -19.428213  1.941138  2.422748  \n",
      "4    -13.343275 -16.245294 -21.566391  2.509506  2.515549  \n",
      "...         ...        ...        ...       ...       ...  \n",
      "5079 -18.699828 -20.129071 -33.040188  2.494412  3.871388  \n",
      "5080 -12.532897 -13.339580 -25.787990  3.259784  3.526232  \n",
      "5081 -12.862890 -13.184197 -22.482818  2.188434  2.891859  \n",
      "5082 -13.479998 -16.037597 -19.671803  2.406323  1.856655  \n",
      "5083 -11.752823 -11.474893 -19.237123  0.875424  2.196964  \n",
      "\n",
      "[5084 rows x 17 columns]\n",
      "New CSV with statistics saved as: Karnataka_Datasets/Bangalore/SAR_test_statistics.csv\n"
     ]
    }
   ],
   "source": [
    "import pandas as pd\n",
    "\n",
    "# === Load CSV ===\n",
    "file_path = 'Karnataka_Datasets/Bangalore/SAR_test.csv'\n",
    "df = pd.read_csv(file_path)\n",
    "# === Identify VV and VH features ===\n",
    "vv_cols = [col for col in df.columns if col.startswith('VV_')]\n",
    "vh_cols = [col for col in df.columns if col.startswith('VH_')]\n",
    "\n",
    "# === Calculate row-wise stats ===\n",
    "row_stats = ['mean', 'median', 'max', 'min', 'std']\n",
    "for stat in row_stats:\n",
    "    df[f'VV_{stat}'] = df[vv_cols].agg(stat, axis=1)\n",
    "    df[f'VH_{stat}'] = df[vh_cols].agg(stat, axis=1)\n",
    "\n",
    "# === Drop VV and VH time-series columns ===\n",
    "df.drop(columns=vv_cols + vh_cols, inplace=True)\n",
    "print(df)\n",
    "# === Save to a new CSV ===\n",
    "output_path = 'Karnataka_Datasets/Bangalore/SAR_test_statistics.csv'\n",
    "df.to_csv(output_path, index=False)\n",
    "\n",
    "print(f\"New CSV with statistics saved as: {output_path}\")\n"
   ]
  },
  {
   "cell_type": "code",
   "execution_count": 15,
   "id": "f24698f0",
   "metadata": {},
   "outputs": [
    {
     "name": "stdout",
     "output_type": "stream",
     "text": [
      "Total unique crops: 70\n"
     ]
    }
   ],
   "source": [
    "import pandas as pd\n",
    "\n",
    "# Load the CSV file\n",
    "input_file = \"Karnataka_Datasets/Krishnagiri/Clean/Krishnagiri_With_SAR.csv\"  # Replace with your file path\n",
    "crop_column = \"Crop_Name\"  # Update if your column name is different\n",
    "\n",
    "# Read the CSV\n",
    "df = pd.read_csv(input_file)\n",
    "\n",
    "# Get unique crop names (ignoring NaNs)\n",
    "unique_crops = df[crop_column].dropna().unique()\n",
    "\n",
    "# Print the total count of unique crops\n",
    "total_unique_crops = len(unique_crops)\n",
    "print(f\"Total unique crops: {total_unique_crops}\")\n"
   ]
  },
  {
   "cell_type": "code",
   "execution_count": 18,
   "id": "abf31d0b",
   "metadata": {},
   "outputs": [
    {
     "name": "stdout",
     "output_type": "stream",
     "text": [
      "Filtered data saved to Karnataka_Datasets/Rural/Clean/Rural_Clean_With_SAR.csv\n"
     ]
    }
   ],
   "source": [
    "import pandas as pd\n",
    "\n",
    "# Load the first CSV and extract unique Crop_Names\n",
    "file1 = \"Karnataka_Datasets/Bangalore/SAR_Optical_train.csv\"\n",
    "df1 = pd.read_csv(file1)\n",
    "unique_crops = df1[\"Crop_Name\"].unique().tolist()\n",
    "\n",
    "# Load the second CSV and filter rows based on unique Crop_Names\n",
    "file2 = \"Karnataka_Datasets/Rural/Clean/Rural_With_SAR.csv\"\n",
    "df2 = pd.read_csv(file2)\n",
    "filtered_df = df2[df2[\"Crop_Name\"].isin(unique_crops)]\n",
    "\n",
    "# Save the filtered data to a new CSV\n",
    "output_file = \"Karnataka_Datasets/Rural/Clean/Rural_Clean_With_SAR.csv\"\n",
    "filtered_df.to_csv(output_file, index=False)\n",
    "\n",
    "print(f\"Filtered data saved to {output_file}\")\n"
   ]
  },
  {
   "cell_type": "code",
   "execution_count": 1,
   "id": "05163d34",
   "metadata": {},
   "outputs": [
    {
     "name": "stdout",
     "output_type": "stream",
     "text": [
      "Processed: Bangalore_5Day.csv\n",
      "Processed: Bangalore_Rural_5Day.csv\n",
      "Processed: Krishnagiri_5Day.csv\n",
      "Processed: Ramanagara_5Day.csv\n"
     ]
    }
   ],
   "source": [
    "import os\n",
    "import pandas as pd\n",
    "import ast  # To convert string representation of list to actual list\n",
    "\n",
    "# Define input and output directories\n",
    "input_dir = \"Karnataka_Datasets/District_Data_5Day/\"\n",
    "output_dir = \"Karnataka_Datasets/District_Data_NDVI_5Day/\"\n",
    "\n",
    "# Ensure output directory exists\n",
    "os.makedirs(output_dir, exist_ok=True)\n",
    "\n",
    "# Process each CSV file in the input directory\n",
    "for filename in os.listdir(input_dir):\n",
    "    if filename.endswith(\".csv\"):\n",
    "        file_path = os.path.join(input_dir, filename)\n",
    "        \n",
    "        # Read the CSV file\n",
    "        df = pd.read_csv(file_path)\n",
    "\n",
    "        # Convert NDVI_TimeSeries from string to list (if it's stored as a string)\n",
    "        df['NDVI_TimeSeries'] = df['NDVI_TimeSeries'].apply(ast.literal_eval)\n",
    "\n",
    "        # Expand NDVI_TimeSeries into multiple columns\n",
    "        ndvi_df = pd.DataFrame(df['NDVI_TimeSeries'].tolist(), index=df.index)\n",
    "        ndvi_df.columns = [f'NDVI_{i+1}' for i in range(ndvi_df.shape[1])]\n",
    "\n",
    "        # Merge with original DataFrame (excluding the old NDVI_TimeSeries column)\n",
    "        df = df.drop(columns=['NDVI_TimeSeries']).join(ndvi_df)\n",
    "\n",
    "        # Save the updated CSV file\n",
    "        output_path = os.path.join(output_dir, filename)\n",
    "        df.to_csv(output_path, index=False)\n",
    "\n",
    "        print(f\"Processed: {filename}\")\n"
   ]
  },
  {
   "cell_type": "code",
   "execution_count": 14,
   "id": "eac01d24",
   "metadata": {},
   "outputs": [
    {
     "name": "stdout",
     "output_type": "stream",
     "text": [
      "Flattened data saved successfully!\n"
     ]
    }
   ],
   "source": [
    "import pandas as pd\n",
    "\n",
    "# Load CSV file\n",
    "df = pd.read_csv(\"Karnataka_Datasets/Agrifield_SAR.csv\")\n",
    "\n",
    "# Convert 'date' to datetime format with error handling\n",
    "df['date'] = pd.to_datetime(df['date'], format=\"%d-%m-%Y\", dayfirst=True, errors='coerce')\n",
    "\n",
    "# Filter only the descending orbit data (handling case sensitivity and whitespace)\n",
    "df = df[df['Orbit'].str.strip().str.lower() == 'descending']\n",
    "\n",
    "# Drop rows with missing dates after conversion\n",
    "df = df.dropna(subset=['date'])\n",
    "\n",
    "# Group by Latitude and Longitude\n",
    "grouped = df.groupby(['Latitude', 'Longitude'])\n",
    "\n",
    "# Function to resample and flatten the data\n",
    "def flatten_group(group):\n",
    "    # Resample at a 12-day interval\n",
    "    sampled = group.set_index('date').resample('12D').first().dropna().reset_index()\n",
    "\n",
    "    if sampled.empty:\n",
    "        return None  # Skip empty groups\n",
    "\n",
    "    VV_cols = {f'VV_{i+1}': val for i, val in enumerate(sampled['VV'].values)}\n",
    "    VH_cols = {f'VH_{i+1}': val for i, val in enumerate(sampled['VH'].values)}\n",
    "\n",
    "    return pd.DataFrame([{**{'Latitude': group['Latitude'].iloc[0], 'Longitude': group['Longitude'].iloc[0]}, **VV_cols, **VH_cols}])\n",
    "\n",
    "# Apply function to each group\n",
    "flattened_df = grouped.apply(flatten_group).dropna(how='all')\n",
    "\n",
    "# Reset index and save\n",
    "flattened_df.reset_index(drop=True, inplace=True)\n",
    "flattened_df.to_csv(\"Karnataka_Datasets/Agrifield_SAR_flat.csv\", index=False)\n",
    "\n",
    "print(\"Flattened data saved successfully!\")\n"
   ]
  },
  {
   "cell_type": "code",
   "execution_count": 5,
   "id": "5b40f174",
   "metadata": {},
   "outputs": [
    {
     "name": "stdout",
     "output_type": "stream",
     "text": [
      "Total CSV files found: 12\n",
      "✅ Merged DataFrame Shape: (2452960, 7)\n",
      "Columns in merged DataFrame: Index(['date', 'VV', 'VH', 'Orbit', 'DN', 'latitude', 'longitude'], dtype='object')\n",
      "\n",
      "🔍 Checking raw 'date' values before conversion...\n",
      "['2021-04-08' '2021-04-11' '2021-04-20' '2021-04-23' '2021-05-02'\n",
      " '2021-05-05' '2021-05-14' '2021-05-17' '2021-05-26' '2021-05-29']\n",
      "❌ Failed date conversions: <DatetimeArray>\n",
      "[]\n",
      "Length: 0, dtype: datetime64[ns] (count: 0)\n",
      "✅ Rows after filtering 'descending' orbit: 1372960\n",
      "✅ Unique (latitude, longitude) pairs: 21144\n",
      "✅ Flattened DataFrame Shape: (21144, 39)\n",
      "✅ Flattened data saved successfully to Katihar/Katihar_SAR.csv!\n"
     ]
    }
   ],
   "source": [
    "import os\n",
    "import pandas as pd\n",
    "\n",
    "# ✅ Step 1: Load & Merge CSV Files\n",
    "dir_path = \"Katihar/Processed/SAR/\"\n",
    "output_file = \"Katihar/Katihar_SAR.csv\"\n",
    "\n",
    "# Get all CSV files from the directory\n",
    "all_files = [os.path.join(dir_path, f) for f in os.listdir(dir_path) if f.endswith(\".csv\")]\n",
    "\n",
    "# Read each CSV file into a DataFrame and check for 'DN' column\n",
    "df_list = []\n",
    "for f in all_files:\n",
    "    df = pd.read_csv(f)\n",
    "    if 'DN' not in df.columns:\n",
    "        print(f\"❌ 'DN' column is missing in {f}!\")\n",
    "    df_list.append(df)\n",
    "\n",
    "# Merge the DataFrames\n",
    "merged_df = pd.concat(df_list, ignore_index=True)\n",
    "\n",
    "print(f\"Total CSV files found: {len(all_files)}\")\n",
    "print(f\"✅ Merged DataFrame Shape: {merged_df.shape}\")\n",
    "print(f\"Columns in merged DataFrame: {merged_df.columns}\")\n",
    "\n",
    "# ✅ Step 2: Debug & Fix Date Column\n",
    "print(\"\\n🔍 Checking raw 'date' values before conversion...\")\n",
    "print(merged_df['date'].astype(str).unique()[:10])  # Show sample dates\n",
    "\n",
    "# Clean the date column by removing spaces and junk values\n",
    "merged_df['date'] = merged_df['date'].astype(str).str.strip()  # Remove spaces\n",
    "merged_df = merged_df[~merged_df['date'].isin([\"\", \"NULL\", \"nan\"])]  # Remove junk values\n",
    "\n",
    "# ✅ Step 3: Convert Date with Correct Format\n",
    "merged_df['date'] = pd.to_datetime(merged_df['date'], format=\"%Y-%m-%d\", errors='coerce')\n",
    "\n",
    "# ✅ Debug: Show Failed Conversions\n",
    "failed_dates = merged_df[merged_df['date'].isna()]\n",
    "print(f\"❌ Failed date conversions: {failed_dates['date'].unique()} (count: {len(failed_dates)})\")\n",
    "\n",
    "# ✅ Step 4: Drop Missing Dates\n",
    "merged_df = merged_df.dropna(subset=['date'])\n",
    "\n",
    "# ✅ Step 5: Filter Descending Orbit\n",
    "merged_df['Orbit'] = merged_df['Orbit'].astype(str).str.strip().str.lower()\n",
    "merged_df = merged_df[merged_df['Orbit'] == 'descending']\n",
    "print(f\"✅ Rows after filtering 'descending' orbit: {merged_df.shape[0]}\")\n",
    "\n",
    "# ✅ Step 6: Group by Latitude and Longitude\n",
    "grouped = merged_df.groupby(['latitude', 'longitude'])\n",
    "print(f\"✅ Unique (latitude, longitude) pairs: {grouped.ngroups}\")\n",
    "\n",
    "# ✅ Step 7: Resample & Flatten Function\n",
    "def flatten_group(group):\n",
    "    # Get the first DN value (since it's constant for the group)\n",
    "    DN_value = group['DN'].iloc[0]\n",
    "    \n",
    "    # Resample the VV and VH columns\n",
    "    sampled = group.set_index('date').resample('12D').first().dropna().reset_index()\n",
    "    if sampled.empty:\n",
    "        return None\n",
    "\n",
    "    # Extract VV and VH columns\n",
    "    VV_cols = {f'VV_{i+1}': val for i, val in enumerate(sampled['VV'].values)}\n",
    "    VH_cols = {f'VH_{i+1}': val for i, val in enumerate(sampled['VH'].values)}\n",
    "\n",
    "    # Return a flattened DataFrame with DN only once per group\n",
    "    return pd.DataFrame([{**{'latitude': group['latitude'].iloc[0], 'longitude': group['longitude'].iloc[0], 'DN': DN_value}, \n",
    "                          **VV_cols, **VH_cols}])\n",
    "\n",
    "# ✅ Step 8: Apply Flattening\n",
    "flattened_df = grouped.apply(flatten_group).dropna(how='all')\n",
    "print(f\"✅ Flattened DataFrame Shape: {flattened_df.shape}\")\n",
    "\n",
    "# ✅ Step 9: Save Output\n",
    "flattened_df.reset_index(drop=True, inplace=True)\n",
    "flattened_df.to_csv(output_file, index=False)\n",
    "print(f\"✅ Flattened data saved successfully to {output_file}!\")\n"
   ]
  },
  {
   "cell_type": "code",
   "execution_count": 6,
   "id": "403fb25e",
   "metadata": {},
   "outputs": [
    {
     "name": "stdout",
     "output_type": "stream",
     "text": [
      "✅ Merged DataFrame Shape: (60000, 4)\n",
      "Columns in merged DataFrame: Index(['Latitude', 'Longitude', 'DN', 'NDVI_TimeSeries'], dtype='object')\n",
      "✅ Merged and processed data saved to Katihar/Katihar_NDVI.csv!\n"
     ]
    }
   ],
   "source": [
    "import os\n",
    "import pandas as pd\n",
    "import ast\n",
    "\n",
    "# ✅ Step 1: Load & Merge CSV Files\n",
    "dir_path = \"Katihar/Processed/NDVI/\"  # Set your directory path here\n",
    "output_file = \"Katihar/Katihar_NDVI.csv\"  # Output file name\n",
    "\n",
    "# Get all CSV files from the directory\n",
    "all_files = [os.path.join(dir_path, f) for f in os.listdir(dir_path) if f.endswith(\".csv\")]\n",
    "\n",
    "# Read each CSV file and extract relevant columns\n",
    "df_list = []\n",
    "for f in all_files:\n",
    "    df = pd.read_csv(f)\n",
    "    \n",
    "    # Extract necessary columns\n",
    "    relevant_columns = ['Latitude', 'Longitude', 'DN', 'NDVI_TimeSeries']\n",
    "    if not all(col in df.columns for col in relevant_columns):\n",
    "        print(f\"❌ One or more columns missing in {f}!\")\n",
    "        continue\n",
    "    \n",
    "    # Append the DataFrame to the list\n",
    "    df_list.append(df[relevant_columns])\n",
    "\n",
    "# Merge the DataFrames\n",
    "merged_df = pd.concat(df_list, ignore_index=True)\n",
    "\n",
    "print(f\"✅ Merged DataFrame Shape: {merged_df.shape}\")\n",
    "print(f\"Columns in merged DataFrame: {merged_df.columns}\")\n",
    "\n",
    "# ✅ Step 2: Process NDVI_TimeSeries\n",
    "def process_ndvi_timeseries(ndvi_series):\n",
    "    # Convert the string representation of list into actual list of floats\n",
    "    try:\n",
    "        ndvi_list = ast.literal_eval(ndvi_series)\n",
    "        # Create NDVI_1, NDVI_2, ..., NDVI_n columns\n",
    "        return {f'NDVI_{i+1}': val for i, val in enumerate(ndvi_list)}\n",
    "    except Exception as e:\n",
    "        print(f\"❌ Error processing NDVI_TimeSeries: {e}\")\n",
    "        return {}\n",
    "\n",
    "# Apply processing to each NDVI_TimeSeries and create new columns\n",
    "ndvi_columns = merged_df['NDVI_TimeSeries'].apply(process_ndvi_timeseries)\n",
    "ndvi_df = pd.DataFrame(ndvi_columns.tolist(), index=merged_df.index)\n",
    "\n",
    "# Merge the NDVI columns with the original DataFrame (Latitude, Longitude, DN)\n",
    "final_df = pd.concat([merged_df[['Latitude', 'Longitude', 'DN']], ndvi_df], axis=1)\n",
    "\n",
    "# ✅ Step 3: Save the Final DataFrame to CSV\n",
    "final_df.to_csv(output_file, index=False)\n",
    "print(f\"✅ Merged and processed data saved to {output_file}!\")\n"
   ]
  },
  {
   "cell_type": "code",
   "execution_count": 11,
   "id": "0c191b44",
   "metadata": {},
   "outputs": [
    {
     "name": "stdout",
     "output_type": "stream",
     "text": [
      "✅ Rows with DN == 4 removed, and file saved to Katihar/Katihar_5Day.csv\n"
     ]
    }
   ],
   "source": [
    "import pandas as pd\n",
    "\n",
    "# ✅ Step 1: Load the CSV file\n",
    "input_file = \"Katihar/Katihar_5Day.csv\"  # Replace with the path to your CSV file\n",
    "df = pd.read_csv(input_file)\n",
    "\n",
    "# ✅ Step 2: Remove rows where DN == 4\n",
    "df_filtered = df[df['DN'] != 4]\n",
    "\n",
    "# ✅ Step 3: Save the filtered DataFrame back to the same file\n",
    "df_filtered.to_csv(input_file, index=False)\n",
    "print(f\"✅ Rows with DN == 4 removed, and file saved to {input_file}\")\n"
   ]
  },
  {
   "cell_type": "code",
   "execution_count": 16,
   "id": "fd9c943a",
   "metadata": {},
   "outputs": [
    {
     "name": "stdout",
     "output_type": "stream",
     "text": [
      "Merging completed successfully! ✅\n"
     ]
    }
   ],
   "source": [
    "import pandas as pd\n",
    "\n",
    "# Load both datasets\n",
    "df1 = pd.read_csv(\"Karnataka_Datasets/Agrifield_SAR_flat.csv\")\n",
    "df2 = pd.read_csv(\"Karnataka_Datasets/Agrifield.csv\")\n",
    "\n",
    "# Ensure data types are consistent (rounding to 5 or 6 decimal places)\n",
    "df1['Latitude'] = df1['Latitude'].round(5)\n",
    "df1['Longitude'] = df1['Longitude'].round(5)\n",
    "df2['Latitude'] = df2['Latitude'].round(5)\n",
    "df2['Longitude'] = df2['Longitude'].round(5)\n",
    "\n",
    "# Ensure no extra whitespace\n",
    "df1['Latitude'] = df1['Latitude'].astype(str).str.strip().astype(float)\n",
    "df1['Longitude'] = df1['Longitude'].astype(str).str.strip().astype(float)\n",
    "df2['Latitude'] = df2['Latitude'].astype(str).str.strip().astype(float)\n",
    "df2['Longitude'] = df2['Longitude'].astype(str).str.strip().astype(float)\n",
    "\n",
    "# Merge on Latitude and Longitude\n",
    "merged_df = pd.merge(df1, df2, on=['Latitude', 'Longitude'], how='inner')\n",
    "\n",
    "# Save the merged file\n",
    "merged_df.to_csv(\"Karnataka_Datasets/Agrifield_SAR_flat.csv\", index=False)\n",
    "\n",
    "print(\"Merging completed successfully! ✅\")\n"
   ]
  },
  {
   "cell_type": "code",
   "execution_count": 1,
   "id": "db195168",
   "metadata": {},
   "outputs": [
    {
     "name": "stdout",
     "output_type": "stream",
     "text": [
      "Merging completed successfully! ✅\n"
     ]
    }
   ],
   "source": [
    "import pandas as pd\n",
    "\n",
    "# Load the CSV files\n",
    "df1 = pd.read_csv(\"Karnataka_Datasets/Agrifield/Agrifield_SAR_flat.csv\")\n",
    "df2 = pd.read_csv(\"Karnataka_Datasets/Agrifield/Agrifield_NDVI_flat.csv\")\n",
    "\n",
    "# Ensure data types are consistent (rounding to 5 or 6 decimal places)\n",
    "df1['Latitude'] = df1['Latitude'].round(5)\n",
    "df1['Longitude'] = df1['Longitude'].round(5)\n",
    "df2['Latitude'] = df2['Latitude'].round(5)\n",
    "df2['Longitude'] = df2['Longitude'].round(5)\n",
    "\n",
    "# Ensure no extra whitespace\n",
    "df1['Latitude'] = df1['Latitude'].astype(str).str.strip().astype(float)\n",
    "df1['Longitude'] = df1['Longitude'].astype(str).str.strip().astype(float)\n",
    "df2['Latitude'] = df2['Latitude'].astype(str).str.strip().astype(float)\n",
    "df2['Longitude'] = df2['Longitude'].astype(str).str.strip().astype(float)\n",
    "\n",
    "# Merge on Latitude and Longitude\n",
    "merged_df = pd.merge(df1, df2, on=['Latitude', 'Longitude'], how='inner')\n",
    "\n",
    "# Save the merged file\n",
    "merged_df.to_csv(\"Karnataka_Datasets/Agrifield/Agrifield_SAR_NDVI.csv\", index=False)\n",
    "\n",
    "print(\"Merging completed successfully! ✅\")\n"
   ]
  },
  {
   "cell_type": "code",
   "execution_count": 3,
   "id": "0c6f550b",
   "metadata": {},
   "outputs": [
    {
     "name": "stdout",
     "output_type": "stream",
     "text": [
      "Renaming completed.\n"
     ]
    }
   ],
   "source": [
    "import os\n",
    "import pandas as pd\n",
    "\n",
    "# Directory containing CSV files\n",
    "directory = \"Karnataka_Districts_15Day/\"\n",
    "\n",
    "# Iterate through each CSV file in the directory\n",
    "for file in os.listdir(directory):\n",
    "    if file.endswith(\".csv\"):\n",
    "        file_path = os.path.join(directory, file)\n",
    "        \n",
    "        # Read the CSV file\n",
    "        df = pd.read_csv(file_path)\n",
    "        \n",
    "        # Rename only the columns that match the NDVI pattern\n",
    "        rename_map = {\n",
    "            col: f\"NDVI_{i+1}\" \n",
    "            for i, col in enumerate(sorted([c for c in df.columns if \"_gapfilled_NDVI_lsc\" in c], key=lambda x: int(x.split(\"_\")[0])))\n",
    "        }\n",
    "        \n",
    "        df.rename(columns=rename_map, inplace=True)\n",
    "        \n",
    "        # Save the updated CSV\n",
    "        df.to_csv(file_path, index=False)\n",
    "\n",
    "print(\"Renaming completed.\")\n"
   ]
  },
  {
   "cell_type": "code",
   "execution_count": 6,
   "id": "dce74d2c",
   "metadata": {},
   "outputs": [
    {
     "name": "stdout",
     "output_type": "stream",
     "text": [
      "Column sorting completed.\n"
     ]
    }
   ],
   "source": [
    "import os\n",
    "import pandas as pd\n",
    "import re\n",
    "\n",
    "# Directory containing CSV files\n",
    "directory = \"Karnataka_Districts_15Day/\"\n",
    "\n",
    "# Function to extract the numeric part of column names\n",
    "def extract_number(col):\n",
    "    match = re.search(r'_(\\d+)$', col)\n",
    "    return int(match.group(1)) if match else float('inf')\n",
    "\n",
    "# Iterate through each CSV file in the directory\n",
    "for file in os.listdir(directory):\n",
    "    if file.endswith(\".csv\"):\n",
    "        file_path = os.path.join(directory, file)\n",
    "        \n",
    "        # Read the CSV file\n",
    "        df = pd.read_csv(file_path)\n",
    "        \n",
    "        # Separate columns into categories\n",
    "        ndvi_cols = sorted([col for col in df.columns if col.startswith(\"NDVI_\")], key=extract_number)\n",
    "        vv_cols = sorted([col for col in df.columns if col.startswith(\"VV_\")], key=extract_number)\n",
    "        vh_cols = sorted([col for col in df.columns if col.startswith(\"VH_\")], key=extract_number)\n",
    "        other_cols = [col for col in df.columns if not (col.startswith(\"NDVI_\") or col.startswith(\"VV_\") or col.startswith(\"VH_\"))]\n",
    "        \n",
    "        # New column order: NDVI → VV → VH → Other\n",
    "        sorted_columns = other_cols+ ndvi_cols + vv_cols + vh_cols \n",
    "        \n",
    "        # Reorder DataFrame\n",
    "        df = df[sorted_columns]\n",
    "        \n",
    "        # Save the updated CSV\n",
    "        df.to_csv(file_path, index=False)\n",
    "\n",
    "print(\"Column sorting completed.\")\n"
   ]
  },
  {
   "cell_type": "code",
   "execution_count": null,
   "id": "f240bc75",
   "metadata": {},
   "outputs": [],
   "source": []
  }
 ],
 "metadata": {
  "kernelspec": {
   "display_name": "Python 3 (ipykernel)",
   "language": "python",
   "name": "python3"
  },
  "language_info": {
   "codemirror_mode": {
    "name": "ipython",
    "version": 3
   },
   "file_extension": ".py",
   "mimetype": "text/x-python",
   "name": "python",
   "nbconvert_exporter": "python",
   "pygments_lexer": "ipython3",
   "version": "3.11.7"
  }
 },
 "nbformat": 4,
 "nbformat_minor": 5
}
