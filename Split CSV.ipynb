{
 "cells": [
  {
   "cell_type": "markdown",
   "id": "d03c067c",
   "metadata": {},
   "source": [
    "# DYNAMICALLY SPLIT CSV INTO ANY NUMBER OF PARTS AS PER SIZE"
   ]
  },
  {
   "cell_type": "code",
   "execution_count": 2,
   "id": "288616d5",
   "metadata": {},
   "outputs": [
    {
     "name": "stdout",
     "output_type": "stream",
     "text": [
      "Saved part 1 with 20392 rows.\n",
      "Saved part 2 with 20392 rows.\n",
      "Saved part 3 with 20392 rows.\n",
      "Saved part 4 with 20392 rows.\n",
      "Saved part 5 with 20391 rows.\n",
      "Saved part 6 with 20391 rows.\n",
      "Saved part 7 with 20391 rows.\n",
      "Saved part 8 with 20391 rows.\n"
     ]
    }
   ],
   "source": [
    "import pandas as pd\n",
    "import os\n",
    "\n",
    "# Load your CSV file\n",
    "input_file = \"Karnataka_Datasets/Across/Kharif/Davanagere/Data/SAR/SAR_Clean/Davanagere_SAR_Data_Interpolated.csv\"  # Change this to your actual file name\n",
    "df = pd.read_csv(input_file)\n",
    "\n",
    "# Calculate number of rows per part\n",
    "total_rows = len(df)\n",
    "rows_per_part = total_rows // 8\n",
    "remainder = total_rows % 8\n",
    "\n",
    "# Output directory\n",
    "output_dir = \"Karnataka_Datasets/Across/Kharif/Davanagere/Data/SAR/SAR_Clean/Davanagere_Chunks\"\n",
    "os.makedirs(output_dir, exist_ok=True)\n",
    "\n",
    "start = 0\n",
    "for i in range(8):\n",
    "    end = start + rows_per_part + (1 if i < remainder else 0)  # Distribute remainder\n",
    "    part_df = df.iloc[start:end]\n",
    "    part_df.to_csv(f\"{output_dir}/part_{i+1}.csv\", index=False)\n",
    "    print(f\"Saved part {i+1} with {len(part_df)} rows.\")\n",
    "    start = end\n"
   ]
  }
 ],
 "metadata": {
  "kernelspec": {
   "display_name": "Python 3 (ipykernel)",
   "language": "python",
   "name": "python3"
  },
  "language_info": {
   "codemirror_mode": {
    "name": "ipython",
    "version": 3
   },
   "file_extension": ".py",
   "mimetype": "text/x-python",
   "name": "python",
   "nbconvert_exporter": "python",
   "pygments_lexer": "ipython3",
   "version": "3.11.7"
  }
 },
 "nbformat": 4,
 "nbformat_minor": 5
}
