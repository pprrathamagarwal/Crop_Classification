{
 "cells": [
  {
   "cell_type": "code",
   "execution_count": 30,
   "id": "f96394f9",
   "metadata": {
    "scrolled": true
   },
   "outputs": [
    {
     "name": "stdout",
     "output_type": "stream",
     "text": [
      "Saved: ndvi_plots\\NDVI_Bajra.png\n",
      "Saved: ndvi_plots\\NDVI_Paddy.png\n",
      "Saved: ndvi_plots\\NDVI_Potato.png\n",
      "Saved: ndvi_plots\\NDVI_Ragi.png\n",
      "Saved: ndvi_plots\\NDVI_Wheat.png\n",
      "Saved: ndvi_plots\\NDVI_Jowar.png\n",
      "Saved: ndvi_plots\\NDVI_Maize.png\n",
      "Saved: ndvi_plots\\NDVI_Redgram.png\n",
      "Saved: ndvi_plots\\NDVI_Banana.png\n",
      "Saved: ndvi_plots\\NDVI_Coconut.png\n"
     ]
    }
   ],
   "source": [
    "import pandas as pd\n",
    "import numpy as np\n",
    "import matplotlib.pyplot as plt\n",
    "import os\n",
    "# Load your data\n",
    "df_12 = pd.read_csv(\"Karnataka_Districts_15Day_Common_Crops/Bangalore_Common.csv\")\n",
    "df_37 = pd.read_csv(\"Karnataka_Districts_5Day_Common_Crops/Bangalore.csv\")\n",
    "\n",
    "\n",
    "\n",
    "# Convert Latitude & Longitude to float and round for consistency\n",
    "df_12[\"Latitude\"] = df_12[\"Latitude\"].astype(float).round(5)\n",
    "df_12[\"Longitude\"] = df_12[\"Longitude\"].astype(float).round(5)\n",
    "\n",
    "df_37[\"Latitude\"] = df_37[\"Latitude\"].astype(float).round(5)\n",
    "df_37[\"Longitude\"] = df_37[\"Longitude\"].astype(float).round(5)\n",
    "\n",
    "# Define NDVI columns\n",
    "ndvi_cols_12 = [f\"NDVI_{i}\" for i in range(1, 13)]\n",
    "ndvi_cols_37 = [f\"NDVI_{i}\" for i in range(1, 38)]\n",
    "\n",
    "# Get unique crops\n",
    "unique_crops = df_12[\"Crop_Name\"].unique()\n",
    "\n",
    "# Create output directory\n",
    "output_dir = \"ndvi_plots\"\n",
    "os.makedirs(output_dir, exist_ok=True)\n",
    "\n",
    "for crop_name in unique_crops:\n",
    "    # Filter for the specific crop\n",
    "    crop_df_12 = df_12[df_12[\"Crop_Name\"] == crop_name]\n",
    "\n",
    "    # Randomly sample one point\n",
    "    sampled_point = crop_df_12.sample(1, random_state=42)\n",
    "    lat, lon = sampled_point.iloc[0][\"Latitude\"], sampled_point.iloc[0][\"Longitude\"]\n",
    "\n",
    "    # Get matching row in df_37\n",
    "    matched_df_37 = df_37[(df_37[\"Latitude\"] == lat) & (df_37[\"Longitude\"] == lon) & (df_37[\"Crop_Name\"] == crop_name)]\n",
    "\n",
    "    if matched_df_37.empty:\n",
    "        print(f\"No matching data for {crop_name}\")\n",
    "        continue  # Skip if no match found\n",
    "\n",
    "    # Extract NDVI values\n",
    "    ndvi_values_12 = sampled_point[ndvi_cols_12].values.flatten()\n",
    "    ndvi_values_37 = matched_df_37[ndvi_cols_37].values.flatten()\n",
    "\n",
    "    # Time intervals\n",
    "    days_12 = np.arange(1, 13) * 15  # Fortnight intervals\n",
    "    days_37 = np.arange(1, 38) * 5   # 5-day intervals\n",
    "\n",
    "    # Plot\n",
    "    plt.figure(figsize=(8, 5))\n",
    "    plt.plot(days_12, ndvi_values_12, marker=\"o\", linestyle=\"-\", label=\"Fortnight (12 points)\", color=\"b\")\n",
    "    plt.plot(days_37, ndvi_values_37, marker=\"s\", linestyle=\"--\", label=\"5-day (37 points)\", color=\"r\")\n",
    "\n",
    "    plt.title(f\"NDVI Comparison for {crop_name}\")\n",
    "    plt.xlabel(\"Days from April 1\")\n",
    "    plt.ylabel(\"NDVI\")\n",
    "    plt.legend()\n",
    "    plt.grid(True)\n",
    "\n",
    "    # Save image\n",
    "    file_path = os.path.join(output_dir, f\"NDVI_{crop_name}.png\")\n",
    "    plt.savefig(file_path)\n",
    "    plt.close()\n",
    "\n",
    "    print(f\"Saved: {file_path}\")"
   ]
  },
  {
   "cell_type": "code",
   "execution_count": null,
   "id": "e5fbcefa",
   "metadata": {},
   "outputs": [],
   "source": []
  }
 ],
 "metadata": {
  "kernelspec": {
   "display_name": "Python 3 (ipykernel)",
   "language": "python",
   "name": "python3"
  },
  "language_info": {
   "codemirror_mode": {
    "name": "ipython",
    "version": 3
   },
   "file_extension": ".py",
   "mimetype": "text/x-python",
   "name": "python",
   "nbconvert_exporter": "python",
   "pygments_lexer": "ipython3",
   "version": "3.11.7"
  }
 },
 "nbformat": 4,
 "nbformat_minor": 5
}
