{
 "cells": [
  {
   "cell_type": "markdown",
   "id": "074cd643",
   "metadata": {},
   "source": [
    "# Filtering Common Crops"
   ]
  },
  {
   "cell_type": "code",
   "execution_count": 2,
   "id": "05fb9dfe",
   "metadata": {},
   "outputs": [],
   "source": [
    "import os\n",
    "import pandas as pd\n",
    "\n",
    "def filter_csv_files(input_dir, output_dir, crops):\n",
    "    # Create the output directory if it doesn't exist\n",
    "    os.makedirs(output_dir, exist_ok=True)\n",
    "    \n",
    "    # Iterate over all CSV files in the input directory\n",
    "    for file in os.listdir(input_dir):\n",
    "        if file.endswith(\".csv\"):\n",
    "            input_path = os.path.join(input_dir, file)\n",
    "            output_path = os.path.join(output_dir, file)\n",
    "            \n",
    "            # Read the CSV file\n",
    "            df = pd.read_csv(input_path)\n",
    "            \n",
    "            # Filter rows where Crop_Name is in the list of crops\n",
    "            df_filtered = df[df['Crop_Name'].isin(crops)]\n",
    "            \n",
    "            # Save the filtered data to the new directory\n",
    "            df_filtered.to_csv(output_path, index=False)\n",
    "\n",
    "# Define the list of crops to keep\n",
    "crop_list = [\"Bajra\", \"Banana\", \"Coconut\", \"Jowar\", \"Maize\", \"Paddy\", \"Potato\", \"Ragi\", \"Redgram\", \"Wheat\"]\n",
    "\n",
    "# Set the input and output directories\n",
    "input_directory = \"Karnataka_Districts_15Day/\"  # Replace with actual input directory\n",
    "output_directory = \"Karnataka_Districts_15Day_Common_Crops/\"  # Replace with actual output directory\n",
    "\n",
    "# Run the function\n",
    "filter_csv_files(input_directory, output_directory, crop_list)\n"
   ]
  },
  {
   "cell_type": "code",
   "execution_count": null,
   "id": "f55e737f",
   "metadata": {},
   "outputs": [],
   "source": []
  }
 ],
 "metadata": {
  "kernelspec": {
   "display_name": "Python 3 (ipykernel)",
   "language": "python",
   "name": "python3"
  },
  "language_info": {
   "codemirror_mode": {
    "name": "ipython",
    "version": 3
   },
   "file_extension": ".py",
   "mimetype": "text/x-python",
   "name": "python",
   "nbconvert_exporter": "python",
   "pygments_lexer": "ipython3",
   "version": "3.11.7"
  }
 },
 "nbformat": 4,
 "nbformat_minor": 5
}
