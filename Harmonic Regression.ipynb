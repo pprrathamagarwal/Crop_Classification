{
 "cells": [
  {
   "cell_type": "code",
   "execution_count": 3,
   "id": "148892ad",
   "metadata": {},
   "outputs": [],
   "source": [
    "import pandas as pd\n",
    "import numpy as np\n",
    "from scipy.optimize import curve_fit\n",
    "\n",
    "# 3-harmonic model definition\n",
    "def harmonic_3(t, a0, a1, b1, a2, b2, a3, b3):\n",
    "    T = len(t)\n",
    "    return (\n",
    "        a0\n",
    "        + a1 * np.sin(2 * np.pi * 1 * t / T) + b1 * np.cos(2 * np.pi * 1 * t / T)\n",
    "        + a2 * np.sin(2 * np.pi * 2 * t / T) + b2 * np.cos(2 * np.pi * 2 * t / T)\n",
    "        + a3 * np.sin(2 * np.pi * 3 * t / T) + b3 * np.cos(2 * np.pi * 3 * t / T)\n",
    "    )\n",
    "\n",
    "# Load data\n",
    "df = pd.read_csv(\"Karnataka_Datasets/Across/Clean/Bangalore_train_height_duration_structure_train.csv\")\n",
    "\n",
    "# Time vector from VV columns\n",
    "vv_cols = [col for col in df.columns if col.startswith(\"VV_\")]\n",
    "vh_cols = [col for col in df.columns if col.startswith(\"VH_\")]\n",
    "t = np.arange(1, len(vv_cols) + 1)\n",
    "\n",
    "# Metadata columns to retain\n",
    "meta_cols = ['Crop_Name', 'Height', 'height_numeric', 'Structure',\n",
    "             'Structure_Numeric', 'Duration', 'duration_numeric']\n",
    "\n",
    "# Lists to hold results\n",
    "results = []\n",
    "\n",
    "# Iterate row-wise and fit harmonics\n",
    "for idx, row in df.iterrows():\n",
    "    try:\n",
    "        vv_vals = row[vv_cols].astype(float).values\n",
    "        vh_vals = row[vh_cols].astype(float).values\n",
    "\n",
    "        vv_params, _ = curve_fit(harmonic_3, t, vv_vals, maxfev=10000)\n",
    "        vh_params, _ = curve_fit(harmonic_3, t, vh_vals, maxfev=10000)\n",
    "\n",
    "    except Exception as e:\n",
    "        print(f\"Row {idx} failed: {e}\")\n",
    "        vv_params = [np.nan] * 7\n",
    "        vh_params = [np.nan] * 7\n",
    "\n",
    "    # Combine metadata + fitted coefficients\n",
    "    combined_row = list(row[meta_cols]) + list(vv_params) + list(vh_params)\n",
    "    results.append(combined_row)\n",
    "\n",
    "# Column names for the result\n",
    "vv_coef_cols = [f'VV_{p}' for p in ['a0', 'a1', 'b1', 'a2', 'b2', 'a3', 'b3']]\n",
    "vh_coef_cols = [f'VH_{p}' for p in ['a0', 'a1', 'b1', 'a2', 'b2', 'a3', 'b3']]\n",
    "result_cols = meta_cols + vv_coef_cols + vh_coef_cols\n",
    "\n",
    "# Create final DataFrame\n",
    "result_df = pd.DataFrame(results, columns=result_cols)\n",
    "\n",
    "# Save to CSV\n",
    "result_df.to_csv(\"Karnataka_Datasets/Across/Clean/Bangalore_train_height_duration_structure_train_harmonic.csv\", index=False)\n"
   ]
  },
  {
   "cell_type": "code",
   "execution_count": null,
   "id": "b9968e29",
   "metadata": {},
   "outputs": [],
   "source": []
  }
 ],
 "metadata": {
  "kernelspec": {
   "display_name": "Python 3 (ipykernel)",
   "language": "python",
   "name": "python3"
  },
  "language_info": {
   "codemirror_mode": {
    "name": "ipython",
    "version": 3
   },
   "file_extension": ".py",
   "mimetype": "text/x-python",
   "name": "python",
   "nbconvert_exporter": "python",
   "pygments_lexer": "ipython3",
   "version": "3.11.7"
  }
 },
 "nbformat": 4,
 "nbformat_minor": 5
}
