{
 "cells": [
  {
   "cell_type": "markdown",
   "id": "1b2b48ff",
   "metadata": {},
   "source": [
    "# All Imports"
   ]
  },
  {
   "cell_type": "code",
   "execution_count": null,
   "id": "7e20f3d7",
   "metadata": {},
   "outputs": [],
   "source": [
    "import numpy as np\n",
    "import os\n",
    "import pandas as pd"
   ]
  },
  {
   "cell_type": "markdown",
   "id": "f9a2c1b2",
   "metadata": {},
   "source": [
    "### Remove Fallow and Unnecessary Crops, also Crops with Count < 100"
   ]
  },
  {
   "cell_type": "code",
   "execution_count": 4,
   "id": "b28b363f",
   "metadata": {},
   "outputs": [
    {
     "name": "stdout",
     "output_type": "stream",
     "text": [
      "Filtering complete.\n"
     ]
    }
   ],
   "source": [
    "\n",
    "# Set your directory path\n",
    "directory = \"Karnataka_Datasets/Across/Kharif/Mandya/CSVs/data/\"  # Change this to your actual path\n",
    "\n",
    "# Define substrings to filter out\n",
    "excluded_substrings = ['nursery', 'harvest', 'fallow', 'ratun']\n",
    "\n",
    "for filename in os.listdir(directory):\n",
    "    if filename.endswith(\".csv\"):\n",
    "        filepath = os.path.join(directory, filename)\n",
    "        df = pd.read_csv(filepath)\n",
    "\n",
    "        if 'Crop_Name' not in df.columns:\n",
    "            continue  # Skip files without 'Crop_Name'\n",
    "\n",
    "        # Remove rows with NaN Crop_Name\n",
    "        df = df[df['Crop_Name'].notna()]\n",
    "\n",
    "        # Remove rows containing unwanted substrings (case-insensitive)\n",
    "        mask = df['Crop_Name'].str.lower().str.contains('|'.join(excluded_substrings))\n",
    "        df = df[~mask]\n",
    "\n",
    "        # Remove classes with < 100 samples\n",
    "        crop_counts = df['Crop_Name'].value_counts()\n",
    "        valid_crops = crop_counts[crop_counts >= 100].index\n",
    "        df = df[df['Crop_Name'].isin(valid_crops)]\n",
    "\n",
    "        # Save cleaned data back to the same file\n",
    "        df.to_csv(filepath, index=False)\n",
    "\n",
    "print(\"Filtering complete.\")"
   ]
  }
 ],
 "metadata": {
  "kernelspec": {
   "display_name": "Python 3 (ipykernel)",
   "language": "python",
   "name": "python3"
  },
  "language_info": {
   "codemirror_mode": {
    "name": "ipython",
    "version": 3
   },
   "file_extension": ".py",
   "mimetype": "text/x-python",
   "name": "python",
   "nbconvert_exporter": "python",
   "pygments_lexer": "ipython3",
   "version": "3.11.7"
  }
 },
 "nbformat": 4,
 "nbformat_minor": 5
}
